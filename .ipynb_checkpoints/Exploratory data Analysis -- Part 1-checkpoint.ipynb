{
 "cells": [
  {
   "cell_type": "markdown",
   "metadata": {},
   "source": [
    "# **Ford GoBike System Data project**"
   ]
  },
  {
   "cell_type": "markdown",
   "metadata": {},
   "source": [
    "## Data Wrangling\n",
    "1. Importing libraries\n",
    "2. [Gather](#Gather)\n",
    "3. Assess\n",
    "4. [Clean](#cell22)\n",
    "5. [Exploration](#cell78)\n",
    "### \n",
    "* [Univariate Exploration](#cell89)\n",
    "* [Bivariate Exploration](#cell132)\n",
    "* [Multivariate Exploration](#cell175)"
   ]
  },
  {
   "cell_type": "markdown",
   "metadata": {},
   "source": [
    "Importing Libraries"
   ]
  },
  {
   "cell_type": "code",
   "execution_count": 2,
   "metadata": {},
   "outputs": [],
   "source": [
    "import numpy as np\n",
    "import pandas as pd\n",
    "import matplotlib.pyplot as plt\n",
    "import seaborn as sns"
   ]
  },
  {
   "cell_type": "markdown",
   "metadata": {},
   "source": [
    "### Step 1: Gather <a id=\"Gather\"></a>"
   ]
  },
  {
   "cell_type": "markdown",
   "metadata": {},
   "source": [
    "<a id=\"cell2\"></a>"
   ]
  },
  {
   "cell_type": "code",
   "execution_count": 3,
   "metadata": {},
   "outputs": [],
   "source": [
    "df = pd.read_csv(r'C:\\Users\\ilesanmi\\Desktop\\Udacity\\Vis Proj\\201902-fordgobike-tripdata.csv')"
   ]
  },
  {
   "cell_type": "markdown",
   "metadata": {},
   "source": [
    "## Step 2: Assess"
   ]
  },
  {
   "cell_type": "markdown",
   "metadata": {},
   "source": [
    "#### Used spreadsheet for visual assessment"
   ]
  },
  {
   "cell_type": "code",
   "execution_count": 4,
   "metadata": {},
   "outputs": [
    {
     "data": {
      "text/html": [
       "<div>\n",
       "<style scoped>\n",
       "    .dataframe tbody tr th:only-of-type {\n",
       "        vertical-align: middle;\n",
       "    }\n",
       "\n",
       "    .dataframe tbody tr th {\n",
       "        vertical-align: top;\n",
       "    }\n",
       "\n",
       "    .dataframe thead th {\n",
       "        text-align: right;\n",
       "    }\n",
       "</style>\n",
       "<table border=\"1\" class=\"dataframe\">\n",
       "  <thead>\n",
       "    <tr style=\"text-align: right;\">\n",
       "      <th></th>\n",
       "      <th>duration_sec</th>\n",
       "      <th>start_time</th>\n",
       "      <th>end_time</th>\n",
       "      <th>start_station_id</th>\n",
       "      <th>start_station_name</th>\n",
       "      <th>start_station_latitude</th>\n",
       "      <th>start_station_longitude</th>\n",
       "      <th>end_station_id</th>\n",
       "      <th>end_station_name</th>\n",
       "      <th>end_station_latitude</th>\n",
       "      <th>end_station_longitude</th>\n",
       "      <th>bike_id</th>\n",
       "      <th>user_type</th>\n",
       "      <th>member_birth_year</th>\n",
       "      <th>member_gender</th>\n",
       "      <th>bike_share_for_all_trip</th>\n",
       "    </tr>\n",
       "  </thead>\n",
       "  <tbody>\n",
       "    <tr>\n",
       "      <th>0</th>\n",
       "      <td>52185</td>\n",
       "      <td>2019-02-28 17:32:10.1450</td>\n",
       "      <td>2019-03-01 08:01:55.9750</td>\n",
       "      <td>21.0</td>\n",
       "      <td>Montgomery St BART Station (Market St at 2nd St)</td>\n",
       "      <td>37.789625</td>\n",
       "      <td>-122.400811</td>\n",
       "      <td>13.0</td>\n",
       "      <td>Commercial St at Montgomery St</td>\n",
       "      <td>37.794231</td>\n",
       "      <td>-122.402923</td>\n",
       "      <td>4902</td>\n",
       "      <td>Customer</td>\n",
       "      <td>1984.0</td>\n",
       "      <td>Male</td>\n",
       "      <td>No</td>\n",
       "    </tr>\n",
       "    <tr>\n",
       "      <th>1</th>\n",
       "      <td>42521</td>\n",
       "      <td>2019-02-28 18:53:21.7890</td>\n",
       "      <td>2019-03-01 06:42:03.0560</td>\n",
       "      <td>23.0</td>\n",
       "      <td>The Embarcadero at Steuart St</td>\n",
       "      <td>37.791464</td>\n",
       "      <td>-122.391034</td>\n",
       "      <td>81.0</td>\n",
       "      <td>Berry St at 4th St</td>\n",
       "      <td>37.775880</td>\n",
       "      <td>-122.393170</td>\n",
       "      <td>2535</td>\n",
       "      <td>Customer</td>\n",
       "      <td>NaN</td>\n",
       "      <td>NaN</td>\n",
       "      <td>No</td>\n",
       "    </tr>\n",
       "    <tr>\n",
       "      <th>2</th>\n",
       "      <td>61854</td>\n",
       "      <td>2019-02-28 12:13:13.2180</td>\n",
       "      <td>2019-03-01 05:24:08.1460</td>\n",
       "      <td>86.0</td>\n",
       "      <td>Market St at Dolores St</td>\n",
       "      <td>37.769305</td>\n",
       "      <td>-122.426826</td>\n",
       "      <td>3.0</td>\n",
       "      <td>Powell St BART Station (Market St at 4th St)</td>\n",
       "      <td>37.786375</td>\n",
       "      <td>-122.404904</td>\n",
       "      <td>5905</td>\n",
       "      <td>Customer</td>\n",
       "      <td>1972.0</td>\n",
       "      <td>Male</td>\n",
       "      <td>No</td>\n",
       "    </tr>\n",
       "  </tbody>\n",
       "</table>\n",
       "</div>"
      ],
      "text/plain": [
       "   duration_sec                start_time                  end_time  \\\n",
       "0         52185  2019-02-28 17:32:10.1450  2019-03-01 08:01:55.9750   \n",
       "1         42521  2019-02-28 18:53:21.7890  2019-03-01 06:42:03.0560   \n",
       "2         61854  2019-02-28 12:13:13.2180  2019-03-01 05:24:08.1460   \n",
       "\n",
       "   start_station_id                                start_station_name  \\\n",
       "0              21.0  Montgomery St BART Station (Market St at 2nd St)   \n",
       "1              23.0                     The Embarcadero at Steuart St   \n",
       "2              86.0                           Market St at Dolores St   \n",
       "\n",
       "   start_station_latitude  start_station_longitude  end_station_id  \\\n",
       "0               37.789625              -122.400811            13.0   \n",
       "1               37.791464              -122.391034            81.0   \n",
       "2               37.769305              -122.426826             3.0   \n",
       "\n",
       "                               end_station_name  end_station_latitude  \\\n",
       "0                Commercial St at Montgomery St             37.794231   \n",
       "1                            Berry St at 4th St             37.775880   \n",
       "2  Powell St BART Station (Market St at 4th St)             37.786375   \n",
       "\n",
       "   end_station_longitude  bike_id user_type  member_birth_year member_gender  \\\n",
       "0            -122.402923     4902  Customer             1984.0          Male   \n",
       "1            -122.393170     2535  Customer                NaN           NaN   \n",
       "2            -122.404904     5905  Customer             1972.0          Male   \n",
       "\n",
       "  bike_share_for_all_trip  \n",
       "0                      No  \n",
       "1                      No  \n",
       "2                      No  "
      ]
     },
     "execution_count": 4,
     "metadata": {},
     "output_type": "execute_result"
    }
   ],
   "source": [
    "df.head(3)"
   ]
  },
  {
   "cell_type": "code",
   "execution_count": 5,
   "metadata": {},
   "outputs": [
    {
     "name": "stdout",
     "output_type": "stream",
     "text": [
      "<class 'pandas.core.frame.DataFrame'>\n",
      "RangeIndex: 183412 entries, 0 to 183411\n",
      "Data columns (total 16 columns):\n",
      " #   Column                   Non-Null Count   Dtype  \n",
      "---  ------                   --------------   -----  \n",
      " 0   duration_sec             183412 non-null  int64  \n",
      " 1   start_time               183412 non-null  object \n",
      " 2   end_time                 183412 non-null  object \n",
      " 3   start_station_id         183215 non-null  float64\n",
      " 4   start_station_name       183215 non-null  object \n",
      " 5   start_station_latitude   183412 non-null  float64\n",
      " 6   start_station_longitude  183412 non-null  float64\n",
      " 7   end_station_id           183215 non-null  float64\n",
      " 8   end_station_name         183215 non-null  object \n",
      " 9   end_station_latitude     183412 non-null  float64\n",
      " 10  end_station_longitude    183412 non-null  float64\n",
      " 11  bike_id                  183412 non-null  int64  \n",
      " 12  user_type                183412 non-null  object \n",
      " 13  member_birth_year        175147 non-null  float64\n",
      " 14  member_gender            175147 non-null  object \n",
      " 15  bike_share_for_all_trip  183412 non-null  object \n",
      "dtypes: float64(7), int64(2), object(7)\n",
      "memory usage: 22.4+ MB\n"
     ]
    }
   ],
   "source": [
    "df.info()"
   ]
  },
  {
   "cell_type": "code",
   "execution_count": 6,
   "metadata": {},
   "outputs": [
    {
     "data": {
      "text/plain": [
       "0         1984.0\n",
       "1            NaN\n",
       "2         1972.0\n",
       "3         1989.0\n",
       "4         1974.0\n",
       "           ...  \n",
       "183407    1996.0\n",
       "183408    1984.0\n",
       "183409    1990.0\n",
       "183410    1988.0\n",
       "183411    1989.0\n",
       "Name: member_birth_year, Length: 183412, dtype: float64"
      ]
     },
     "execution_count": 6,
     "metadata": {},
     "output_type": "execute_result"
    }
   ],
   "source": [
    "df.member_birth_year"
   ]
  },
  {
   "cell_type": "code",
   "execution_count": 7,
   "metadata": {},
   "outputs": [
    {
     "data": {
      "text/plain": [
       "(183412, 16)"
      ]
     },
     "execution_count": 7,
     "metadata": {},
     "output_type": "execute_result"
    }
   ],
   "source": [
    "df.shape"
   ]
  },
  {
   "cell_type": "code",
   "execution_count": 8,
   "metadata": {},
   "outputs": [
    {
     "data": {
      "text/plain": [
       "Subscriber    163544\n",
       "Customer       19868\n",
       "Name: user_type, dtype: int64"
      ]
     },
     "execution_count": 8,
     "metadata": {},
     "output_type": "execute_result"
    }
   ],
   "source": [
    "df.user_type.value_counts()"
   ]
  },
  {
   "cell_type": "code",
   "execution_count": 9,
   "metadata": {},
   "outputs": [
    {
     "data": {
      "text/plain": [
       "Male      130651\n",
       "Female     40844\n",
       "Other       3652\n",
       "Name: member_gender, dtype: int64"
      ]
     },
     "execution_count": 9,
     "metadata": {},
     "output_type": "execute_result"
    }
   ],
   "source": [
    "df.member_gender.value_counts()"
   ]
  },
  {
   "cell_type": "markdown",
   "metadata": {},
   "source": [
    "## Quality\n",
    "\n",
    "1. start time, end_time should be in date-time format\n",
    "2. start_station_id, end_station_id, bike_id should be object datatype \n",
    "3. member_birth_year should be an int not float\n",
    "4. inconsistent decimal place of the longitudes and latitudes\n",
    "\n",
    "5. creating an age column\n",
    "6.  start_station_id, start_station_name, end_station_id, end_station_name, member_birth_year, member_gender have missing datas\n",
    "7. missing member birth year\n",
    "8. member birth year 1878 is an outlier\n",
    "9. add a column that changes duration_sec column to realtime\n",
    "10. the member_age 119 should be 19 --- igored cause there are quite a good number of age above 100 as shown below"
   ]
  },
  {
   "cell_type": "code",
   "execution_count": null,
   "metadata": {},
   "outputs": [],
   "source": []
  },
  {
   "cell_type": "code",
   "execution_count": 10,
   "metadata": {},
   "outputs": [
    {
     "data": {
      "text/html": [
       "<div>\n",
       "<style scoped>\n",
       "    .dataframe tbody tr th:only-of-type {\n",
       "        vertical-align: middle;\n",
       "    }\n",
       "\n",
       "    .dataframe tbody tr th {\n",
       "        vertical-align: top;\n",
       "    }\n",
       "\n",
       "    .dataframe thead th {\n",
       "        text-align: right;\n",
       "    }\n",
       "</style>\n",
       "<table border=\"1\" class=\"dataframe\">\n",
       "  <thead>\n",
       "    <tr style=\"text-align: right;\">\n",
       "      <th></th>\n",
       "      <th>duration_sec</th>\n",
       "      <th>start_time</th>\n",
       "      <th>end_time</th>\n",
       "      <th>start_station_id</th>\n",
       "      <th>start_station_name</th>\n",
       "      <th>start_station_latitude</th>\n",
       "      <th>start_station_longitude</th>\n",
       "      <th>end_station_id</th>\n",
       "      <th>end_station_name</th>\n",
       "      <th>end_station_latitude</th>\n",
       "      <th>end_station_longitude</th>\n",
       "      <th>bike_id</th>\n",
       "      <th>user_type</th>\n",
       "      <th>member_birth_year</th>\n",
       "      <th>member_gender</th>\n",
       "      <th>bike_share_for_all_trip</th>\n",
       "    </tr>\n",
       "  </thead>\n",
       "  <tbody>\n",
       "    <tr>\n",
       "      <th>30963</th>\n",
       "      <td>616</td>\n",
       "      <td>2019-02-24 17:53:12.7000</td>\n",
       "      <td>2019-02-24 18:03:29.0300</td>\n",
       "      <td>26.0</td>\n",
       "      <td>1st St at Folsom St</td>\n",
       "      <td>37.787290</td>\n",
       "      <td>-122.394380</td>\n",
       "      <td>10.0</td>\n",
       "      <td>Washington St at Kearny St</td>\n",
       "      <td>37.795393</td>\n",
       "      <td>-122.404770</td>\n",
       "      <td>5849</td>\n",
       "      <td>Subscriber</td>\n",
       "      <td>1985.0</td>\n",
       "      <td>Male</td>\n",
       "      <td>No</td>\n",
       "    </tr>\n",
       "    <tr>\n",
       "      <th>116377</th>\n",
       "      <td>670</td>\n",
       "      <td>2019-02-12 07:48:42.3720</td>\n",
       "      <td>2019-02-12 07:59:53.1580</td>\n",
       "      <td>195.0</td>\n",
       "      <td>Bay Pl at Vernon St</td>\n",
       "      <td>37.812314</td>\n",
       "      <td>-122.260779</td>\n",
       "      <td>175.0</td>\n",
       "      <td>49th St at Telegraph Ave</td>\n",
       "      <td>37.835946</td>\n",
       "      <td>-122.262366</td>\n",
       "      <td>5512</td>\n",
       "      <td>Subscriber</td>\n",
       "      <td>1980.0</td>\n",
       "      <td>Female</td>\n",
       "      <td>No</td>\n",
       "    </tr>\n",
       "    <tr>\n",
       "      <th>38530</th>\n",
       "      <td>955</td>\n",
       "      <td>2019-02-23 11:39:35.5610</td>\n",
       "      <td>2019-02-23 11:55:30.9820</td>\n",
       "      <td>3.0</td>\n",
       "      <td>Powell St BART Station (Market St at 4th St)</td>\n",
       "      <td>37.786375</td>\n",
       "      <td>-122.404904</td>\n",
       "      <td>15.0</td>\n",
       "      <td>San Francisco Ferry Building (Harry Bridges Pl...</td>\n",
       "      <td>37.795392</td>\n",
       "      <td>-122.394203</td>\n",
       "      <td>5555</td>\n",
       "      <td>Customer</td>\n",
       "      <td>1964.0</td>\n",
       "      <td>Male</td>\n",
       "      <td>No</td>\n",
       "    </tr>\n",
       "  </tbody>\n",
       "</table>\n",
       "</div>"
      ],
      "text/plain": [
       "        duration_sec                start_time                  end_time  \\\n",
       "30963            616  2019-02-24 17:53:12.7000  2019-02-24 18:03:29.0300   \n",
       "116377           670  2019-02-12 07:48:42.3720  2019-02-12 07:59:53.1580   \n",
       "38530            955  2019-02-23 11:39:35.5610  2019-02-23 11:55:30.9820   \n",
       "\n",
       "        start_station_id                            start_station_name  \\\n",
       "30963               26.0                           1st St at Folsom St   \n",
       "116377             195.0                           Bay Pl at Vernon St   \n",
       "38530                3.0  Powell St BART Station (Market St at 4th St)   \n",
       "\n",
       "        start_station_latitude  start_station_longitude  end_station_id  \\\n",
       "30963                37.787290              -122.394380            10.0   \n",
       "116377               37.812314              -122.260779           175.0   \n",
       "38530                37.786375              -122.404904            15.0   \n",
       "\n",
       "                                         end_station_name  \\\n",
       "30963                          Washington St at Kearny St   \n",
       "116377                           49th St at Telegraph Ave   \n",
       "38530   San Francisco Ferry Building (Harry Bridges Pl...   \n",
       "\n",
       "        end_station_latitude  end_station_longitude  bike_id   user_type  \\\n",
       "30963              37.795393            -122.404770     5849  Subscriber   \n",
       "116377             37.835946            -122.262366     5512  Subscriber   \n",
       "38530              37.795392            -122.394203     5555    Customer   \n",
       "\n",
       "        member_birth_year member_gender bike_share_for_all_trip  \n",
       "30963              1985.0          Male                      No  \n",
       "116377             1980.0        Female                      No  \n",
       "38530              1964.0          Male                      No  "
      ]
     },
     "execution_count": 10,
     "metadata": {},
     "output_type": "execute_result"
    }
   ],
   "source": [
    "df.sample(3)"
   ]
  },
  {
   "cell_type": "code",
   "execution_count": 11,
   "metadata": {},
   "outputs": [
    {
     "name": "stdout",
     "output_type": "stream",
     "text": [
      "<class 'pandas.core.frame.DataFrame'>\n",
      "RangeIndex: 183412 entries, 0 to 183411\n",
      "Data columns (total 16 columns):\n",
      " #   Column                   Non-Null Count   Dtype  \n",
      "---  ------                   --------------   -----  \n",
      " 0   duration_sec             183412 non-null  int64  \n",
      " 1   start_time               183412 non-null  object \n",
      " 2   end_time                 183412 non-null  object \n",
      " 3   start_station_id         183215 non-null  float64\n",
      " 4   start_station_name       183215 non-null  object \n",
      " 5   start_station_latitude   183412 non-null  float64\n",
      " 6   start_station_longitude  183412 non-null  float64\n",
      " 7   end_station_id           183215 non-null  float64\n",
      " 8   end_station_name         183215 non-null  object \n",
      " 9   end_station_latitude     183412 non-null  float64\n",
      " 10  end_station_longitude    183412 non-null  float64\n",
      " 11  bike_id                  183412 non-null  int64  \n",
      " 12  user_type                183412 non-null  object \n",
      " 13  member_birth_year        175147 non-null  float64\n",
      " 14  member_gender            175147 non-null  object \n",
      " 15  bike_share_for_all_trip  183412 non-null  object \n",
      "dtypes: float64(7), int64(2), object(7)\n",
      "memory usage: 22.4+ MB\n"
     ]
    }
   ],
   "source": [
    "df.info()"
   ]
  },
  {
   "cell_type": "code",
   "execution_count": 12,
   "metadata": {},
   "outputs": [
    {
     "data": {
      "text/html": [
       "<div>\n",
       "<style scoped>\n",
       "    .dataframe tbody tr th:only-of-type {\n",
       "        vertical-align: middle;\n",
       "    }\n",
       "\n",
       "    .dataframe tbody tr th {\n",
       "        vertical-align: top;\n",
       "    }\n",
       "\n",
       "    .dataframe thead th {\n",
       "        text-align: right;\n",
       "    }\n",
       "</style>\n",
       "<table border=\"1\" class=\"dataframe\">\n",
       "  <thead>\n",
       "    <tr style=\"text-align: right;\">\n",
       "      <th></th>\n",
       "      <th>duration_sec</th>\n",
       "      <th>start_station_id</th>\n",
       "      <th>start_station_latitude</th>\n",
       "      <th>start_station_longitude</th>\n",
       "      <th>end_station_id</th>\n",
       "      <th>end_station_latitude</th>\n",
       "      <th>end_station_longitude</th>\n",
       "      <th>bike_id</th>\n",
       "      <th>member_birth_year</th>\n",
       "    </tr>\n",
       "  </thead>\n",
       "  <tbody>\n",
       "    <tr>\n",
       "      <th>count</th>\n",
       "      <td>183412.000000</td>\n",
       "      <td>183215.000000</td>\n",
       "      <td>183412.000000</td>\n",
       "      <td>183412.000000</td>\n",
       "      <td>183215.000000</td>\n",
       "      <td>183412.000000</td>\n",
       "      <td>183412.000000</td>\n",
       "      <td>183412.000000</td>\n",
       "      <td>175147.000000</td>\n",
       "    </tr>\n",
       "    <tr>\n",
       "      <th>mean</th>\n",
       "      <td>726.078435</td>\n",
       "      <td>138.590427</td>\n",
       "      <td>37.771223</td>\n",
       "      <td>-122.352664</td>\n",
       "      <td>136.249123</td>\n",
       "      <td>37.771427</td>\n",
       "      <td>-122.352250</td>\n",
       "      <td>4472.906375</td>\n",
       "      <td>1984.806437</td>\n",
       "    </tr>\n",
       "    <tr>\n",
       "      <th>std</th>\n",
       "      <td>1794.389780</td>\n",
       "      <td>111.778864</td>\n",
       "      <td>0.099581</td>\n",
       "      <td>0.117097</td>\n",
       "      <td>111.515131</td>\n",
       "      <td>0.099490</td>\n",
       "      <td>0.116673</td>\n",
       "      <td>1664.383394</td>\n",
       "      <td>10.116689</td>\n",
       "    </tr>\n",
       "    <tr>\n",
       "      <th>min</th>\n",
       "      <td>61.000000</td>\n",
       "      <td>3.000000</td>\n",
       "      <td>37.317298</td>\n",
       "      <td>-122.453704</td>\n",
       "      <td>3.000000</td>\n",
       "      <td>37.317298</td>\n",
       "      <td>-122.453704</td>\n",
       "      <td>11.000000</td>\n",
       "      <td>1878.000000</td>\n",
       "    </tr>\n",
       "    <tr>\n",
       "      <th>25%</th>\n",
       "      <td>325.000000</td>\n",
       "      <td>47.000000</td>\n",
       "      <td>37.770083</td>\n",
       "      <td>-122.412408</td>\n",
       "      <td>44.000000</td>\n",
       "      <td>37.770407</td>\n",
       "      <td>-122.411726</td>\n",
       "      <td>3777.000000</td>\n",
       "      <td>1980.000000</td>\n",
       "    </tr>\n",
       "    <tr>\n",
       "      <th>50%</th>\n",
       "      <td>514.000000</td>\n",
       "      <td>104.000000</td>\n",
       "      <td>37.780760</td>\n",
       "      <td>-122.398285</td>\n",
       "      <td>100.000000</td>\n",
       "      <td>37.781010</td>\n",
       "      <td>-122.398279</td>\n",
       "      <td>4958.000000</td>\n",
       "      <td>1987.000000</td>\n",
       "    </tr>\n",
       "    <tr>\n",
       "      <th>75%</th>\n",
       "      <td>796.000000</td>\n",
       "      <td>239.000000</td>\n",
       "      <td>37.797280</td>\n",
       "      <td>-122.286533</td>\n",
       "      <td>235.000000</td>\n",
       "      <td>37.797320</td>\n",
       "      <td>-122.288045</td>\n",
       "      <td>5502.000000</td>\n",
       "      <td>1992.000000</td>\n",
       "    </tr>\n",
       "    <tr>\n",
       "      <th>max</th>\n",
       "      <td>85444.000000</td>\n",
       "      <td>398.000000</td>\n",
       "      <td>37.880222</td>\n",
       "      <td>-121.874119</td>\n",
       "      <td>398.000000</td>\n",
       "      <td>37.880222</td>\n",
       "      <td>-121.874119</td>\n",
       "      <td>6645.000000</td>\n",
       "      <td>2001.000000</td>\n",
       "    </tr>\n",
       "  </tbody>\n",
       "</table>\n",
       "</div>"
      ],
      "text/plain": [
       "        duration_sec  start_station_id  start_station_latitude  \\\n",
       "count  183412.000000     183215.000000           183412.000000   \n",
       "mean      726.078435        138.590427               37.771223   \n",
       "std      1794.389780        111.778864                0.099581   \n",
       "min        61.000000          3.000000               37.317298   \n",
       "25%       325.000000         47.000000               37.770083   \n",
       "50%       514.000000        104.000000               37.780760   \n",
       "75%       796.000000        239.000000               37.797280   \n",
       "max     85444.000000        398.000000               37.880222   \n",
       "\n",
       "       start_station_longitude  end_station_id  end_station_latitude  \\\n",
       "count            183412.000000   183215.000000         183412.000000   \n",
       "mean               -122.352664      136.249123             37.771427   \n",
       "std                   0.117097      111.515131              0.099490   \n",
       "min                -122.453704        3.000000             37.317298   \n",
       "25%                -122.412408       44.000000             37.770407   \n",
       "50%                -122.398285      100.000000             37.781010   \n",
       "75%                -122.286533      235.000000             37.797320   \n",
       "max                -121.874119      398.000000             37.880222   \n",
       "\n",
       "       end_station_longitude        bike_id  member_birth_year  \n",
       "count          183412.000000  183412.000000      175147.000000  \n",
       "mean             -122.352250    4472.906375        1984.806437  \n",
       "std                 0.116673    1664.383394          10.116689  \n",
       "min              -122.453704      11.000000        1878.000000  \n",
       "25%              -122.411726    3777.000000        1980.000000  \n",
       "50%              -122.398279    4958.000000        1987.000000  \n",
       "75%              -122.288045    5502.000000        1992.000000  \n",
       "max              -121.874119    6645.000000        2001.000000  "
      ]
     },
     "execution_count": 12,
     "metadata": {},
     "output_type": "execute_result"
    }
   ],
   "source": [
    "df.describe()"
   ]
  },
  {
   "cell_type": "markdown",
   "metadata": {},
   "source": [
    "## Step 3: Clean <a id=\"cell22\"></a>"
   ]
  },
  {
   "cell_type": "markdown",
   "metadata": {},
   "source": [
    "#### Define:"
   ]
  },
  {
   "cell_type": "markdown",
   "metadata": {},
   "source": [
    "#### 7. missing member birth year\n",
    "i'll be needing the the member_birth_age column to deal with age of riders. Hence the need to replace it by the mean birth year (approximate mean)"
   ]
  },
  {
   "cell_type": "markdown",
   "metadata": {},
   "source": [
    "### code:"
   ]
  },
  {
   "cell_type": "code",
   "execution_count": 13,
   "metadata": {},
   "outputs": [
    {
     "data": {
      "text/plain": [
       "count    175147.000000\n",
       "mean       1984.806437\n",
       "std          10.116689\n",
       "min        1878.000000\n",
       "25%        1980.000000\n",
       "50%        1987.000000\n",
       "75%        1992.000000\n",
       "max        2001.000000\n",
       "Name: member_birth_year, dtype: float64"
      ]
     },
     "execution_count": 13,
     "metadata": {},
     "output_type": "execute_result"
    }
   ],
   "source": [
    "df['member_birth_year'].describe()"
   ]
  },
  {
   "cell_type": "code",
   "execution_count": 14,
   "metadata": {},
   "outputs": [],
   "source": [
    "df['member_birth_year'].fillna(value = 1985, inplace=True)"
   ]
  },
  {
   "cell_type": "markdown",
   "metadata": {},
   "source": [
    "### Test:"
   ]
  },
  {
   "cell_type": "code",
   "execution_count": 15,
   "metadata": {},
   "outputs": [
    {
     "data": {
      "text/plain": [
       "count    183412.000000\n",
       "mean       1984.815159\n",
       "std           9.886200\n",
       "min        1878.000000\n",
       "25%        1981.000000\n",
       "50%        1987.000000\n",
       "75%        1992.000000\n",
       "max        2001.000000\n",
       "Name: member_birth_year, dtype: float64"
      ]
     },
     "execution_count": 15,
     "metadata": {},
     "output_type": "execute_result"
    }
   ],
   "source": [
    "df['member_birth_year'].describe()"
   ]
  },
  {
   "cell_type": "markdown",
   "metadata": {},
   "source": [
    "#### Define\n",
    "8. Remove the birth year 1878"
   ]
  },
  {
   "cell_type": "markdown",
   "metadata": {},
   "source": [
    "#### Code:"
   ]
  },
  {
   "cell_type": "code",
   "execution_count": 16,
   "metadata": {},
   "outputs": [
    {
     "data": {
      "text/html": [
       "<div>\n",
       "<style scoped>\n",
       "    .dataframe tbody tr th:only-of-type {\n",
       "        vertical-align: middle;\n",
       "    }\n",
       "\n",
       "    .dataframe tbody tr th {\n",
       "        vertical-align: top;\n",
       "    }\n",
       "\n",
       "    .dataframe thead th {\n",
       "        text-align: right;\n",
       "    }\n",
       "</style>\n",
       "<table border=\"1\" class=\"dataframe\">\n",
       "  <thead>\n",
       "    <tr style=\"text-align: right;\">\n",
       "      <th></th>\n",
       "      <th>duration_sec</th>\n",
       "      <th>start_time</th>\n",
       "      <th>end_time</th>\n",
       "      <th>start_station_id</th>\n",
       "      <th>start_station_name</th>\n",
       "      <th>start_station_latitude</th>\n",
       "      <th>start_station_longitude</th>\n",
       "      <th>end_station_id</th>\n",
       "      <th>end_station_name</th>\n",
       "      <th>end_station_latitude</th>\n",
       "      <th>end_station_longitude</th>\n",
       "      <th>bike_id</th>\n",
       "      <th>user_type</th>\n",
       "      <th>member_birth_year</th>\n",
       "      <th>member_gender</th>\n",
       "      <th>bike_share_for_all_trip</th>\n",
       "    </tr>\n",
       "  </thead>\n",
       "  <tbody>\n",
       "    <tr>\n",
       "      <th>27370</th>\n",
       "      <td>1474</td>\n",
       "      <td>2019-02-25 09:28:42.1610</td>\n",
       "      <td>2019-02-25 09:53:17.0680</td>\n",
       "      <td>15.0</td>\n",
       "      <td>San Francisco Ferry Building (Harry Bridges Pl...</td>\n",
       "      <td>37.795392</td>\n",
       "      <td>-122.394203</td>\n",
       "      <td>386.0</td>\n",
       "      <td>24th St at Bartlett St</td>\n",
       "      <td>37.752105</td>\n",
       "      <td>-122.419724</td>\n",
       "      <td>6436</td>\n",
       "      <td>Customer</td>\n",
       "      <td>1878.0</td>\n",
       "      <td>Female</td>\n",
       "      <td>No</td>\n",
       "    </tr>\n",
       "  </tbody>\n",
       "</table>\n",
       "</div>"
      ],
      "text/plain": [
       "       duration_sec                start_time                  end_time  \\\n",
       "27370          1474  2019-02-25 09:28:42.1610  2019-02-25 09:53:17.0680   \n",
       "\n",
       "       start_station_id                                 start_station_name  \\\n",
       "27370              15.0  San Francisco Ferry Building (Harry Bridges Pl...   \n",
       "\n",
       "       start_station_latitude  start_station_longitude  end_station_id  \\\n",
       "27370               37.795392              -122.394203           386.0   \n",
       "\n",
       "             end_station_name  end_station_latitude  end_station_longitude  \\\n",
       "27370  24th St at Bartlett St             37.752105            -122.419724   \n",
       "\n",
       "       bike_id user_type  member_birth_year member_gender  \\\n",
       "27370     6436  Customer             1878.0        Female   \n",
       "\n",
       "      bike_share_for_all_trip  \n",
       "27370                      No  "
      ]
     },
     "execution_count": 16,
     "metadata": {},
     "output_type": "execute_result"
    }
   ],
   "source": [
    "df[df['member_birth_year'] == 1878]"
   ]
  },
  {
   "cell_type": "code",
   "execution_count": 17,
   "metadata": {},
   "outputs": [],
   "source": [
    "#df = df.drop(df.index[27370], axis = 0,inplace = True)\n",
    "df = df.drop(27370)"
   ]
  },
  {
   "cell_type": "markdown",
   "metadata": {},
   "source": [
    "#### Test:"
   ]
  },
  {
   "cell_type": "code",
   "execution_count": 18,
   "metadata": {},
   "outputs": [
    {
     "data": {
      "text/html": [
       "<div>\n",
       "<style scoped>\n",
       "    .dataframe tbody tr th:only-of-type {\n",
       "        vertical-align: middle;\n",
       "    }\n",
       "\n",
       "    .dataframe tbody tr th {\n",
       "        vertical-align: top;\n",
       "    }\n",
       "\n",
       "    .dataframe thead th {\n",
       "        text-align: right;\n",
       "    }\n",
       "</style>\n",
       "<table border=\"1\" class=\"dataframe\">\n",
       "  <thead>\n",
       "    <tr style=\"text-align: right;\">\n",
       "      <th></th>\n",
       "      <th>duration_sec</th>\n",
       "      <th>start_time</th>\n",
       "      <th>end_time</th>\n",
       "      <th>start_station_id</th>\n",
       "      <th>start_station_name</th>\n",
       "      <th>start_station_latitude</th>\n",
       "      <th>start_station_longitude</th>\n",
       "      <th>end_station_id</th>\n",
       "      <th>end_station_name</th>\n",
       "      <th>end_station_latitude</th>\n",
       "      <th>end_station_longitude</th>\n",
       "      <th>bike_id</th>\n",
       "      <th>user_type</th>\n",
       "      <th>member_birth_year</th>\n",
       "      <th>member_gender</th>\n",
       "      <th>bike_share_for_all_trip</th>\n",
       "    </tr>\n",
       "  </thead>\n",
       "  <tbody>\n",
       "  </tbody>\n",
       "</table>\n",
       "</div>"
      ],
      "text/plain": [
       "Empty DataFrame\n",
       "Columns: [duration_sec, start_time, end_time, start_station_id, start_station_name, start_station_latitude, start_station_longitude, end_station_id, end_station_name, end_station_latitude, end_station_longitude, bike_id, user_type, member_birth_year, member_gender, bike_share_for_all_trip]\n",
       "Index: []"
      ]
     },
     "execution_count": 18,
     "metadata": {},
     "output_type": "execute_result"
    }
   ],
   "source": [
    "df[df['member_birth_year'] == 1878]\n",
    "#df.head()"
   ]
  },
  {
   "cell_type": "code",
   "execution_count": null,
   "metadata": {},
   "outputs": [],
   "source": []
  },
  {
   "cell_type": "markdown",
   "metadata": {},
   "source": [
    "#### Define:\n",
    "1. change start_time column to date-time\n"
   ]
  },
  {
   "cell_type": "markdown",
   "metadata": {},
   "source": [
    "#### Code:"
   ]
  },
  {
   "cell_type": "code",
   "execution_count": 19,
   "metadata": {},
   "outputs": [],
   "source": [
    "df['start_time'] = pd.to_datetime(df['start_time'])\n",
    "df['end_time'] = pd.to_datetime(df['end_time'])\n",
    "\n"
   ]
  },
  {
   "cell_type": "markdown",
   "metadata": {},
   "source": [
    "#### Test:"
   ]
  },
  {
   "cell_type": "code",
   "execution_count": 20,
   "metadata": {},
   "outputs": [
    {
     "name": "stdout",
     "output_type": "stream",
     "text": [
      "<class 'pandas.core.frame.DataFrame'>\n",
      "Int64Index: 183411 entries, 0 to 183411\n",
      "Data columns (total 16 columns):\n",
      " #   Column                   Non-Null Count   Dtype         \n",
      "---  ------                   --------------   -----         \n",
      " 0   duration_sec             183411 non-null  int64         \n",
      " 1   start_time               183411 non-null  datetime64[ns]\n",
      " 2   end_time                 183411 non-null  datetime64[ns]\n",
      " 3   start_station_id         183214 non-null  float64       \n",
      " 4   start_station_name       183214 non-null  object        \n",
      " 5   start_station_latitude   183411 non-null  float64       \n",
      " 6   start_station_longitude  183411 non-null  float64       \n",
      " 7   end_station_id           183214 non-null  float64       \n",
      " 8   end_station_name         183214 non-null  object        \n",
      " 9   end_station_latitude     183411 non-null  float64       \n",
      " 10  end_station_longitude    183411 non-null  float64       \n",
      " 11  bike_id                  183411 non-null  int64         \n",
      " 12  user_type                183411 non-null  object        \n",
      " 13  member_birth_year        183411 non-null  float64       \n",
      " 14  member_gender            175146 non-null  object        \n",
      " 15  bike_share_for_all_trip  183411 non-null  object        \n",
      "dtypes: datetime64[ns](2), float64(7), int64(2), object(5)\n",
      "memory usage: 23.8+ MB\n"
     ]
    }
   ],
   "source": [
    "df.info()"
   ]
  },
  {
   "cell_type": "markdown",
   "metadata": {},
   "source": [
    "### Define:\n",
    "2. changing member_birth_year from float to int"
   ]
  },
  {
   "cell_type": "markdown",
   "metadata": {},
   "source": [
    "#### Code:"
   ]
  },
  {
   "cell_type": "code",
   "execution_count": 21,
   "metadata": {},
   "outputs": [],
   "source": [
    "df.member_birth_year = df.member_birth_year.apply('int64')"
   ]
  },
  {
   "cell_type": "markdown",
   "metadata": {},
   "source": [
    "#### Test:"
   ]
  },
  {
   "cell_type": "code",
   "execution_count": 22,
   "metadata": {},
   "outputs": [
    {
     "name": "stdout",
     "output_type": "stream",
     "text": [
      "<class 'pandas.core.frame.DataFrame'>\n",
      "Int64Index: 183411 entries, 0 to 183411\n",
      "Data columns (total 16 columns):\n",
      " #   Column                   Non-Null Count   Dtype         \n",
      "---  ------                   --------------   -----         \n",
      " 0   duration_sec             183411 non-null  int64         \n",
      " 1   start_time               183411 non-null  datetime64[ns]\n",
      " 2   end_time                 183411 non-null  datetime64[ns]\n",
      " 3   start_station_id         183214 non-null  float64       \n",
      " 4   start_station_name       183214 non-null  object        \n",
      " 5   start_station_latitude   183411 non-null  float64       \n",
      " 6   start_station_longitude  183411 non-null  float64       \n",
      " 7   end_station_id           183214 non-null  float64       \n",
      " 8   end_station_name         183214 non-null  object        \n",
      " 9   end_station_latitude     183411 non-null  float64       \n",
      " 10  end_station_longitude    183411 non-null  float64       \n",
      " 11  bike_id                  183411 non-null  int64         \n",
      " 12  user_type                183411 non-null  object        \n",
      " 13  member_birth_year        183411 non-null  int64         \n",
      " 14  member_gender            175146 non-null  object        \n",
      " 15  bike_share_for_all_trip  183411 non-null  object        \n",
      "dtypes: datetime64[ns](2), float64(6), int64(3), object(5)\n",
      "memory usage: 23.8+ MB\n"
     ]
    }
   ],
   "source": [
    "df.info()"
   ]
  },
  {
   "cell_type": "code",
   "execution_count": 23,
   "metadata": {},
   "outputs": [
    {
     "data": {
      "text/html": [
       "<div>\n",
       "<style scoped>\n",
       "    .dataframe tbody tr th:only-of-type {\n",
       "        vertical-align: middle;\n",
       "    }\n",
       "\n",
       "    .dataframe tbody tr th {\n",
       "        vertical-align: top;\n",
       "    }\n",
       "\n",
       "    .dataframe thead th {\n",
       "        text-align: right;\n",
       "    }\n",
       "</style>\n",
       "<table border=\"1\" class=\"dataframe\">\n",
       "  <thead>\n",
       "    <tr style=\"text-align: right;\">\n",
       "      <th></th>\n",
       "      <th>duration_sec</th>\n",
       "      <th>start_time</th>\n",
       "      <th>end_time</th>\n",
       "      <th>start_station_id</th>\n",
       "      <th>start_station_name</th>\n",
       "      <th>start_station_latitude</th>\n",
       "      <th>start_station_longitude</th>\n",
       "      <th>end_station_id</th>\n",
       "      <th>end_station_name</th>\n",
       "      <th>end_station_latitude</th>\n",
       "      <th>end_station_longitude</th>\n",
       "      <th>bike_id</th>\n",
       "      <th>user_type</th>\n",
       "      <th>member_birth_year</th>\n",
       "      <th>member_gender</th>\n",
       "      <th>bike_share_for_all_trip</th>\n",
       "    </tr>\n",
       "  </thead>\n",
       "  <tbody>\n",
       "    <tr>\n",
       "      <th>167820</th>\n",
       "      <td>412</td>\n",
       "      <td>2019-02-04 16:47:46.378</td>\n",
       "      <td>2019-02-04 16:54:38.386</td>\n",
       "      <td>3.0</td>\n",
       "      <td>Powell St BART Station (Market St at 4th St)</td>\n",
       "      <td>37.786375</td>\n",
       "      <td>-122.404904</td>\n",
       "      <td>67.0</td>\n",
       "      <td>San Francisco Caltrain Station 2  (Townsend St...</td>\n",
       "      <td>37.776639</td>\n",
       "      <td>-122.395526</td>\n",
       "      <td>5264</td>\n",
       "      <td>Subscriber</td>\n",
       "      <td>1965</td>\n",
       "      <td>Male</td>\n",
       "      <td>Yes</td>\n",
       "    </tr>\n",
       "  </tbody>\n",
       "</table>\n",
       "</div>"
      ],
      "text/plain": [
       "        duration_sec              start_time                end_time  \\\n",
       "167820           412 2019-02-04 16:47:46.378 2019-02-04 16:54:38.386   \n",
       "\n",
       "        start_station_id                            start_station_name  \\\n",
       "167820               3.0  Powell St BART Station (Market St at 4th St)   \n",
       "\n",
       "        start_station_latitude  start_station_longitude  end_station_id  \\\n",
       "167820               37.786375              -122.404904            67.0   \n",
       "\n",
       "                                         end_station_name  \\\n",
       "167820  San Francisco Caltrain Station 2  (Townsend St...   \n",
       "\n",
       "        end_station_latitude  end_station_longitude  bike_id   user_type  \\\n",
       "167820             37.776639            -122.395526     5264  Subscriber   \n",
       "\n",
       "        member_birth_year member_gender bike_share_for_all_trip  \n",
       "167820               1965          Male                     Yes  "
      ]
     },
     "execution_count": 23,
     "metadata": {},
     "output_type": "execute_result"
    }
   ],
   "source": [
    "df.sample()"
   ]
  },
  {
   "cell_type": "markdown",
   "metadata": {},
   "source": [
    "#### Define:\n",
    "3. Columns: start_station_id,end_station_id, end_station_id, bike_id should be object and not float"
   ]
  },
  {
   "cell_type": "markdown",
   "metadata": {},
   "source": [
    "#### Code:"
   ]
  },
  {
   "cell_type": "code",
   "execution_count": 24,
   "metadata": {},
   "outputs": [],
   "source": [
    "df[['start_station_id','end_station_id', 'bike_id' ]] = df[['start_station_id','end_station_id', 'bike_id' ]].astype(object)"
   ]
  },
  {
   "cell_type": "markdown",
   "metadata": {},
   "source": [
    "#### Test"
   ]
  },
  {
   "cell_type": "code",
   "execution_count": 25,
   "metadata": {},
   "outputs": [
    {
     "name": "stdout",
     "output_type": "stream",
     "text": [
      "<class 'pandas.core.frame.DataFrame'>\n",
      "Int64Index: 183411 entries, 0 to 183411\n",
      "Data columns (total 16 columns):\n",
      " #   Column                   Non-Null Count   Dtype         \n",
      "---  ------                   --------------   -----         \n",
      " 0   duration_sec             183411 non-null  int64         \n",
      " 1   start_time               183411 non-null  datetime64[ns]\n",
      " 2   end_time                 183411 non-null  datetime64[ns]\n",
      " 3   start_station_id         183214 non-null  object        \n",
      " 4   start_station_name       183214 non-null  object        \n",
      " 5   start_station_latitude   183411 non-null  float64       \n",
      " 6   start_station_longitude  183411 non-null  float64       \n",
      " 7   end_station_id           183214 non-null  object        \n",
      " 8   end_station_name         183214 non-null  object        \n",
      " 9   end_station_latitude     183411 non-null  float64       \n",
      " 10  end_station_longitude    183411 non-null  float64       \n",
      " 11  bike_id                  183411 non-null  object        \n",
      " 12  user_type                183411 non-null  object        \n",
      " 13  member_birth_year        183411 non-null  int64         \n",
      " 14  member_gender            175146 non-null  object        \n",
      " 15  bike_share_for_all_trip  183411 non-null  object        \n",
      "dtypes: datetime64[ns](2), float64(4), int64(2), object(8)\n",
      "memory usage: 23.8+ MB\n"
     ]
    }
   ],
   "source": [
    "df.info()"
   ]
  },
  {
   "cell_type": "code",
   "execution_count": 26,
   "metadata": {},
   "outputs": [
    {
     "data": {
      "text/html": [
       "<div>\n",
       "<style scoped>\n",
       "    .dataframe tbody tr th:only-of-type {\n",
       "        vertical-align: middle;\n",
       "    }\n",
       "\n",
       "    .dataframe tbody tr th {\n",
       "        vertical-align: top;\n",
       "    }\n",
       "\n",
       "    .dataframe thead th {\n",
       "        text-align: right;\n",
       "    }\n",
       "</style>\n",
       "<table border=\"1\" class=\"dataframe\">\n",
       "  <thead>\n",
       "    <tr style=\"text-align: right;\">\n",
       "      <th></th>\n",
       "      <th>duration_sec</th>\n",
       "      <th>start_time</th>\n",
       "      <th>end_time</th>\n",
       "      <th>start_station_id</th>\n",
       "      <th>start_station_name</th>\n",
       "      <th>start_station_latitude</th>\n",
       "      <th>start_station_longitude</th>\n",
       "      <th>end_station_id</th>\n",
       "      <th>end_station_name</th>\n",
       "      <th>end_station_latitude</th>\n",
       "      <th>end_station_longitude</th>\n",
       "      <th>bike_id</th>\n",
       "      <th>user_type</th>\n",
       "      <th>member_birth_year</th>\n",
       "      <th>member_gender</th>\n",
       "      <th>bike_share_for_all_trip</th>\n",
       "    </tr>\n",
       "  </thead>\n",
       "  <tbody>\n",
       "    <tr>\n",
       "      <th>96188</th>\n",
       "      <td>506</td>\n",
       "      <td>2019-02-15 11:10:00.011</td>\n",
       "      <td>2019-02-15 11:18:26.419</td>\n",
       "      <td>61.0</td>\n",
       "      <td>Howard St at 8th St</td>\n",
       "      <td>37.776513</td>\n",
       "      <td>-122.411306</td>\n",
       "      <td>223.0</td>\n",
       "      <td>16th St Mission BART Station 2</td>\n",
       "      <td>37.764765</td>\n",
       "      <td>-122.420091</td>\n",
       "      <td>6471</td>\n",
       "      <td>Subscriber</td>\n",
       "      <td>1975</td>\n",
       "      <td>Male</td>\n",
       "      <td>No</td>\n",
       "    </tr>\n",
       "  </tbody>\n",
       "</table>\n",
       "</div>"
      ],
      "text/plain": [
       "       duration_sec              start_time                end_time  \\\n",
       "96188           506 2019-02-15 11:10:00.011 2019-02-15 11:18:26.419   \n",
       "\n",
       "      start_station_id   start_station_name  start_station_latitude  \\\n",
       "96188             61.0  Howard St at 8th St               37.776513   \n",
       "\n",
       "       start_station_longitude end_station_id                end_station_name  \\\n",
       "96188              -122.411306          223.0  16th St Mission BART Station 2   \n",
       "\n",
       "       end_station_latitude  end_station_longitude bike_id   user_type  \\\n",
       "96188             37.764765            -122.420091    6471  Subscriber   \n",
       "\n",
       "       member_birth_year member_gender bike_share_for_all_trip  \n",
       "96188               1975          Male                      No  "
      ]
     },
     "execution_count": 26,
     "metadata": {},
     "output_type": "execute_result"
    }
   ],
   "source": [
    "df.sample()"
   ]
  },
  {
   "cell_type": "markdown",
   "metadata": {},
   "source": [
    "#### Define:\n",
    "4. Make the decimal place of the longitudes and latitudes column consistent"
   ]
  },
  {
   "cell_type": "markdown",
   "metadata": {},
   "source": [
    "#### Code:"
   ]
  },
  {
   "cell_type": "code",
   "execution_count": 27,
   "metadata": {},
   "outputs": [],
   "source": [
    "df[['start_station_latitude', 'start_station_longitude', 'end_station_latitude', 'end_station_longitude']] = df[['start_station_latitude', 'start_station_longitude', 'end_station_latitude', 'end_station_longitude']].round(5)"
   ]
  },
  {
   "cell_type": "markdown",
   "metadata": {},
   "source": [
    "#### Test:"
   ]
  },
  {
   "cell_type": "code",
   "execution_count": 28,
   "metadata": {},
   "outputs": [
    {
     "data": {
      "text/html": [
       "<div>\n",
       "<style scoped>\n",
       "    .dataframe tbody tr th:only-of-type {\n",
       "        vertical-align: middle;\n",
       "    }\n",
       "\n",
       "    .dataframe tbody tr th {\n",
       "        vertical-align: top;\n",
       "    }\n",
       "\n",
       "    .dataframe thead th {\n",
       "        text-align: right;\n",
       "    }\n",
       "</style>\n",
       "<table border=\"1\" class=\"dataframe\">\n",
       "  <thead>\n",
       "    <tr style=\"text-align: right;\">\n",
       "      <th></th>\n",
       "      <th>start_station_latitude</th>\n",
       "      <th>start_station_longitude</th>\n",
       "      <th>end_station_latitude</th>\n",
       "      <th>end_station_longitude</th>\n",
       "    </tr>\n",
       "  </thead>\n",
       "  <tbody>\n",
       "    <tr>\n",
       "      <th>0</th>\n",
       "      <td>37.78963</td>\n",
       "      <td>-122.40081</td>\n",
       "      <td>37.79423</td>\n",
       "      <td>-122.40292</td>\n",
       "    </tr>\n",
       "    <tr>\n",
       "      <th>1</th>\n",
       "      <td>37.79146</td>\n",
       "      <td>-122.39103</td>\n",
       "      <td>37.77588</td>\n",
       "      <td>-122.39317</td>\n",
       "    </tr>\n",
       "    <tr>\n",
       "      <th>2</th>\n",
       "      <td>37.76931</td>\n",
       "      <td>-122.42683</td>\n",
       "      <td>37.78638</td>\n",
       "      <td>-122.40490</td>\n",
       "    </tr>\n",
       "    <tr>\n",
       "      <th>3</th>\n",
       "      <td>37.77484</td>\n",
       "      <td>-122.44655</td>\n",
       "      <td>37.77331</td>\n",
       "      <td>-122.44429</td>\n",
       "    </tr>\n",
       "    <tr>\n",
       "      <th>4</th>\n",
       "      <td>37.80456</td>\n",
       "      <td>-122.27174</td>\n",
       "      <td>37.79271</td>\n",
       "      <td>-122.24878</td>\n",
       "    </tr>\n",
       "    <tr>\n",
       "      <th>...</th>\n",
       "      <td>...</td>\n",
       "      <td>...</td>\n",
       "      <td>...</td>\n",
       "      <td>...</td>\n",
       "    </tr>\n",
       "    <tr>\n",
       "      <th>183407</th>\n",
       "      <td>37.78806</td>\n",
       "      <td>-122.39186</td>\n",
       "      <td>37.78830</td>\n",
       "      <td>-122.40853</td>\n",
       "    </tr>\n",
       "    <tr>\n",
       "      <th>183408</th>\n",
       "      <td>37.78963</td>\n",
       "      <td>-122.40081</td>\n",
       "      <td>37.77874</td>\n",
       "      <td>-122.39274</td>\n",
       "    </tr>\n",
       "    <tr>\n",
       "      <th>183409</th>\n",
       "      <td>37.33193</td>\n",
       "      <td>-121.90489</td>\n",
       "      <td>37.33366</td>\n",
       "      <td>-121.90859</td>\n",
       "    </tr>\n",
       "    <tr>\n",
       "      <th>183410</th>\n",
       "      <td>37.81135</td>\n",
       "      <td>-122.27342</td>\n",
       "      <td>37.81783</td>\n",
       "      <td>-122.27570</td>\n",
       "    </tr>\n",
       "    <tr>\n",
       "      <th>183411</th>\n",
       "      <td>37.78968</td>\n",
       "      <td>-122.39043</td>\n",
       "      <td>37.78500</td>\n",
       "      <td>-122.39594</td>\n",
       "    </tr>\n",
       "  </tbody>\n",
       "</table>\n",
       "<p>183411 rows × 4 columns</p>\n",
       "</div>"
      ],
      "text/plain": [
       "        start_station_latitude  start_station_longitude  end_station_latitude  \\\n",
       "0                     37.78963               -122.40081              37.79423   \n",
       "1                     37.79146               -122.39103              37.77588   \n",
       "2                     37.76931               -122.42683              37.78638   \n",
       "3                     37.77484               -122.44655              37.77331   \n",
       "4                     37.80456               -122.27174              37.79271   \n",
       "...                        ...                      ...                   ...   \n",
       "183407                37.78806               -122.39186              37.78830   \n",
       "183408                37.78963               -122.40081              37.77874   \n",
       "183409                37.33193               -121.90489              37.33366   \n",
       "183410                37.81135               -122.27342              37.81783   \n",
       "183411                37.78968               -122.39043              37.78500   \n",
       "\n",
       "        end_station_longitude  \n",
       "0                  -122.40292  \n",
       "1                  -122.39317  \n",
       "2                  -122.40490  \n",
       "3                  -122.44429  \n",
       "4                  -122.24878  \n",
       "...                       ...  \n",
       "183407             -122.40853  \n",
       "183408             -122.39274  \n",
       "183409             -121.90859  \n",
       "183410             -122.27570  \n",
       "183411             -122.39594  \n",
       "\n",
       "[183411 rows x 4 columns]"
      ]
     },
     "execution_count": 28,
     "metadata": {},
     "output_type": "execute_result"
    }
   ],
   "source": [
    "df[['start_station_latitude', 'start_station_longitude', 'end_station_latitude', 'end_station_longitude']]"
   ]
  },
  {
   "cell_type": "code",
   "execution_count": null,
   "metadata": {},
   "outputs": [],
   "source": []
  },
  {
   "cell_type": "code",
   "execution_count": 29,
   "metadata": {},
   "outputs": [
    {
     "data": {
      "text/html": [
       "<div>\n",
       "<style scoped>\n",
       "    .dataframe tbody tr th:only-of-type {\n",
       "        vertical-align: middle;\n",
       "    }\n",
       "\n",
       "    .dataframe tbody tr th {\n",
       "        vertical-align: top;\n",
       "    }\n",
       "\n",
       "    .dataframe thead th {\n",
       "        text-align: right;\n",
       "    }\n",
       "</style>\n",
       "<table border=\"1\" class=\"dataframe\">\n",
       "  <thead>\n",
       "    <tr style=\"text-align: right;\">\n",
       "      <th></th>\n",
       "      <th>duration_sec</th>\n",
       "      <th>start_station_latitude</th>\n",
       "      <th>start_station_longitude</th>\n",
       "      <th>end_station_latitude</th>\n",
       "      <th>end_station_longitude</th>\n",
       "      <th>member_birth_year</th>\n",
       "    </tr>\n",
       "  </thead>\n",
       "  <tbody>\n",
       "    <tr>\n",
       "      <th>count</th>\n",
       "      <td>183411.000000</td>\n",
       "      <td>183411.000000</td>\n",
       "      <td>183411.000000</td>\n",
       "      <td>183411.000000</td>\n",
       "      <td>183411.000000</td>\n",
       "      <td>183411.000000</td>\n",
       "    </tr>\n",
       "    <tr>\n",
       "      <th>mean</th>\n",
       "      <td>726.074358</td>\n",
       "      <td>37.771223</td>\n",
       "      <td>-122.352663</td>\n",
       "      <td>37.771427</td>\n",
       "      <td>-122.352249</td>\n",
       "      <td>1984.815742</td>\n",
       "    </tr>\n",
       "    <tr>\n",
       "      <th>std</th>\n",
       "      <td>1794.393822</td>\n",
       "      <td>0.099582</td>\n",
       "      <td>0.117097</td>\n",
       "      <td>0.099490</td>\n",
       "      <td>0.116674</td>\n",
       "      <td>9.883080</td>\n",
       "    </tr>\n",
       "    <tr>\n",
       "      <th>min</th>\n",
       "      <td>61.000000</td>\n",
       "      <td>37.317300</td>\n",
       "      <td>-122.453700</td>\n",
       "      <td>37.317300</td>\n",
       "      <td>-122.453700</td>\n",
       "      <td>1900.000000</td>\n",
       "    </tr>\n",
       "    <tr>\n",
       "      <th>25%</th>\n",
       "      <td>325.000000</td>\n",
       "      <td>37.770080</td>\n",
       "      <td>-122.412410</td>\n",
       "      <td>37.770410</td>\n",
       "      <td>-122.411730</td>\n",
       "      <td>1981.000000</td>\n",
       "    </tr>\n",
       "    <tr>\n",
       "      <th>50%</th>\n",
       "      <td>514.000000</td>\n",
       "      <td>37.780760</td>\n",
       "      <td>-122.398280</td>\n",
       "      <td>37.781010</td>\n",
       "      <td>-122.398280</td>\n",
       "      <td>1987.000000</td>\n",
       "    </tr>\n",
       "    <tr>\n",
       "      <th>75%</th>\n",
       "      <td>796.000000</td>\n",
       "      <td>37.797280</td>\n",
       "      <td>-122.286530</td>\n",
       "      <td>37.797320</td>\n",
       "      <td>-122.288050</td>\n",
       "      <td>1992.000000</td>\n",
       "    </tr>\n",
       "    <tr>\n",
       "      <th>max</th>\n",
       "      <td>85444.000000</td>\n",
       "      <td>37.880220</td>\n",
       "      <td>-121.874120</td>\n",
       "      <td>37.880220</td>\n",
       "      <td>-121.874120</td>\n",
       "      <td>2001.000000</td>\n",
       "    </tr>\n",
       "  </tbody>\n",
       "</table>\n",
       "</div>"
      ],
      "text/plain": [
       "        duration_sec  start_station_latitude  start_station_longitude  \\\n",
       "count  183411.000000           183411.000000            183411.000000   \n",
       "mean      726.074358               37.771223              -122.352663   \n",
       "std      1794.393822                0.099582                 0.117097   \n",
       "min        61.000000               37.317300              -122.453700   \n",
       "25%       325.000000               37.770080              -122.412410   \n",
       "50%       514.000000               37.780760              -122.398280   \n",
       "75%       796.000000               37.797280              -122.286530   \n",
       "max     85444.000000               37.880220              -121.874120   \n",
       "\n",
       "       end_station_latitude  end_station_longitude  member_birth_year  \n",
       "count         183411.000000          183411.000000      183411.000000  \n",
       "mean              37.771427            -122.352249        1984.815742  \n",
       "std                0.099490               0.116674           9.883080  \n",
       "min               37.317300            -122.453700        1900.000000  \n",
       "25%               37.770410            -122.411730        1981.000000  \n",
       "50%               37.781010            -122.398280        1987.000000  \n",
       "75%               37.797320            -122.288050        1992.000000  \n",
       "max               37.880220            -121.874120        2001.000000  "
      ]
     },
     "execution_count": 29,
     "metadata": {},
     "output_type": "execute_result"
    }
   ],
   "source": [
    "df.describe()"
   ]
  },
  {
   "cell_type": "markdown",
   "metadata": {},
   "source": [
    "### Define:\n",
    "5. add an age column -- 2019 - member_birth_year"
   ]
  },
  {
   "cell_type": "markdown",
   "metadata": {},
   "source": [
    "### code:"
   ]
  },
  {
   "cell_type": "code",
   "execution_count": 30,
   "metadata": {},
   "outputs": [],
   "source": [
    "df['member_age'] = 2019 - df['member_birth_year']"
   ]
  },
  {
   "cell_type": "markdown",
   "metadata": {},
   "source": [
    "### Test:"
   ]
  },
  {
   "cell_type": "code",
   "execution_count": 31,
   "metadata": {},
   "outputs": [
    {
     "data": {
      "text/html": [
       "<div>\n",
       "<style scoped>\n",
       "    .dataframe tbody tr th:only-of-type {\n",
       "        vertical-align: middle;\n",
       "    }\n",
       "\n",
       "    .dataframe tbody tr th {\n",
       "        vertical-align: top;\n",
       "    }\n",
       "\n",
       "    .dataframe thead th {\n",
       "        text-align: right;\n",
       "    }\n",
       "</style>\n",
       "<table border=\"1\" class=\"dataframe\">\n",
       "  <thead>\n",
       "    <tr style=\"text-align: right;\">\n",
       "      <th></th>\n",
       "      <th>duration_sec</th>\n",
       "      <th>start_time</th>\n",
       "      <th>end_time</th>\n",
       "      <th>start_station_id</th>\n",
       "      <th>start_station_name</th>\n",
       "      <th>start_station_latitude</th>\n",
       "      <th>start_station_longitude</th>\n",
       "      <th>end_station_id</th>\n",
       "      <th>end_station_name</th>\n",
       "      <th>end_station_latitude</th>\n",
       "      <th>end_station_longitude</th>\n",
       "      <th>bike_id</th>\n",
       "      <th>user_type</th>\n",
       "      <th>member_birth_year</th>\n",
       "      <th>member_gender</th>\n",
       "      <th>bike_share_for_all_trip</th>\n",
       "      <th>member_age</th>\n",
       "    </tr>\n",
       "  </thead>\n",
       "  <tbody>\n",
       "    <tr>\n",
       "      <th>136148</th>\n",
       "      <td>637</td>\n",
       "      <td>2019-02-08 10:24:35.784</td>\n",
       "      <td>2019-02-08 10:35:13.512</td>\n",
       "      <td>42.0</td>\n",
       "      <td>San Francisco City Hall (Polk St at Grove St)</td>\n",
       "      <td>37.77865</td>\n",
       "      <td>-122.41823</td>\n",
       "      <td>121.0</td>\n",
       "      <td>Mission Playground</td>\n",
       "      <td>37.75921</td>\n",
       "      <td>-122.42134</td>\n",
       "      <td>2762</td>\n",
       "      <td>Subscriber</td>\n",
       "      <td>1968</td>\n",
       "      <td>Male</td>\n",
       "      <td>No</td>\n",
       "      <td>51</td>\n",
       "    </tr>\n",
       "  </tbody>\n",
       "</table>\n",
       "</div>"
      ],
      "text/plain": [
       "        duration_sec              start_time                end_time  \\\n",
       "136148           637 2019-02-08 10:24:35.784 2019-02-08 10:35:13.512   \n",
       "\n",
       "       start_station_id                             start_station_name  \\\n",
       "136148             42.0  San Francisco City Hall (Polk St at Grove St)   \n",
       "\n",
       "        start_station_latitude  start_station_longitude end_station_id  \\\n",
       "136148                37.77865               -122.41823          121.0   \n",
       "\n",
       "          end_station_name  end_station_latitude  end_station_longitude  \\\n",
       "136148  Mission Playground              37.75921             -122.42134   \n",
       "\n",
       "       bike_id   user_type  member_birth_year member_gender  \\\n",
       "136148    2762  Subscriber               1968          Male   \n",
       "\n",
       "       bike_share_for_all_trip  member_age  \n",
       "136148                      No          51  "
      ]
     },
     "execution_count": 31,
     "metadata": {},
     "output_type": "execute_result"
    }
   ],
   "source": [
    "df.sample()"
   ]
  },
  {
   "cell_type": "markdown",
   "metadata": {},
   "source": [
    "### Define:\n",
    "6.  start_station_id, start_station_name, end_station_id, end_station_name, member_birth_year, member_gender have missing datas\n",
    "\n",
    "*  drop columns with missing start_station_id as we are only to track those in this particular station. And a missing start_id indicates its not of this StopIteration\n",
    "* I also observed that those same columns had their start_station_name, end_station_id, end_station_name empty... Hence dropping them is okay"
   ]
  },
  {
   "cell_type": "markdown",
   "metadata": {},
   "source": [
    "### Code:"
   ]
  },
  {
   "cell_type": "code",
   "execution_count": 32,
   "metadata": {},
   "outputs": [],
   "source": [
    "df_new = df[df['start_station_id'].isna() == False]\n",
    "#df['start_station_id'].dropna(inplace = True)"
   ]
  },
  {
   "cell_type": "markdown",
   "metadata": {},
   "source": [
    "### Test:"
   ]
  },
  {
   "cell_type": "code",
   "execution_count": 33,
   "metadata": {},
   "outputs": [
    {
     "name": "stdout",
     "output_type": "stream",
     "text": [
      "<class 'pandas.core.frame.DataFrame'>\n",
      "Int64Index: 183214 entries, 0 to 183411\n",
      "Data columns (total 17 columns):\n",
      " #   Column                   Non-Null Count   Dtype         \n",
      "---  ------                   --------------   -----         \n",
      " 0   duration_sec             183214 non-null  int64         \n",
      " 1   start_time               183214 non-null  datetime64[ns]\n",
      " 2   end_time                 183214 non-null  datetime64[ns]\n",
      " 3   start_station_id         183214 non-null  object        \n",
      " 4   start_station_name       183214 non-null  object        \n",
      " 5   start_station_latitude   183214 non-null  float64       \n",
      " 6   start_station_longitude  183214 non-null  float64       \n",
      " 7   end_station_id           183214 non-null  object        \n",
      " 8   end_station_name         183214 non-null  object        \n",
      " 9   end_station_latitude     183214 non-null  float64       \n",
      " 10  end_station_longitude    183214 non-null  float64       \n",
      " 11  bike_id                  183214 non-null  object        \n",
      " 12  user_type                183214 non-null  object        \n",
      " 13  member_birth_year        183214 non-null  int64         \n",
      " 14  member_gender            174951 non-null  object        \n",
      " 15  bike_share_for_all_trip  183214 non-null  object        \n",
      " 16  member_age               183214 non-null  int64         \n",
      "dtypes: datetime64[ns](2), float64(4), int64(3), object(8)\n",
      "memory usage: 25.2+ MB\n"
     ]
    }
   ],
   "source": [
    "df_new.info()"
   ]
  },
  {
   "cell_type": "code",
   "execution_count": 34,
   "metadata": {},
   "outputs": [],
   "source": [
    "#Hence now, only the member gender is missing"
   ]
  },
  {
   "cell_type": "code",
   "execution_count": null,
   "metadata": {},
   "outputs": [],
   "source": []
  },
  {
   "cell_type": "markdown",
   "metadata": {},
   "source": [
    "### Define"
   ]
  },
  {
   "cell_type": "markdown",
   "metadata": {},
   "source": [
    "#### 9. add a column that changes duration_sec column to realtime"
   ]
  },
  {
   "cell_type": "markdown",
   "metadata": {},
   "source": [
    "#### Code:"
   ]
  },
  {
   "cell_type": "code",
   "execution_count": 35,
   "metadata": {},
   "outputs": [],
   "source": [
    "import datetime\n",
    "# df['duration_time'] = str(datetime.timedelta(seconds=df['duration_sec']))\n",
    "\n",
    "# df['duration_time'] = pd.to_datetime(df['duration_time'])\n",
    "\n",
    "def change_to_datetime():\n",
    "    x = []\n",
    "    for i in range(len(df.duration_sec)):\n",
    "        x.append(str(datetime.timedelta(seconds=i)))\n",
    "    #print(x)\n",
    "    try:\n",
    "        df['duration_time'] = x\n",
    "    except:\n",
    "        return None\n",
    "\n",
    "    #to date-time column\n",
    "    try:\n",
    "        df['duration_time'] = pd.to_datetime(df['duration_time'])\n",
    "    except:\n",
    "        return None\n",
    "\n",
    "change_to_datetime()\n",
    "#error cause of the presence of '1 day...'"
   ]
  },
  {
   "cell_type": "markdown",
   "metadata": {},
   "source": [
    "#### Test:"
   ]
  },
  {
   "cell_type": "code",
   "execution_count": 86,
   "metadata": {},
   "outputs": [
    {
     "data": {
      "text/plain": [
       "0                 0:00:00\n",
       "1                 0:00:01\n",
       "2                 0:00:02\n",
       "3                 0:00:03\n",
       "4                 0:00:04\n",
       "               ...       \n",
       "183407    2 days, 2:56:46\n",
       "183408    2 days, 2:56:47\n",
       "183409    2 days, 2:56:48\n",
       "183410    2 days, 2:56:49\n",
       "183411    2 days, 2:56:50\n",
       "Name: duration_time, Length: 183411, dtype: object"
      ]
     },
     "execution_count": 86,
     "metadata": {},
     "output_type": "execute_result"
    }
   ],
   "source": [
    "df.duration_time"
   ]
  },
  {
   "cell_type": "markdown",
   "metadata": {},
   "source": [
    "#sns.countplot(df.duration_time)\n",
    "plt.hist(df.duration_time)"
   ]
  },
  {
   "cell_type": "code",
   "execution_count": null,
   "metadata": {},
   "outputs": [],
   "source": []
  },
  {
   "cell_type": "code",
   "execution_count": 37,
   "metadata": {},
   "outputs": [
    {
     "name": "stdout",
     "output_type": "stream",
     "text": [
      "<class 'pandas.core.frame.DataFrame'>\n",
      "Int64Index: 183411 entries, 0 to 183411\n",
      "Data columns (total 18 columns):\n",
      " #   Column                   Non-Null Count   Dtype         \n",
      "---  ------                   --------------   -----         \n",
      " 0   duration_sec             183411 non-null  int64         \n",
      " 1   start_time               183411 non-null  datetime64[ns]\n",
      " 2   end_time                 183411 non-null  datetime64[ns]\n",
      " 3   start_station_id         183214 non-null  object        \n",
      " 4   start_station_name       183214 non-null  object        \n",
      " 5   start_station_latitude   183411 non-null  float64       \n",
      " 6   start_station_longitude  183411 non-null  float64       \n",
      " 7   end_station_id           183214 non-null  object        \n",
      " 8   end_station_name         183214 non-null  object        \n",
      " 9   end_station_latitude     183411 non-null  float64       \n",
      " 10  end_station_longitude    183411 non-null  float64       \n",
      " 11  bike_id                  183411 non-null  object        \n",
      " 12  user_type                183411 non-null  object        \n",
      " 13  member_birth_year        183411 non-null  int64         \n",
      " 14  member_gender            175146 non-null  object        \n",
      " 15  bike_share_for_all_trip  183411 non-null  object        \n",
      " 16  member_age               183411 non-null  int64         \n",
      " 17  duration_time            183411 non-null  object        \n",
      "dtypes: datetime64[ns](2), float64(4), int64(3), object(9)\n",
      "memory usage: 26.6+ MB\n"
     ]
    }
   ],
   "source": [
    "df.info()"
   ]
  },
  {
   "cell_type": "code",
   "execution_count": null,
   "metadata": {},
   "outputs": [],
   "source": []
  },
  {
   "cell_type": "markdown",
   "metadata": {},
   "source": [
    "# **Exploration** <a id=\"cell78\"></a>"
   ]
  },
  {
   "cell_type": "code",
   "execution_count": 38,
   "metadata": {},
   "outputs": [],
   "source": [
    "df['start_month'] = df['start_time'].apply(lambda time: time.month)\n",
    "#mc = df['start_month_num'].apply(lambda x: calendar.month_abbr[x])\n",
    "\n"
   ]
  },
  {
   "cell_type": "code",
   "execution_count": 39,
   "metadata": {},
   "outputs": [
    {
     "data": {
      "text/plain": [
       "2    183411\n",
       "Name: start_month, dtype: int64"
      ]
     },
     "execution_count": 39,
     "metadata": {},
     "output_type": "execute_result"
    }
   ],
   "source": [
    "df['start_month'].value_counts()\n",
    "\n",
    "#just a month present -- february"
   ]
  },
  {
   "cell_type": "code",
   "execution_count": 40,
   "metadata": {},
   "outputs": [
    {
     "name": "stderr",
     "output_type": "stream",
     "text": [
      "<ipython-input-40-da0e0899ceda>:2: SettingWithCopyWarning: \n",
      "A value is trying to be set on a copy of a slice from a DataFrame.\n",
      "Try using .loc[row_indexer,col_indexer] = value instead\n",
      "\n",
      "See the caveats in the documentation: https://pandas.pydata.org/pandas-docs/stable/user_guide/indexing.html#returning-a-view-versus-a-copy\n",
      "  df_new['start_hour'] = df_new['start_time'].apply(lambda time: time.hour)\n",
      "<ipython-input-40-da0e0899ceda>:3: SettingWithCopyWarning: \n",
      "A value is trying to be set on a copy of a slice from a DataFrame.\n",
      "Try using .loc[row_indexer,col_indexer] = value instead\n",
      "\n",
      "See the caveats in the documentation: https://pandas.pydata.org/pandas-docs/stable/user_guide/indexing.html#returning-a-view-versus-a-copy\n",
      "  df_new['day_time'] = 'morning'\n",
      "<ipython-input-40-da0e0899ceda>:4: SettingWithCopyWarning: \n",
      "A value is trying to be set on a copy of a slice from a DataFrame\n",
      "\n",
      "See the caveats in the documentation: https://pandas.pydata.org/pandas-docs/stable/user_guide/indexing.html#returning-a-view-versus-a-copy\n",
      "  df_new['day_time'][(df_new['start_hour'] >= 12) & (df_new['start_hour'] <= 16)] = 'afternoon'\n",
      "c:\\Users\\ilesanmi\\Anaconda3\\lib\\site-packages\\pandas\\core\\series.py:992: SettingWithCopyWarning: \n",
      "A value is trying to be set on a copy of a slice from a DataFrame\n",
      "\n",
      "See the caveats in the documentation: https://pandas.pydata.org/pandas-docs/stable/user_guide/indexing.html#returning-a-view-versus-a-copy\n",
      "  self._where(~key, value, inplace=True)\n",
      "<ipython-input-40-da0e0899ceda>:5: SettingWithCopyWarning: \n",
      "A value is trying to be set on a copy of a slice from a DataFrame\n",
      "\n",
      "See the caveats in the documentation: https://pandas.pydata.org/pandas-docs/stable/user_guide/indexing.html#returning-a-view-versus-a-copy\n",
      "  df_new['day_time'][(df_new['start_hour'] >= 16) & (df_new['start_hour'] <= 19)] = 'evening'\n",
      "c:\\Users\\ilesanmi\\Anaconda3\\lib\\site-packages\\pandas\\core\\series.py:992: SettingWithCopyWarning: \n",
      "A value is trying to be set on a copy of a slice from a DataFrame\n",
      "\n",
      "See the caveats in the documentation: https://pandas.pydata.org/pandas-docs/stable/user_guide/indexing.html#returning-a-view-versus-a-copy\n",
      "  self._where(~key, value, inplace=True)\n",
      "<ipython-input-40-da0e0899ceda>:7: SettingWithCopyWarning: \n",
      "A value is trying to be set on a copy of a slice from a DataFrame\n",
      "\n",
      "See the caveats in the documentation: https://pandas.pydata.org/pandas-docs/stable/user_guide/indexing.html#returning-a-view-versus-a-copy\n",
      "  df_new['day_time'][(df_new['start_hour'] >= 19) & (df_new['start_hour'] <= 23)] = 'night'\n",
      "c:\\Users\\ilesanmi\\Anaconda3\\lib\\site-packages\\pandas\\core\\series.py:992: SettingWithCopyWarning: \n",
      "A value is trying to be set on a copy of a slice from a DataFrame\n",
      "\n",
      "See the caveats in the documentation: https://pandas.pydata.org/pandas-docs/stable/user_guide/indexing.html#returning-a-view-versus-a-copy\n",
      "  self._where(~key, value, inplace=True)\n"
     ]
    }
   ],
   "source": [
    " # b. morning, afternoon, night of a day\n",
    "df_new['start_hour'] = df_new['start_time'].apply(lambda time: time.hour)\n",
    "df_new['day_time'] = 'morning'\n",
    "df_new['day_time'][(df_new['start_hour'] >= 12) & (df_new['start_hour'] <= 16)] = 'afternoon'\n",
    "df_new['day_time'][(df_new['start_hour'] >= 16) & (df_new['start_hour'] <= 19)] = 'evening'\n",
    "\n",
    "df_new['day_time'][(df_new['start_hour'] >= 19) & (df_new['start_hour'] <= 23)] = 'night'"
   ]
  },
  {
   "cell_type": "code",
   "execution_count": 41,
   "metadata": {},
   "outputs": [
    {
     "data": {
      "text/html": [
       "<div>\n",
       "<style scoped>\n",
       "    .dataframe tbody tr th:only-of-type {\n",
       "        vertical-align: middle;\n",
       "    }\n",
       "\n",
       "    .dataframe tbody tr th {\n",
       "        vertical-align: top;\n",
       "    }\n",
       "\n",
       "    .dataframe thead th {\n",
       "        text-align: right;\n",
       "    }\n",
       "</style>\n",
       "<table border=\"1\" class=\"dataframe\">\n",
       "  <thead>\n",
       "    <tr style=\"text-align: right;\">\n",
       "      <th></th>\n",
       "      <th>duration_sec</th>\n",
       "      <th>start_time</th>\n",
       "      <th>end_time</th>\n",
       "      <th>start_station_id</th>\n",
       "      <th>start_station_name</th>\n",
       "      <th>start_station_latitude</th>\n",
       "      <th>start_station_longitude</th>\n",
       "      <th>end_station_id</th>\n",
       "      <th>end_station_name</th>\n",
       "      <th>end_station_latitude</th>\n",
       "      <th>end_station_longitude</th>\n",
       "      <th>bike_id</th>\n",
       "      <th>user_type</th>\n",
       "      <th>member_birth_year</th>\n",
       "      <th>member_gender</th>\n",
       "      <th>bike_share_for_all_trip</th>\n",
       "      <th>member_age</th>\n",
       "      <th>start_hour</th>\n",
       "      <th>day_time</th>\n",
       "    </tr>\n",
       "  </thead>\n",
       "  <tbody>\n",
       "    <tr>\n",
       "      <th>0</th>\n",
       "      <td>52185</td>\n",
       "      <td>2019-02-28 17:32:10.145</td>\n",
       "      <td>2019-03-01 08:01:55.975</td>\n",
       "      <td>21.0</td>\n",
       "      <td>Montgomery St BART Station (Market St at 2nd St)</td>\n",
       "      <td>37.78963</td>\n",
       "      <td>-122.40081</td>\n",
       "      <td>13.0</td>\n",
       "      <td>Commercial St at Montgomery St</td>\n",
       "      <td>37.79423</td>\n",
       "      <td>-122.40292</td>\n",
       "      <td>4902</td>\n",
       "      <td>Customer</td>\n",
       "      <td>1984</td>\n",
       "      <td>Male</td>\n",
       "      <td>No</td>\n",
       "      <td>35</td>\n",
       "      <td>17</td>\n",
       "      <td>evening</td>\n",
       "    </tr>\n",
       "    <tr>\n",
       "      <th>1</th>\n",
       "      <td>42521</td>\n",
       "      <td>2019-02-28 18:53:21.789</td>\n",
       "      <td>2019-03-01 06:42:03.056</td>\n",
       "      <td>23.0</td>\n",
       "      <td>The Embarcadero at Steuart St</td>\n",
       "      <td>37.79146</td>\n",
       "      <td>-122.39103</td>\n",
       "      <td>81.0</td>\n",
       "      <td>Berry St at 4th St</td>\n",
       "      <td>37.77588</td>\n",
       "      <td>-122.39317</td>\n",
       "      <td>2535</td>\n",
       "      <td>Customer</td>\n",
       "      <td>1985</td>\n",
       "      <td>NaN</td>\n",
       "      <td>No</td>\n",
       "      <td>34</td>\n",
       "      <td>18</td>\n",
       "      <td>evening</td>\n",
       "    </tr>\n",
       "    <tr>\n",
       "      <th>2</th>\n",
       "      <td>61854</td>\n",
       "      <td>2019-02-28 12:13:13.218</td>\n",
       "      <td>2019-03-01 05:24:08.146</td>\n",
       "      <td>86.0</td>\n",
       "      <td>Market St at Dolores St</td>\n",
       "      <td>37.76931</td>\n",
       "      <td>-122.42683</td>\n",
       "      <td>3.0</td>\n",
       "      <td>Powell St BART Station (Market St at 4th St)</td>\n",
       "      <td>37.78638</td>\n",
       "      <td>-122.40490</td>\n",
       "      <td>5905</td>\n",
       "      <td>Customer</td>\n",
       "      <td>1972</td>\n",
       "      <td>Male</td>\n",
       "      <td>No</td>\n",
       "      <td>47</td>\n",
       "      <td>12</td>\n",
       "      <td>afternoon</td>\n",
       "    </tr>\n",
       "    <tr>\n",
       "      <th>3</th>\n",
       "      <td>36490</td>\n",
       "      <td>2019-02-28 17:54:26.010</td>\n",
       "      <td>2019-03-01 04:02:36.842</td>\n",
       "      <td>375.0</td>\n",
       "      <td>Grove St at Masonic Ave</td>\n",
       "      <td>37.77484</td>\n",
       "      <td>-122.44655</td>\n",
       "      <td>70.0</td>\n",
       "      <td>Central Ave at Fell St</td>\n",
       "      <td>37.77331</td>\n",
       "      <td>-122.44429</td>\n",
       "      <td>6638</td>\n",
       "      <td>Subscriber</td>\n",
       "      <td>1989</td>\n",
       "      <td>Other</td>\n",
       "      <td>No</td>\n",
       "      <td>30</td>\n",
       "      <td>17</td>\n",
       "      <td>evening</td>\n",
       "    </tr>\n",
       "    <tr>\n",
       "      <th>4</th>\n",
       "      <td>1585</td>\n",
       "      <td>2019-02-28 23:54:18.549</td>\n",
       "      <td>2019-03-01 00:20:44.074</td>\n",
       "      <td>7.0</td>\n",
       "      <td>Frank H Ogawa Plaza</td>\n",
       "      <td>37.80456</td>\n",
       "      <td>-122.27174</td>\n",
       "      <td>222.0</td>\n",
       "      <td>10th Ave at E 15th St</td>\n",
       "      <td>37.79271</td>\n",
       "      <td>-122.24878</td>\n",
       "      <td>4898</td>\n",
       "      <td>Subscriber</td>\n",
       "      <td>1974</td>\n",
       "      <td>Male</td>\n",
       "      <td>Yes</td>\n",
       "      <td>45</td>\n",
       "      <td>23</td>\n",
       "      <td>night</td>\n",
       "    </tr>\n",
       "  </tbody>\n",
       "</table>\n",
       "</div>"
      ],
      "text/plain": [
       "   duration_sec              start_time                end_time  \\\n",
       "0         52185 2019-02-28 17:32:10.145 2019-03-01 08:01:55.975   \n",
       "1         42521 2019-02-28 18:53:21.789 2019-03-01 06:42:03.056   \n",
       "2         61854 2019-02-28 12:13:13.218 2019-03-01 05:24:08.146   \n",
       "3         36490 2019-02-28 17:54:26.010 2019-03-01 04:02:36.842   \n",
       "4          1585 2019-02-28 23:54:18.549 2019-03-01 00:20:44.074   \n",
       "\n",
       "  start_station_id                                start_station_name  \\\n",
       "0             21.0  Montgomery St BART Station (Market St at 2nd St)   \n",
       "1             23.0                     The Embarcadero at Steuart St   \n",
       "2             86.0                           Market St at Dolores St   \n",
       "3            375.0                           Grove St at Masonic Ave   \n",
       "4              7.0                               Frank H Ogawa Plaza   \n",
       "\n",
       "   start_station_latitude  start_station_longitude end_station_id  \\\n",
       "0                37.78963               -122.40081           13.0   \n",
       "1                37.79146               -122.39103           81.0   \n",
       "2                37.76931               -122.42683            3.0   \n",
       "3                37.77484               -122.44655           70.0   \n",
       "4                37.80456               -122.27174          222.0   \n",
       "\n",
       "                               end_station_name  end_station_latitude  \\\n",
       "0                Commercial St at Montgomery St              37.79423   \n",
       "1                            Berry St at 4th St              37.77588   \n",
       "2  Powell St BART Station (Market St at 4th St)              37.78638   \n",
       "3                        Central Ave at Fell St              37.77331   \n",
       "4                         10th Ave at E 15th St              37.79271   \n",
       "\n",
       "   end_station_longitude bike_id   user_type  member_birth_year member_gender  \\\n",
       "0             -122.40292    4902    Customer               1984          Male   \n",
       "1             -122.39317    2535    Customer               1985           NaN   \n",
       "2             -122.40490    5905    Customer               1972          Male   \n",
       "3             -122.44429    6638  Subscriber               1989         Other   \n",
       "4             -122.24878    4898  Subscriber               1974          Male   \n",
       "\n",
       "  bike_share_for_all_trip  member_age  start_hour   day_time  \n",
       "0                      No          35          17    evening  \n",
       "1                      No          34          18    evening  \n",
       "2                      No          47          12  afternoon  \n",
       "3                      No          30          17    evening  \n",
       "4                     Yes          45          23      night  "
      ]
     },
     "execution_count": 41,
     "metadata": {},
     "output_type": "execute_result"
    }
   ],
   "source": [
    "df_new.head()"
   ]
  },
  {
   "cell_type": "code",
   "execution_count": 42,
   "metadata": {},
   "outputs": [
    {
     "name": "stdout",
     "output_type": "stream",
     "text": [
      "<class 'pandas.core.frame.DataFrame'>\n",
      "Int64Index: 183214 entries, 0 to 183411\n",
      "Data columns (total 19 columns):\n",
      " #   Column                   Non-Null Count   Dtype         \n",
      "---  ------                   --------------   -----         \n",
      " 0   duration_sec             183214 non-null  int64         \n",
      " 1   start_time               183214 non-null  datetime64[ns]\n",
      " 2   end_time                 183214 non-null  datetime64[ns]\n",
      " 3   start_station_id         183214 non-null  object        \n",
      " 4   start_station_name       183214 non-null  object        \n",
      " 5   start_station_latitude   183214 non-null  float64       \n",
      " 6   start_station_longitude  183214 non-null  float64       \n",
      " 7   end_station_id           183214 non-null  object        \n",
      " 8   end_station_name         183214 non-null  object        \n",
      " 9   end_station_latitude     183214 non-null  float64       \n",
      " 10  end_station_longitude    183214 non-null  float64       \n",
      " 11  bike_id                  183214 non-null  object        \n",
      " 12  user_type                183214 non-null  object        \n",
      " 13  member_birth_year        183214 non-null  int64         \n",
      " 14  member_gender            174951 non-null  object        \n",
      " 15  bike_share_for_all_trip  183214 non-null  object        \n",
      " 16  member_age               183214 non-null  int64         \n",
      " 17  start_hour               183214 non-null  int64         \n",
      " 18  day_time                 183214 non-null  object        \n",
      "dtypes: datetime64[ns](2), float64(4), int64(4), object(9)\n",
      "memory usage: 28.0+ MB\n"
     ]
    }
   ],
   "source": [
    "df_new.info()"
   ]
  },
  {
   "cell_type": "code",
   "execution_count": null,
   "metadata": {},
   "outputs": [],
   "source": []
  },
  {
   "cell_type": "markdown",
   "metadata": {},
   "source": [
    "## Univariate Exploration\n",
    "<a id=\"cell89\"></a>\n"
   ]
  },
  {
   "cell_type": "markdown",
   "metadata": {},
   "source": [
    "### \n",
    "* The most common gender "
   ]
  },
  {
   "cell_type": "code",
   "execution_count": 43,
   "metadata": {},
   "outputs": [
    {
     "data": {
      "text/plain": [
       "Text(0.5, 0, 'Count')"
      ]
     },
     "execution_count": 43,
     "metadata": {},
     "output_type": "execute_result"
    },
    {
     "data": {
      "image/png": "[encoded data removed]",
      "text/plain": [
       "<Figure size 432x288 with 1 Axes>"
      ]
     },
     "metadata": {
      "needs_background": "light"
     },
     "output_type": "display_data"
    }
   ],
   "source": [
    "df_new.member_gender.value_counts().plot(kind = 'barh');\n",
    "plt.title('Gender count')\n",
    "plt.ylabel('Gender')\n",
    "plt.xlabel('Count')"
   ]
  },
  {
   "cell_type": "markdown",
   "metadata": {},
   "source": [
    "##### **Observation:** We have more male than females probably because Males tends to be more interested in cycling than Females"
   ]
  },
  {
   "cell_type": "markdown",
   "metadata": {},
   "source": [
    "###\n",
    "* What period of the day do people bike alot"
   ]
  },
  {
   "cell_type": "code",
   "execution_count": 44,
   "metadata": {},
   "outputs": [
    {
     "data": {
      "text/plain": [
       "morning      70404\n",
       "evening      52809\n",
       "afternoon    34536\n",
       "night        25465\n",
       "Name: day_time, dtype: int64"
      ]
     },
     "execution_count": 44,
     "metadata": {},
     "output_type": "execute_result"
    }
   ],
   "source": [
    "df_new['day_time'].value_counts()"
   ]
  },
  {
   "cell_type": "code",
   "execution_count": 45,
   "metadata": {},
   "outputs": [
    {
     "data": {
      "text/plain": [
       "Text(0, 0.5, 'Time of the day')"
      ]
     },
     "execution_count": 45,
     "metadata": {},
     "output_type": "execute_result"
    },
    {
     "data": {
      "image/png": "[encoded data removed]",
      "text/plain": [
       "<Figure size 432x288 with 1 Axes>"
      ]
     },
     "metadata": {
      "needs_background": "light"
     },
     "output_type": "display_data"
    }
   ],
   "source": [
    "df_new['day_time'].value_counts().plot(kind = 'barh');\n",
    "plt.title('day time people bike')\n",
    "plt.xlabel('Count')\n",
    "plt.ylabel('Time of the day')"
   ]
  },
  {
   "cell_type": "markdown",
   "metadata": {},
   "source": [
    "#### **Observation:** During the day, there are more trips in the morning and afternoon than at night. It probably because of rush hours. There are more rides in the afternoon... this i believe is cause of students who return frm school and goes biking. And then, at night, peeps tend return home\n"
   ]
  },
  {
   "cell_type": "code",
   "execution_count": null,
   "metadata": {},
   "outputs": [],
   "source": []
  },
  {
   "cell_type": "markdown",
   "metadata": {},
   "source": [
    "* what hour of the day do they bike mostly "
   ]
  },
  {
   "cell_type": "code",
   "execution_count": 46,
   "metadata": {},
   "outputs": [
    {
     "data": {
      "text/plain": [
       "Text(0, 0.5, 'Count')"
      ]
     },
     "execution_count": 46,
     "metadata": {},
     "output_type": "execute_result"
    },
    {
     "data": {
      "image/png": "[encoded data removed]",
      "text/plain": [
       "<Figure size 864x576 with 1 Axes>"
      ]
     },
     "metadata": {
      "needs_background": "light"
     },
     "output_type": "display_data"
    }
   ],
   "source": [
    "plt.figure(figsize = (12,8))\n",
    "df_new.start_hour.value_counts().plot(kind = 'bar')\n",
    "plt.title('Hours people bike mostly')\n",
    "plt.xlabel('Hours')\n",
    "plt.ylabel('Count')"
   ]
  },
  {
   "cell_type": "markdown",
   "metadata": {},
   "source": [
    "#### **Observation:** As seen, the most time of the day people bike is in the evening-- 5pm and morning -- 8am. This could be due to time they close from work and time they resumed work"
   ]
  },
  {
   "cell_type": "code",
   "execution_count": null,
   "metadata": {},
   "outputs": [],
   "source": []
  },
  {
   "cell_type": "markdown",
   "metadata": {},
   "source": [
    "### Let's compare with the end station names and time\n",
    "### Are there more rides at the end station than at the start station"
   ]
  },
  {
   "cell_type": "code",
   "execution_count": 47,
   "metadata": {},
   "outputs": [
    {
     "data": {
      "text/html": [
       "<div>\n",
       "<style scoped>\n",
       "    .dataframe tbody tr th:only-of-type {\n",
       "        vertical-align: middle;\n",
       "    }\n",
       "\n",
       "    .dataframe tbody tr th {\n",
       "        vertical-align: top;\n",
       "    }\n",
       "\n",
       "    .dataframe thead th {\n",
       "        text-align: right;\n",
       "    }\n",
       "</style>\n",
       "<table border=\"1\" class=\"dataframe\">\n",
       "  <thead>\n",
       "    <tr style=\"text-align: right;\">\n",
       "      <th></th>\n",
       "      <th>duration_sec</th>\n",
       "      <th>start_time</th>\n",
       "      <th>end_time</th>\n",
       "      <th>start_station_id</th>\n",
       "      <th>start_station_name</th>\n",
       "      <th>start_station_latitude</th>\n",
       "      <th>start_station_longitude</th>\n",
       "      <th>end_station_id</th>\n",
       "      <th>end_station_name</th>\n",
       "      <th>end_station_latitude</th>\n",
       "      <th>end_station_longitude</th>\n",
       "      <th>bike_id</th>\n",
       "      <th>user_type</th>\n",
       "      <th>member_birth_year</th>\n",
       "      <th>member_gender</th>\n",
       "      <th>bike_share_for_all_trip</th>\n",
       "      <th>member_age</th>\n",
       "      <th>duration_time</th>\n",
       "      <th>start_month</th>\n",
       "    </tr>\n",
       "  </thead>\n",
       "  <tbody>\n",
       "    <tr>\n",
       "      <th>0</th>\n",
       "      <td>52185</td>\n",
       "      <td>2019-02-28 17:32:10.145</td>\n",
       "      <td>2019-03-01 08:01:55.975</td>\n",
       "      <td>21.0</td>\n",
       "      <td>Montgomery St BART Station (Market St at 2nd St)</td>\n",
       "      <td>37.78963</td>\n",
       "      <td>-122.40081</td>\n",
       "      <td>13.0</td>\n",
       "      <td>Commercial St at Montgomery St</td>\n",
       "      <td>37.79423</td>\n",
       "      <td>-122.40292</td>\n",
       "      <td>4902</td>\n",
       "      <td>Customer</td>\n",
       "      <td>1984</td>\n",
       "      <td>Male</td>\n",
       "      <td>No</td>\n",
       "      <td>35</td>\n",
       "      <td>0:00:00</td>\n",
       "      <td>2</td>\n",
       "    </tr>\n",
       "    <tr>\n",
       "      <th>1</th>\n",
       "      <td>42521</td>\n",
       "      <td>2019-02-28 18:53:21.789</td>\n",
       "      <td>2019-03-01 06:42:03.056</td>\n",
       "      <td>23.0</td>\n",
       "      <td>The Embarcadero at Steuart St</td>\n",
       "      <td>37.79146</td>\n",
       "      <td>-122.39103</td>\n",
       "      <td>81.0</td>\n",
       "      <td>Berry St at 4th St</td>\n",
       "      <td>37.77588</td>\n",
       "      <td>-122.39317</td>\n",
       "      <td>2535</td>\n",
       "      <td>Customer</td>\n",
       "      <td>1985</td>\n",
       "      <td>NaN</td>\n",
       "      <td>No</td>\n",
       "      <td>34</td>\n",
       "      <td>0:00:01</td>\n",
       "      <td>2</td>\n",
       "    </tr>\n",
       "  </tbody>\n",
       "</table>\n",
       "</div>"
      ],
      "text/plain": [
       "   duration_sec              start_time                end_time  \\\n",
       "0         52185 2019-02-28 17:32:10.145 2019-03-01 08:01:55.975   \n",
       "1         42521 2019-02-28 18:53:21.789 2019-03-01 06:42:03.056   \n",
       "\n",
       "  start_station_id                                start_station_name  \\\n",
       "0             21.0  Montgomery St BART Station (Market St at 2nd St)   \n",
       "1             23.0                     The Embarcadero at Steuart St   \n",
       "\n",
       "   start_station_latitude  start_station_longitude end_station_id  \\\n",
       "0                37.78963               -122.40081           13.0   \n",
       "1                37.79146               -122.39103           81.0   \n",
       "\n",
       "                 end_station_name  end_station_latitude  \\\n",
       "0  Commercial St at Montgomery St              37.79423   \n",
       "1              Berry St at 4th St              37.77588   \n",
       "\n",
       "   end_station_longitude bike_id user_type  member_birth_year member_gender  \\\n",
       "0             -122.40292    4902  Customer               1984          Male   \n",
       "1             -122.39317    2535  Customer               1985           NaN   \n",
       "\n",
       "  bike_share_for_all_trip  member_age duration_time  start_month  \n",
       "0                      No          35       0:00:00            2  \n",
       "1                      No          34       0:00:01            2  "
      ]
     },
     "execution_count": 47,
     "metadata": {},
     "output_type": "execute_result"
    }
   ],
   "source": [
    "df.head(2)"
   ]
  },
  {
   "cell_type": "code",
   "execution_count": 48,
   "metadata": {},
   "outputs": [
    {
     "name": "stdout",
     "output_type": "stream",
     "text": [
      "<class 'pandas.core.frame.DataFrame'>\n",
      "Int64Index: 183214 entries, 0 to 183411\n",
      "Data columns (total 19 columns):\n",
      " #   Column                   Non-Null Count   Dtype         \n",
      "---  ------                   --------------   -----         \n",
      " 0   duration_sec             183214 non-null  int64         \n",
      " 1   start_time               183214 non-null  datetime64[ns]\n",
      " 2   end_time                 183214 non-null  datetime64[ns]\n",
      " 3   start_station_id         183214 non-null  object        \n",
      " 4   start_station_name       183214 non-null  object        \n",
      " 5   start_station_latitude   183214 non-null  float64       \n",
      " 6   start_station_longitude  183214 non-null  float64       \n",
      " 7   end_station_id           183214 non-null  object        \n",
      " 8   end_station_name         183214 non-null  object        \n",
      " 9   end_station_latitude     183214 non-null  float64       \n",
      " 10  end_station_longitude    183214 non-null  float64       \n",
      " 11  bike_id                  183214 non-null  object        \n",
      " 12  user_type                183214 non-null  object        \n",
      " 13  member_birth_year        183214 non-null  int64         \n",
      " 14  member_gender            174951 non-null  object        \n",
      " 15  bike_share_for_all_trip  183214 non-null  object        \n",
      " 16  member_age               183214 non-null  int64         \n",
      " 17  start_hour               183214 non-null  int64         \n",
      " 18  day_time                 183214 non-null  object        \n",
      "dtypes: datetime64[ns](2), float64(4), int64(4), object(9)\n",
      "memory usage: 28.0+ MB\n"
     ]
    }
   ],
   "source": [
    "df_new.info()"
   ]
  },
  {
   "cell_type": "code",
   "execution_count": 49,
   "metadata": {},
   "outputs": [
    {
     "name": "stderr",
     "output_type": "stream",
     "text": [
      "<ipython-input-49-d9eefeced564>:2: SettingWithCopyWarning: \n",
      "A value is trying to be set on a copy of a slice from a DataFrame.\n",
      "Try using .loc[row_indexer,col_indexer] = value instead\n",
      "\n",
      "See the caveats in the documentation: https://pandas.pydata.org/pandas-docs/stable/user_guide/indexing.html#returning-a-view-versus-a-copy\n",
      "  df_new['end_hour'] = df_new['end_time'].apply(lambda time: time.hour)\n",
      "<ipython-input-49-d9eefeced564>:3: SettingWithCopyWarning: \n",
      "A value is trying to be set on a copy of a slice from a DataFrame.\n",
      "Try using .loc[row_indexer,col_indexer] = value instead\n",
      "\n",
      "See the caveats in the documentation: https://pandas.pydata.org/pandas-docs/stable/user_guide/indexing.html#returning-a-view-versus-a-copy\n",
      "  df_new['return_time'] = 'morning'\n",
      "<ipython-input-49-d9eefeced564>:4: SettingWithCopyWarning: \n",
      "A value is trying to be set on a copy of a slice from a DataFrame\n",
      "\n",
      "See the caveats in the documentation: https://pandas.pydata.org/pandas-docs/stable/user_guide/indexing.html#returning-a-view-versus-a-copy\n",
      "  df_new['return_time'][(df_new['end_hour'] >= 12) & (df_new['end_hour'] <= 16)] = 'afternoon'\n",
      "c:\\Users\\ilesanmi\\Anaconda3\\lib\\site-packages\\pandas\\core\\series.py:992: SettingWithCopyWarning: \n",
      "A value is trying to be set on a copy of a slice from a DataFrame\n",
      "\n",
      "See the caveats in the documentation: https://pandas.pydata.org/pandas-docs/stable/user_guide/indexing.html#returning-a-view-versus-a-copy\n",
      "  self._where(~key, value, inplace=True)\n",
      "<ipython-input-49-d9eefeced564>:5: SettingWithCopyWarning: \n",
      "A value is trying to be set on a copy of a slice from a DataFrame\n",
      "\n",
      "See the caveats in the documentation: https://pandas.pydata.org/pandas-docs/stable/user_guide/indexing.html#returning-a-view-versus-a-copy\n",
      "  df_new['return_time'][(df_new['end_hour'] >= 16) & (df_new['start_hour'] <= 19)] = 'evening'\n",
      "c:\\Users\\ilesanmi\\Anaconda3\\lib\\site-packages\\pandas\\core\\series.py:992: SettingWithCopyWarning: \n",
      "A value is trying to be set on a copy of a slice from a DataFrame\n",
      "\n",
      "See the caveats in the documentation: https://pandas.pydata.org/pandas-docs/stable/user_guide/indexing.html#returning-a-view-versus-a-copy\n",
      "  self._where(~key, value, inplace=True)\n",
      "<ipython-input-49-d9eefeced564>:7: SettingWithCopyWarning: \n",
      "A value is trying to be set on a copy of a slice from a DataFrame\n",
      "\n",
      "See the caveats in the documentation: https://pandas.pydata.org/pandas-docs/stable/user_guide/indexing.html#returning-a-view-versus-a-copy\n",
      "  df_new['return_time'][(df_new['end_hour'] >= 19) & (df_new['end_hour'] <= 23)] = 'night'\n",
      "c:\\Users\\ilesanmi\\Anaconda3\\lib\\site-packages\\pandas\\core\\series.py:992: SettingWithCopyWarning: \n",
      "A value is trying to be set on a copy of a slice from a DataFrame\n",
      "\n",
      "See the caveats in the documentation: https://pandas.pydata.org/pandas-docs/stable/user_guide/indexing.html#returning-a-view-versus-a-copy\n",
      "  self._where(~key, value, inplace=True)\n"
     ]
    }
   ],
   "source": [
    " # b. morning, afternoon, night of a day\n",
    "df_new['end_hour'] = df_new['end_time'].apply(lambda time: time.hour)\n",
    "df_new['return_time'] = 'morning'\n",
    "df_new['return_time'][(df_new['end_hour'] >= 12) & (df_new['end_hour'] <= 16)] = 'afternoon'\n",
    "df_new['return_time'][(df_new['end_hour'] >= 16) & (df_new['start_hour'] <= 19)] = 'evening'\n",
    "\n",
    "df_new['return_time'][(df_new['end_hour'] >= 19) & (df_new['end_hour'] <= 23)] = 'night'\n",
    "\n"
   ]
  },
  {
   "cell_type": "code",
   "execution_count": 50,
   "metadata": {},
   "outputs": [
    {
     "data": {
      "text/plain": [
       "Text(0.5, 1.0, 'return time people bike')"
      ]
     },
     "execution_count": 50,
     "metadata": {},
     "output_type": "execute_result"
    },
    {
     "data": {
      "image/png": "[encoded data removed]",
      "text/plain": [
       "<Figure size 864x576 with 2 Axes>"
      ]
     },
     "metadata": {
      "needs_background": "light"
     },
     "output_type": "display_data"
    }
   ],
   "source": [
    "plt.figure(figsize = (12,8))\n",
    "plt.subplot(1,2,1)\n",
    "df_new['day_time'].value_counts().plot(kind = 'barh');\n",
    "plt.title('day time people bike')\n",
    "\n",
    "plt.subplot(1,2,2)\n",
    "df_new['return_time'].value_counts().plot(kind = 'barh');\n",
    "plt.title('return time people bike')"
   ]
  },
  {
   "cell_type": "code",
   "execution_count": 51,
   "metadata": {},
   "outputs": [
    {
     "data": {
      "text/plain": [
       "(morning      70404\n",
       " evening      52809\n",
       " afternoon    34536\n",
       " night        25465\n",
       " Name: day_time, dtype: int64,\n",
       " morning      68896\n",
       " evening      52679\n",
       " afternoon    34068\n",
       " night        27571\n",
       " Name: return_time, dtype: int64)"
      ]
     },
     "execution_count": 51,
     "metadata": {},
     "output_type": "execute_result"
    }
   ],
   "source": [
    "df_new['day_time'].value_counts(), df_new['return_time'].value_counts()"
   ]
  },
  {
   "cell_type": "markdown",
   "metadata": {},
   "source": [
    "#### **Observation:** There are lesser rides at the end station than at the start station. Probably cause the data is only restricted to just san fracisco"
   ]
  },
  {
   "cell_type": "code",
   "execution_count": 52,
   "metadata": {},
   "outputs": [
    {
     "data": {
      "text/plain": [
       "Index(['duration_sec', 'start_time', 'end_time', 'start_station_id',\n",
       "       'start_station_name', 'start_station_latitude',\n",
       "       'start_station_longitude', 'end_station_id', 'end_station_name',\n",
       "       'end_station_latitude', 'end_station_longitude', 'bike_id', 'user_type',\n",
       "       'member_birth_year', 'member_gender', 'bike_share_for_all_trip',\n",
       "       'member_age', 'duration_time', 'start_month'],\n",
       "      dtype='object')"
      ]
     },
     "execution_count": 52,
     "metadata": {},
     "output_type": "execute_result"
    }
   ],
   "source": [
    "df.columns"
   ]
  },
  {
   "cell_type": "code",
   "execution_count": null,
   "metadata": {},
   "outputs": [],
   "source": []
  },
  {
   "cell_type": "markdown",
   "metadata": {},
   "source": [
    "### \n",
    "* What user type uses the bike mostly"
   ]
  },
  {
   "cell_type": "code",
   "execution_count": 53,
   "metadata": {},
   "outputs": [
    {
     "data": {
      "text/plain": [
       "Text(0.5, 0, 'User types of the services')"
      ]
     },
     "execution_count": 53,
     "metadata": {},
     "output_type": "execute_result"
    },
    {
     "data": {
      "image/png": "[encoded data removed]",
      "text/plain": [
       "<Figure size 432x288 with 1 Axes>"
      ]
     },
     "metadata": {
      "needs_background": "light"
     },
     "output_type": "display_data"
    }
   ],
   "source": [
    "df_new['user_type'].value_counts().plot(kind = 'bar')\n",
    "plt.title('Bike user types')\n",
    "plt.ylabel('Count')\n",
    "plt.xlabel('User types of the services')"
   ]
  },
  {
   "cell_type": "markdown",
   "metadata": {},
   "source": [
    "#### **observation:** so we have more of subscribers than customers"
   ]
  },
  {
   "cell_type": "code",
   "execution_count": 54,
   "metadata": {},
   "outputs": [
    {
     "data": {
      "text/html": [
       "<div>\n",
       "<style scoped>\n",
       "    .dataframe tbody tr th:only-of-type {\n",
       "        vertical-align: middle;\n",
       "    }\n",
       "\n",
       "    .dataframe tbody tr th {\n",
       "        vertical-align: top;\n",
       "    }\n",
       "\n",
       "    .dataframe thead th {\n",
       "        text-align: right;\n",
       "    }\n",
       "</style>\n",
       "<table border=\"1\" class=\"dataframe\">\n",
       "  <thead>\n",
       "    <tr style=\"text-align: right;\">\n",
       "      <th></th>\n",
       "      <th>duration_sec</th>\n",
       "      <th>start_time</th>\n",
       "      <th>end_time</th>\n",
       "      <th>start_station_id</th>\n",
       "      <th>start_station_name</th>\n",
       "      <th>start_station_latitude</th>\n",
       "      <th>start_station_longitude</th>\n",
       "      <th>end_station_id</th>\n",
       "      <th>end_station_name</th>\n",
       "      <th>end_station_latitude</th>\n",
       "      <th>...</th>\n",
       "      <th>bike_id</th>\n",
       "      <th>user_type</th>\n",
       "      <th>member_birth_year</th>\n",
       "      <th>member_gender</th>\n",
       "      <th>bike_share_for_all_trip</th>\n",
       "      <th>member_age</th>\n",
       "      <th>start_hour</th>\n",
       "      <th>day_time</th>\n",
       "      <th>end_hour</th>\n",
       "      <th>return_time</th>\n",
       "    </tr>\n",
       "  </thead>\n",
       "  <tbody>\n",
       "    <tr>\n",
       "      <th>0</th>\n",
       "      <td>52185</td>\n",
       "      <td>2019-02-28 17:32:10.145</td>\n",
       "      <td>2019-03-01 08:01:55.975</td>\n",
       "      <td>21.0</td>\n",
       "      <td>Montgomery St BART Station (Market St at 2nd St)</td>\n",
       "      <td>37.78963</td>\n",
       "      <td>-122.40081</td>\n",
       "      <td>13.0</td>\n",
       "      <td>Commercial St at Montgomery St</td>\n",
       "      <td>37.79423</td>\n",
       "      <td>...</td>\n",
       "      <td>4902</td>\n",
       "      <td>Customer</td>\n",
       "      <td>1984</td>\n",
       "      <td>Male</td>\n",
       "      <td>No</td>\n",
       "      <td>35</td>\n",
       "      <td>17</td>\n",
       "      <td>evening</td>\n",
       "      <td>8</td>\n",
       "      <td>morning</td>\n",
       "    </tr>\n",
       "    <tr>\n",
       "      <th>1</th>\n",
       "      <td>42521</td>\n",
       "      <td>2019-02-28 18:53:21.789</td>\n",
       "      <td>2019-03-01 06:42:03.056</td>\n",
       "      <td>23.0</td>\n",
       "      <td>The Embarcadero at Steuart St</td>\n",
       "      <td>37.79146</td>\n",
       "      <td>-122.39103</td>\n",
       "      <td>81.0</td>\n",
       "      <td>Berry St at 4th St</td>\n",
       "      <td>37.77588</td>\n",
       "      <td>...</td>\n",
       "      <td>2535</td>\n",
       "      <td>Customer</td>\n",
       "      <td>1985</td>\n",
       "      <td>NaN</td>\n",
       "      <td>No</td>\n",
       "      <td>34</td>\n",
       "      <td>18</td>\n",
       "      <td>evening</td>\n",
       "      <td>6</td>\n",
       "      <td>morning</td>\n",
       "    </tr>\n",
       "    <tr>\n",
       "      <th>2</th>\n",
       "      <td>61854</td>\n",
       "      <td>2019-02-28 12:13:13.218</td>\n",
       "      <td>2019-03-01 05:24:08.146</td>\n",
       "      <td>86.0</td>\n",
       "      <td>Market St at Dolores St</td>\n",
       "      <td>37.76931</td>\n",
       "      <td>-122.42683</td>\n",
       "      <td>3.0</td>\n",
       "      <td>Powell St BART Station (Market St at 4th St)</td>\n",
       "      <td>37.78638</td>\n",
       "      <td>...</td>\n",
       "      <td>5905</td>\n",
       "      <td>Customer</td>\n",
       "      <td>1972</td>\n",
       "      <td>Male</td>\n",
       "      <td>No</td>\n",
       "      <td>47</td>\n",
       "      <td>12</td>\n",
       "      <td>afternoon</td>\n",
       "      <td>5</td>\n",
       "      <td>morning</td>\n",
       "    </tr>\n",
       "    <tr>\n",
       "      <th>3</th>\n",
       "      <td>36490</td>\n",
       "      <td>2019-02-28 17:54:26.010</td>\n",
       "      <td>2019-03-01 04:02:36.842</td>\n",
       "      <td>375.0</td>\n",
       "      <td>Grove St at Masonic Ave</td>\n",
       "      <td>37.77484</td>\n",
       "      <td>-122.44655</td>\n",
       "      <td>70.0</td>\n",
       "      <td>Central Ave at Fell St</td>\n",
       "      <td>37.77331</td>\n",
       "      <td>...</td>\n",
       "      <td>6638</td>\n",
       "      <td>Subscriber</td>\n",
       "      <td>1989</td>\n",
       "      <td>Other</td>\n",
       "      <td>No</td>\n",
       "      <td>30</td>\n",
       "      <td>17</td>\n",
       "      <td>evening</td>\n",
       "      <td>4</td>\n",
       "      <td>morning</td>\n",
       "    </tr>\n",
       "    <tr>\n",
       "      <th>4</th>\n",
       "      <td>1585</td>\n",
       "      <td>2019-02-28 23:54:18.549</td>\n",
       "      <td>2019-03-01 00:20:44.074</td>\n",
       "      <td>7.0</td>\n",
       "      <td>Frank H Ogawa Plaza</td>\n",
       "      <td>37.80456</td>\n",
       "      <td>-122.27174</td>\n",
       "      <td>222.0</td>\n",
       "      <td>10th Ave at E 15th St</td>\n",
       "      <td>37.79271</td>\n",
       "      <td>...</td>\n",
       "      <td>4898</td>\n",
       "      <td>Subscriber</td>\n",
       "      <td>1974</td>\n",
       "      <td>Male</td>\n",
       "      <td>Yes</td>\n",
       "      <td>45</td>\n",
       "      <td>23</td>\n",
       "      <td>night</td>\n",
       "      <td>0</td>\n",
       "      <td>morning</td>\n",
       "    </tr>\n",
       "  </tbody>\n",
       "</table>\n",
       "<p>5 rows × 21 columns</p>\n",
       "</div>"
      ],
      "text/plain": [
       "   duration_sec              start_time                end_time  \\\n",
       "0         52185 2019-02-28 17:32:10.145 2019-03-01 08:01:55.975   \n",
       "1         42521 2019-02-28 18:53:21.789 2019-03-01 06:42:03.056   \n",
       "2         61854 2019-02-28 12:13:13.218 2019-03-01 05:24:08.146   \n",
       "3         36490 2019-02-28 17:54:26.010 2019-03-01 04:02:36.842   \n",
       "4          1585 2019-02-28 23:54:18.549 2019-03-01 00:20:44.074   \n",
       "\n",
       "  start_station_id                                start_station_name  \\\n",
       "0             21.0  Montgomery St BART Station (Market St at 2nd St)   \n",
       "1             23.0                     The Embarcadero at Steuart St   \n",
       "2             86.0                           Market St at Dolores St   \n",
       "3            375.0                           Grove St at Masonic Ave   \n",
       "4              7.0                               Frank H Ogawa Plaza   \n",
       "\n",
       "   start_station_latitude  start_station_longitude end_station_id  \\\n",
       "0                37.78963               -122.40081           13.0   \n",
       "1                37.79146               -122.39103           81.0   \n",
       "2                37.76931               -122.42683            3.0   \n",
       "3                37.77484               -122.44655           70.0   \n",
       "4                37.80456               -122.27174          222.0   \n",
       "\n",
       "                               end_station_name  end_station_latitude  ...  \\\n",
       "0                Commercial St at Montgomery St              37.79423  ...   \n",
       "1                            Berry St at 4th St              37.77588  ...   \n",
       "2  Powell St BART Station (Market St at 4th St)              37.78638  ...   \n",
       "3                        Central Ave at Fell St              37.77331  ...   \n",
       "4                         10th Ave at E 15th St              37.79271  ...   \n",
       "\n",
       "   bike_id   user_type member_birth_year  member_gender  \\\n",
       "0     4902    Customer              1984           Male   \n",
       "1     2535    Customer              1985            NaN   \n",
       "2     5905    Customer              1972           Male   \n",
       "3     6638  Subscriber              1989          Other   \n",
       "4     4898  Subscriber              1974           Male   \n",
       "\n",
       "  bike_share_for_all_trip member_age  start_hour   day_time end_hour  \\\n",
       "0                      No         35          17    evening        8   \n",
       "1                      No         34          18    evening        6   \n",
       "2                      No         47          12  afternoon        5   \n",
       "3                      No         30          17    evening        4   \n",
       "4                     Yes         45          23      night        0   \n",
       "\n",
       "   return_time  \n",
       "0      morning  \n",
       "1      morning  \n",
       "2      morning  \n",
       "3      morning  \n",
       "4      morning  \n",
       "\n",
       "[5 rows x 21 columns]"
      ]
     },
     "execution_count": 54,
     "metadata": {},
     "output_type": "execute_result"
    }
   ],
   "source": [
    "df_new.head()"
   ]
  },
  {
   "cell_type": "code",
   "execution_count": null,
   "metadata": {},
   "outputs": [],
   "source": []
  },
  {
   "cell_type": "markdown",
   "metadata": {},
   "source": [
    "* Top ten start_station"
   ]
  },
  {
   "cell_type": "code",
   "execution_count": 55,
   "metadata": {},
   "outputs": [
    {
     "data": {
      "image/png": "[encoded data removed]",
      "text/plain": [
       "<Figure size 432x288 with 1 Axes>"
      ]
     },
     "metadata": {
      "needs_background": "light"
     },
     "output_type": "display_data"
    }
   ],
   "source": [
    "top10 = ['Market St at 10th St','San Francisco Caltrain Station 2  (Townsend St at 4th St)','Berry St at 4th St','Montgomery St BART Station (Market St at 2nd St)','Powell St BART Station (Market St at 4th St)'\n",
    ",'San Francisco Ferry Building (Harry Bridges Plaza)','San Francisco Caltrain (Townsend St at 4th St)', 'Powell St BART Station (Market St at 5th St)','Howard St at Beale St','Steuart St at Market St']\n",
    "\n",
    "df_top_ten = df_new.loc[df_new['start_station_name'].isin(top10)]\n",
    "\n",
    "#df_top_ten\n",
    "st_stat_order = df_top_ten['start_station_name'].value_counts().index\n",
    "\n",
    "base_color = sns.color_palette()[0]\n",
    "sns.countplot(data=df_top_ten, y='start_station_name', color=base_color, order=st_stat_order)\n",
    "plt.xlabel('Count')\n",
    "plt.ylabel('Start Station Name')\n",
    "plt.title('Top 8 Stations with the most trips in SF');\n"
   ]
  },
  {
   "cell_type": "code",
   "execution_count": 56,
   "metadata": {},
   "outputs": [
    {
     "data": {
      "text/plain": [
       "Market St at 10th St                                         3904\n",
       "San Francisco Caltrain Station 2  (Townsend St at 4th St)    3544\n",
       "Berry St at 4th St                                           3052\n",
       "Montgomery St BART Station (Market St at 2nd St)             2895\n",
       "Powell St BART Station (Market St at 4th St)                 2760\n",
       "San Francisco Ferry Building (Harry Bridges Plaza)           2709\n",
       "San Francisco Caltrain (Townsend St at 4th St)               2703\n",
       "Powell St BART Station (Market St at 5th St)                 2327\n",
       "Howard St at Beale St                                        2293\n",
       "Steuart St at Market St                                      2283\n",
       "Name: start_station_name, dtype: int64"
      ]
     },
     "execution_count": 56,
     "metadata": {},
     "output_type": "execute_result"
    }
   ],
   "source": [
    "df_new['start_station_name'].value_counts().nlargest(10)"
   ]
  },
  {
   "cell_type": "code",
   "execution_count": null,
   "metadata": {},
   "outputs": [],
   "source": []
  },
  {
   "cell_type": "markdown",
   "metadata": {},
   "source": [
    "* Top ten end station"
   ]
  },
  {
   "cell_type": "code",
   "execution_count": 57,
   "metadata": {},
   "outputs": [
    {
     "data": {
      "text/plain": [
       "San Francisco Caltrain Station 2  (Townsend St at 4th St)    4857\n",
       "Market St at 10th St                                         3973\n",
       "Montgomery St BART Station (Market St at 2nd St)             3647\n",
       "San Francisco Ferry Building (Harry Bridges Plaza)           3368\n",
       "Powell St BART Station (Market St at 4th St)                 2997\n",
       "San Francisco Caltrain (Townsend St at 4th St)               2947\n",
       "Berry St at 4th St                                           2872\n",
       "The Embarcadero at Sansome St                                2512\n",
       "Powell St BART Station (Market St at 5th St)                 2353\n",
       "Steuart St at Market St                                      2338\n",
       "Name: end_station_name, dtype: int64"
      ]
     },
     "execution_count": 57,
     "metadata": {},
     "output_type": "execute_result"
    }
   ],
   "source": [
    "df_new['end_station_name'].value_counts().nlargest(10)"
   ]
  },
  {
   "cell_type": "code",
   "execution_count": 58,
   "metadata": {},
   "outputs": [
    {
     "data": {
      "image/png": "[encoded data removed]",
      "text/plain": [
       "<Figure size 432x288 with 1 Axes>"
      ]
     },
     "metadata": {
      "needs_background": "light"
     },
     "output_type": "display_data"
    }
   ],
   "source": [
    "top10 = ['San Francisco Caltrain Station 2  (Townsend St at 4th St)','Market St at 10th St','Montgomery St BART Station (Market St at 2nd St)','San Francisco Ferry Building (Harry Bridges Plaza)','Powell St BART Station (Market St at 4th St)',\n",
    "'San Francisco Caltrain (Townsend St at 4th St)','Berry St at 4th St','The Embarcadero at Sansome St','Powell St BART Station (Market St at 5th St)','Steuart St at Market St']\n",
    "\n",
    "df_top_ten_2 = df_new.loc[df_new['end_station_name'].isin(top10)]\n",
    "\n",
    "#df_top_ten\n",
    "st_stat_order = df_top_ten_2['end_station_name'].value_counts().index\n",
    "\n",
    "base_color = sns.color_palette()[0]\n",
    "sns.countplot(data=df_top_ten_2, y='end_station_name', color=base_color, order=st_stat_order)\n",
    "plt.xlabel('Count')\n",
    "plt.ylabel('End Station Name')\n",
    "plt.title('Top 8 Stations with the most trips in SF');\n"
   ]
  },
  {
   "cell_type": "markdown",
   "metadata": {},
   "source": [
    "#### **Observation:** San Francisco Caltrain Station 2  (Townsend St at 4th St) seems to be a veery busy place. It tops the return location and seconds the start_ride_location. But still the top 10 start station and end station are about the same stations"
   ]
  },
  {
   "cell_type": "markdown",
   "metadata": {},
   "source": [
    "## *Statistics of the ride duration*"
   ]
  },
  {
   "cell_type": "code",
   "execution_count": 59,
   "metadata": {},
   "outputs": [
    {
     "data": {
      "text/plain": [
       "count    183214.000000\n",
       "mean        725.897934\n",
       "std        1795.082702\n",
       "min          61.000000\n",
       "25%         325.000000\n",
       "50%         514.000000\n",
       "75%         796.000000\n",
       "max       85444.000000\n",
       "Name: duration_sec, dtype: float64"
      ]
     },
     "execution_count": 59,
     "metadata": {},
     "output_type": "execute_result"
    }
   ],
   "source": [
    "df_new['duration_sec'].describe()"
   ]
  },
  {
   "cell_type": "code",
   "execution_count": null,
   "metadata": {},
   "outputs": [],
   "source": []
  },
  {
   "cell_type": "code",
   "execution_count": null,
   "metadata": {},
   "outputs": [],
   "source": []
  },
  {
   "cell_type": "markdown",
   "metadata": {},
   "source": [
    "### Statistics of the member age"
   ]
  },
  {
   "cell_type": "code",
   "execution_count": 60,
   "metadata": {},
   "outputs": [
    {
     "data": {
      "text/plain": [
       "count    183214.000000\n",
       "mean         34.187404\n",
       "std           9.884882\n",
       "min          18.000000\n",
       "25%          27.000000\n",
       "50%          32.000000\n",
       "75%          38.000000\n",
       "max         119.000000\n",
       "Name: member_age, dtype: float64"
      ]
     },
     "execution_count": 60,
     "metadata": {},
     "output_type": "execute_result"
    }
   ],
   "source": [
    "df_new['member_age'].describe()"
   ]
  },
  {
   "cell_type": "code",
   "execution_count": null,
   "metadata": {},
   "outputs": [],
   "source": []
  },
  {
   "cell_type": "code",
   "execution_count": 61,
   "metadata": {},
   "outputs": [
    {
     "data": {
      "text/html": [
       "<div>\n",
       "<style scoped>\n",
       "    .dataframe tbody tr th:only-of-type {\n",
       "        vertical-align: middle;\n",
       "    }\n",
       "\n",
       "    .dataframe tbody tr th {\n",
       "        vertical-align: top;\n",
       "    }\n",
       "\n",
       "    .dataframe thead th {\n",
       "        text-align: right;\n",
       "    }\n",
       "</style>\n",
       "<table border=\"1\" class=\"dataframe\">\n",
       "  <thead>\n",
       "    <tr style=\"text-align: right;\">\n",
       "      <th></th>\n",
       "      <th>duration_sec</th>\n",
       "      <th>start_time</th>\n",
       "      <th>end_time</th>\n",
       "      <th>start_station_id</th>\n",
       "      <th>start_station_name</th>\n",
       "      <th>start_station_latitude</th>\n",
       "      <th>start_station_longitude</th>\n",
       "      <th>end_station_id</th>\n",
       "      <th>end_station_name</th>\n",
       "      <th>end_station_latitude</th>\n",
       "      <th>...</th>\n",
       "      <th>bike_id</th>\n",
       "      <th>user_type</th>\n",
       "      <th>member_birth_year</th>\n",
       "      <th>member_gender</th>\n",
       "      <th>bike_share_for_all_trip</th>\n",
       "      <th>member_age</th>\n",
       "      <th>start_hour</th>\n",
       "      <th>day_time</th>\n",
       "      <th>end_hour</th>\n",
       "      <th>return_time</th>\n",
       "    </tr>\n",
       "  </thead>\n",
       "  <tbody>\n",
       "    <tr>\n",
       "      <th>20318</th>\n",
       "      <td>807</td>\n",
       "      <td>2019-02-26 13:07:19.776</td>\n",
       "      <td>2019-02-26 13:20:47.380</td>\n",
       "      <td>280.0</td>\n",
       "      <td>San Fernando St at 7th St</td>\n",
       "      <td>37.33712</td>\n",
       "      <td>-121.88321</td>\n",
       "      <td>276.0</td>\n",
       "      <td>Julian St at The Alameda</td>\n",
       "      <td>37.33223</td>\n",
       "      <td>...</td>\n",
       "      <td>3852</td>\n",
       "      <td>Subscriber</td>\n",
       "      <td>1986</td>\n",
       "      <td>Male</td>\n",
       "      <td>Yes</td>\n",
       "      <td>33</td>\n",
       "      <td>13</td>\n",
       "      <td>afternoon</td>\n",
       "      <td>13</td>\n",
       "      <td>afternoon</td>\n",
       "    </tr>\n",
       "  </tbody>\n",
       "</table>\n",
       "<p>1 rows × 21 columns</p>\n",
       "</div>"
      ],
      "text/plain": [
       "       duration_sec              start_time                end_time  \\\n",
       "20318           807 2019-02-26 13:07:19.776 2019-02-26 13:20:47.380   \n",
       "\n",
       "      start_station_id         start_station_name  start_station_latitude  \\\n",
       "20318            280.0  San Fernando St at 7th St                37.33712   \n",
       "\n",
       "       start_station_longitude end_station_id          end_station_name  \\\n",
       "20318               -121.88321          276.0  Julian St at The Alameda   \n",
       "\n",
       "       end_station_latitude  ...  bike_id   user_type member_birth_year  \\\n",
       "20318              37.33223  ...     3852  Subscriber              1986   \n",
       "\n",
       "       member_gender bike_share_for_all_trip member_age  start_hour  \\\n",
       "20318           Male                     Yes         33          13   \n",
       "\n",
       "        day_time end_hour  return_time  \n",
       "20318  afternoon       13    afternoon  \n",
       "\n",
       "[1 rows x 21 columns]"
      ]
     },
     "execution_count": 61,
     "metadata": {},
     "output_type": "execute_result"
    }
   ],
   "source": [
    "df_new.sample()"
   ]
  },
  {
   "cell_type": "markdown",
   "metadata": {},
   "source": [
    "# Bivariate Exploration\n",
    "<a id=\"cell132\"></a>"
   ]
  },
  {
   "cell_type": "code",
   "execution_count": null,
   "metadata": {},
   "outputs": [],
   "source": [
    "\n"
   ]
  },
  {
   "cell_type": "markdown",
   "metadata": {},
   "source": [
    "### **What is the Relationship between ride duration and member_age?**"
   ]
  },
  {
   "cell_type": "code",
   "execution_count": 62,
   "metadata": {},
   "outputs": [
    {
     "data": {
      "text/plain": [
       "Text(0.5, 0, 'age')"
      ]
     },
     "execution_count": 62,
     "metadata": {},
     "output_type": "execute_result"
    },
    {
     "data": {
      "image/png": "[encoded data removed]",
      "text/plain": [
       "<Figure size 432x288 with 1 Axes>"
      ]
     },
     "metadata": {
      "needs_background": "light"
     },
     "output_type": "display_data"
    }
   ],
   "source": [
    "plt.scatter(df_new.member_age,df_new.duration_sec, alpha = 0.4)\n",
    "plt.title('relationship between duration_sec and age')\n",
    "plt.ylabel('duration in sec')\n",
    "plt.xlabel('age')"
   ]
  },
  {
   "cell_type": "markdown",
   "metadata": {},
   "source": [
    "#### A quick check on Which gender rides most"
   ]
  },
  {
   "cell_type": "code",
   "execution_count": 63,
   "metadata": {},
   "outputs": [
    {
     "data": {
      "text/plain": [
       "Male      130500\n",
       "Female     40804\n",
       "Other       3647\n",
       "Name: member_gender, dtype: int64"
      ]
     },
     "execution_count": 63,
     "metadata": {},
     "output_type": "execute_result"
    }
   ],
   "source": [
    "df_new.member_gender.value_counts()"
   ]
  },
  {
   "cell_type": "code",
   "execution_count": 64,
   "metadata": {},
   "outputs": [
    {
     "data": {
      "text/plain": [
       "Text(0.5, 0, 'age')"
      ]
     },
     "execution_count": 64,
     "metadata": {},
     "output_type": "execute_result"
    },
    {
     "data": {
      "image/png": "[encoded data removed]",
      "text/plain": [
       "<Figure size 432x288 with 1 Axes>"
      ]
     },
     "metadata": {
      "needs_background": "light"
     },
     "output_type": "display_data"
    }
   ],
   "source": [
    "markers = [['Male', 'o'],\n",
    "               ['Female', 's'], ['Other', '^']]\n",
    "\n",
    "for c, marker in markers: #a loop created\n",
    "    df_c = df_new[df_new['member_gender'] == c]\n",
    "    plt.scatter(data = df_c, x = 'member_age', y = 'duration_sec', marker = marker)\n",
    "plt.legend(['male','female','others'])\n",
    "plt.title('relationship between duration_sec and age for each gender')\n",
    "plt.ylabel('duration in sec')\n",
    "plt.xlabel('age')"
   ]
  },
  {
   "cell_type": "code",
   "execution_count": 65,
   "metadata": {},
   "outputs": [
    {
     "data": {
      "text/plain": [
       "count    183214.000000\n",
       "mean         34.187404\n",
       "std           9.884882\n",
       "min          18.000000\n",
       "25%          27.000000\n",
       "50%          32.000000\n",
       "75%          38.000000\n",
       "max         119.000000\n",
       "Name: member_age, dtype: float64"
      ]
     },
     "execution_count": 65,
     "metadata": {},
     "output_type": "execute_result"
    }
   ],
   "source": [
    "df_new.member_age.describe()"
   ]
  },
  {
   "cell_type": "code",
   "execution_count": 66,
   "metadata": {},
   "outputs": [
    {
     "data": {
      "text/html": [
       "<div>\n",
       "<style scoped>\n",
       "    .dataframe tbody tr th:only-of-type {\n",
       "        vertical-align: middle;\n",
       "    }\n",
       "\n",
       "    .dataframe tbody tr th {\n",
       "        vertical-align: top;\n",
       "    }\n",
       "\n",
       "    .dataframe thead th {\n",
       "        text-align: right;\n",
       "    }\n",
       "</style>\n",
       "<table border=\"1\" class=\"dataframe\">\n",
       "  <thead>\n",
       "    <tr style=\"text-align: right;\">\n",
       "      <th></th>\n",
       "      <th>duration_sec</th>\n",
       "      <th>start_time</th>\n",
       "      <th>end_time</th>\n",
       "      <th>start_station_id</th>\n",
       "      <th>start_station_name</th>\n",
       "      <th>start_station_latitude</th>\n",
       "      <th>start_station_longitude</th>\n",
       "      <th>end_station_id</th>\n",
       "      <th>end_station_name</th>\n",
       "      <th>end_station_latitude</th>\n",
       "      <th>...</th>\n",
       "      <th>bike_id</th>\n",
       "      <th>user_type</th>\n",
       "      <th>member_birth_year</th>\n",
       "      <th>member_gender</th>\n",
       "      <th>bike_share_for_all_trip</th>\n",
       "      <th>member_age</th>\n",
       "      <th>start_hour</th>\n",
       "      <th>day_time</th>\n",
       "      <th>end_hour</th>\n",
       "      <th>return_time</th>\n",
       "    </tr>\n",
       "  </thead>\n",
       "  <tbody>\n",
       "    <tr>\n",
       "      <th>1285</th>\n",
       "      <td>148</td>\n",
       "      <td>2019-02-28 19:29:17.627</td>\n",
       "      <td>2019-02-28 19:31:45.967</td>\n",
       "      <td>158.0</td>\n",
       "      <td>Shattuck Ave at Telegraph Ave</td>\n",
       "      <td>37.83328</td>\n",
       "      <td>-122.26349</td>\n",
       "      <td>173.0</td>\n",
       "      <td>Shattuck Ave at 55th St</td>\n",
       "      <td>37.84036</td>\n",
       "      <td>...</td>\n",
       "      <td>5391</td>\n",
       "      <td>Subscriber</td>\n",
       "      <td>1900</td>\n",
       "      <td>Male</td>\n",
       "      <td>Yes</td>\n",
       "      <td>119</td>\n",
       "      <td>19</td>\n",
       "      <td>night</td>\n",
       "      <td>19</td>\n",
       "      <td>night</td>\n",
       "    </tr>\n",
       "    <tr>\n",
       "      <th>10827</th>\n",
       "      <td>1315</td>\n",
       "      <td>2019-02-27 19:21:34.436</td>\n",
       "      <td>2019-02-27 19:43:30.008</td>\n",
       "      <td>343.0</td>\n",
       "      <td>Bryant St at 2nd St</td>\n",
       "      <td>37.78317</td>\n",
       "      <td>-122.39357</td>\n",
       "      <td>375.0</td>\n",
       "      <td>Grove St at Masonic Ave</td>\n",
       "      <td>37.77484</td>\n",
       "      <td>...</td>\n",
       "      <td>6249</td>\n",
       "      <td>Subscriber</td>\n",
       "      <td>1900</td>\n",
       "      <td>Male</td>\n",
       "      <td>No</td>\n",
       "      <td>119</td>\n",
       "      <td>19</td>\n",
       "      <td>night</td>\n",
       "      <td>19</td>\n",
       "      <td>night</td>\n",
       "    </tr>\n",
       "    <tr>\n",
       "      <th>16087</th>\n",
       "      <td>1131</td>\n",
       "      <td>2019-02-27 08:37:36.864</td>\n",
       "      <td>2019-02-27 08:56:28.022</td>\n",
       "      <td>375.0</td>\n",
       "      <td>Grove St at Masonic Ave</td>\n",
       "      <td>37.77484</td>\n",
       "      <td>-122.44655</td>\n",
       "      <td>36.0</td>\n",
       "      <td>Folsom St at 3rd St</td>\n",
       "      <td>37.78383</td>\n",
       "      <td>...</td>\n",
       "      <td>4968</td>\n",
       "      <td>Subscriber</td>\n",
       "      <td>1900</td>\n",
       "      <td>Male</td>\n",
       "      <td>No</td>\n",
       "      <td>119</td>\n",
       "      <td>8</td>\n",
       "      <td>morning</td>\n",
       "      <td>8</td>\n",
       "      <td>morning</td>\n",
       "    </tr>\n",
       "    <tr>\n",
       "      <th>19375</th>\n",
       "      <td>641</td>\n",
       "      <td>2019-02-26 17:03:19.855</td>\n",
       "      <td>2019-02-26 17:14:01.619</td>\n",
       "      <td>9.0</td>\n",
       "      <td>Broadway at Battery St</td>\n",
       "      <td>37.79857</td>\n",
       "      <td>-122.40087</td>\n",
       "      <td>30.0</td>\n",
       "      <td>San Francisco Caltrain (Townsend St at 4th St)</td>\n",
       "      <td>37.77660</td>\n",
       "      <td>...</td>\n",
       "      <td>6164</td>\n",
       "      <td>Customer</td>\n",
       "      <td>1900</td>\n",
       "      <td>Male</td>\n",
       "      <td>No</td>\n",
       "      <td>119</td>\n",
       "      <td>17</td>\n",
       "      <td>evening</td>\n",
       "      <td>17</td>\n",
       "      <td>evening</td>\n",
       "    </tr>\n",
       "    <tr>\n",
       "      <th>21424</th>\n",
       "      <td>1424</td>\n",
       "      <td>2019-02-26 08:58:02.904</td>\n",
       "      <td>2019-02-26 09:21:47.749</td>\n",
       "      <td>375.0</td>\n",
       "      <td>Grove St at Masonic Ave</td>\n",
       "      <td>37.77484</td>\n",
       "      <td>-122.44655</td>\n",
       "      <td>343.0</td>\n",
       "      <td>Bryant St at 2nd St</td>\n",
       "      <td>37.78317</td>\n",
       "      <td>...</td>\n",
       "      <td>5344</td>\n",
       "      <td>Subscriber</td>\n",
       "      <td>1900</td>\n",
       "      <td>Male</td>\n",
       "      <td>No</td>\n",
       "      <td>119</td>\n",
       "      <td>8</td>\n",
       "      <td>morning</td>\n",
       "      <td>9</td>\n",
       "      <td>morning</td>\n",
       "    </tr>\n",
       "  </tbody>\n",
       "</table>\n",
       "<p>5 rows × 21 columns</p>\n",
       "</div>"
      ],
      "text/plain": [
       "       duration_sec              start_time                end_time  \\\n",
       "1285            148 2019-02-28 19:29:17.627 2019-02-28 19:31:45.967   \n",
       "10827          1315 2019-02-27 19:21:34.436 2019-02-27 19:43:30.008   \n",
       "16087          1131 2019-02-27 08:37:36.864 2019-02-27 08:56:28.022   \n",
       "19375           641 2019-02-26 17:03:19.855 2019-02-26 17:14:01.619   \n",
       "21424          1424 2019-02-26 08:58:02.904 2019-02-26 09:21:47.749   \n",
       "\n",
       "      start_station_id             start_station_name  start_station_latitude  \\\n",
       "1285             158.0  Shattuck Ave at Telegraph Ave                37.83328   \n",
       "10827            343.0            Bryant St at 2nd St                37.78317   \n",
       "16087            375.0        Grove St at Masonic Ave                37.77484   \n",
       "19375              9.0         Broadway at Battery St                37.79857   \n",
       "21424            375.0        Grove St at Masonic Ave                37.77484   \n",
       "\n",
       "       start_station_longitude end_station_id  \\\n",
       "1285                -122.26349          173.0   \n",
       "10827               -122.39357          375.0   \n",
       "16087               -122.44655           36.0   \n",
       "19375               -122.40087           30.0   \n",
       "21424               -122.44655          343.0   \n",
       "\n",
       "                                     end_station_name  end_station_latitude  \\\n",
       "1285                          Shattuck Ave at 55th St              37.84036   \n",
       "10827                         Grove St at Masonic Ave              37.77484   \n",
       "16087                             Folsom St at 3rd St              37.78383   \n",
       "19375  San Francisco Caltrain (Townsend St at 4th St)              37.77660   \n",
       "21424                             Bryant St at 2nd St              37.78317   \n",
       "\n",
       "       ...  bike_id   user_type member_birth_year  member_gender  \\\n",
       "1285   ...     5391  Subscriber              1900           Male   \n",
       "10827  ...     6249  Subscriber              1900           Male   \n",
       "16087  ...     4968  Subscriber              1900           Male   \n",
       "19375  ...     6164    Customer              1900           Male   \n",
       "21424  ...     5344  Subscriber              1900           Male   \n",
       "\n",
       "      bike_share_for_all_trip member_age  start_hour  day_time end_hour  \\\n",
       "1285                      Yes        119          19     night       19   \n",
       "10827                      No        119          19     night       19   \n",
       "16087                      No        119           8   morning        8   \n",
       "19375                      No        119          17   evening       17   \n",
       "21424                      No        119           8   morning        9   \n",
       "\n",
       "       return_time  \n",
       "1285         night  \n",
       "10827        night  \n",
       "16087      morning  \n",
       "19375      evening  \n",
       "21424      morning  \n",
       "\n",
       "[5 rows x 21 columns]"
      ]
     },
     "execution_count": 66,
     "metadata": {},
     "output_type": "execute_result"
    }
   ],
   "source": [
    "df_new[df_new['member_age'] == 119].head()"
   ]
  },
  {
   "cell_type": "markdown",
   "metadata": {},
   "source": [
    "#### Further look"
   ]
  },
  {
   "cell_type": "code",
   "execution_count": 67,
   "metadata": {},
   "outputs": [
    {
     "name": "stderr",
     "output_type": "stream",
     "text": [
      "c:\\Users\\ilesanmi\\Anaconda3\\lib\\site-packages\\seaborn\\distributions.py:2557: FutureWarning: `distplot` is a deprecated function and will be removed in a future version. Please adapt your code to use either `displot` (a figure-level function with similar flexibility) or `histplot` (an axes-level function for histograms).\n",
      "  warnings.warn(msg, FutureWarning)\n"
     ]
    },
    {
     "data": {
      "image/png": "[encoded data removed]",
      "text/plain": [
       "<Figure size 864x360 with 2 Axes>"
      ]
     },
     "metadata": {
      "needs_background": "light"
     },
     "output_type": "display_data"
    }
   ],
   "source": [
    "plt.figure(figsize = (12,5))\n",
    "plt.subplot(1,2,1)\n",
    "sns.distplot(df_new['member_age']);\n",
    "plt.title('member age')\n",
    "plt.xlabel('age')\n",
    "\n",
    "plt.subplot(1,2,2)\n",
    "bb = np.arange(15, df_new['member_age'].mean()+20, 5)\n",
    "plt.hist(df_new['member_age'], bins = bb);\n",
    "plt.title('member age')\n",
    "plt.xlabel('age')\n",
    "plt.show()"
   ]
  },
  {
   "cell_type": "markdown",
   "metadata": {},
   "source": [
    "#### good number of the memmber_ages are between 20 and 50"
   ]
  },
  {
   "cell_type": "code",
   "execution_count": 68,
   "metadata": {},
   "outputs": [
    {
     "data": {
      "text/plain": [
       "Text(0.5, 0, 'age bewteen 20 and 50')"
      ]
     },
     "execution_count": 68,
     "metadata": {},
     "output_type": "execute_result"
    },
    {
     "data": {
      "image/png": "[encoded data removed]",
      "text/plain": [
       "<Figure size 432x288 with 1 Axes>"
      ]
     },
     "metadata": {
      "needs_background": "light"
     },
     "output_type": "display_data"
    }
   ],
   "source": [
    "#plt.figure(figsize = (16,12))\n",
    "active_ages = df_new.query('member_age > 20 & member_age<50')\n",
    "#active_ages\n",
    "\n",
    "plt.scatter(active_ages['member_age'], active_ages['duration_sec'])\n",
    "plt.title('relationship between duration_sec and age between 20 adn 50')\n",
    "plt.ylabel('duration in sec')\n",
    "plt.xlabel('age bewteen 20 and 50')"
   ]
  },
  {
   "cell_type": "markdown",
   "metadata": {},
   "source": [
    "#### **observation:** More duration time on the left side of age 35"
   ]
  },
  {
   "cell_type": "code",
   "execution_count": 69,
   "metadata": {},
   "outputs": [],
   "source": [
    "age_below_100 = df_new[df_new['member_age']<= 100]"
   ]
  },
  {
   "cell_type": "code",
   "execution_count": 70,
   "metadata": {},
   "outputs": [
    {
     "data": {
      "text/plain": [
       "Text(0.5, 0, 'age less than 100')"
      ]
     },
     "execution_count": 70,
     "metadata": {},
     "output_type": "execute_result"
    },
    {
     "data": {
      "image/png": "[encoded data removed]",
      "text/plain": [
       "<Figure size 432x288 with 1 Axes>"
      ]
     },
     "metadata": {
      "needs_background": "light"
     },
     "output_type": "display_data"
    }
   ],
   "source": [
    "plt.scatter(age_below_100['member_age'],age_below_100['duration_sec'])\n",
    "plt.title('relationship between duration_sec and age lesser than 100')\n",
    "plt.ylabel('duration in sec')\n",
    "plt.xlabel('age less than 100')"
   ]
  },
  {
   "cell_type": "markdown",
   "metadata": {},
   "source": [
    "#### **Final Observation:** There's a slight negative correlation between duration and member_age. \n",
    "* And this is normal because the duration really has nothing to do with age though (as seen too), younger people tend to ride longer"
   ]
  },
  {
   "cell_type": "code",
   "execution_count": null,
   "metadata": {},
   "outputs": [],
   "source": []
  },
  {
   "cell_type": "markdown",
   "metadata": {},
   "source": [
    "## Average age for genders"
   ]
  },
  {
   "cell_type": "code",
   "execution_count": 71,
   "metadata": {},
   "outputs": [
    {
     "data": {
      "text/plain": [
       "Text(0.5, 0, 'Gender')"
      ]
     },
     "execution_count": 71,
     "metadata": {},
     "output_type": "execute_result"
    },
    {
     "data": {
      "image/png": "[encoded data removed]",
      "text/plain": [
       "<Figure size 432x288 with 1 Axes>"
      ]
     },
     "metadata": {
      "needs_background": "light"
     },
     "output_type": "display_data"
    }
   ],
   "source": [
    "df_new.groupby('member_gender')['member_age'].mean().plot(kind = 'bar')\n",
    "plt.title('average age for the gender')\n",
    "plt.ylabel('count')\n",
    "plt.xlabel('Gender')"
   ]
  },
  {
   "cell_type": "code",
   "execution_count": 72,
   "metadata": {},
   "outputs": [
    {
     "data": {
      "text/html": [
       "<div>\n",
       "<style scoped>\n",
       "    .dataframe tbody tr th:only-of-type {\n",
       "        vertical-align: middle;\n",
       "    }\n",
       "\n",
       "    .dataframe tbody tr th {\n",
       "        vertical-align: top;\n",
       "    }\n",
       "\n",
       "    .dataframe thead th {\n",
       "        text-align: right;\n",
       "    }\n",
       "</style>\n",
       "<table border=\"1\" class=\"dataframe\">\n",
       "  <thead>\n",
       "    <tr style=\"text-align: right;\">\n",
       "      <th></th>\n",
       "      <th>count</th>\n",
       "      <th>mean</th>\n",
       "      <th>std</th>\n",
       "      <th>min</th>\n",
       "      <th>25%</th>\n",
       "      <th>50%</th>\n",
       "      <th>75%</th>\n",
       "      <th>max</th>\n",
       "    </tr>\n",
       "    <tr>\n",
       "      <th>member_gender</th>\n",
       "      <th></th>\n",
       "      <th></th>\n",
       "      <th></th>\n",
       "      <th></th>\n",
       "      <th></th>\n",
       "      <th></th>\n",
       "      <th></th>\n",
       "      <th></th>\n",
       "    </tr>\n",
       "  </thead>\n",
       "  <tbody>\n",
       "    <tr>\n",
       "      <th>Female</th>\n",
       "      <td>40804.0</td>\n",
       "      <td>33.221057</td>\n",
       "      <td>9.268773</td>\n",
       "      <td>18.0</td>\n",
       "      <td>27.0</td>\n",
       "      <td>31.0</td>\n",
       "      <td>37.0</td>\n",
       "      <td>119.0</td>\n",
       "    </tr>\n",
       "    <tr>\n",
       "      <th>Male</th>\n",
       "      <td>130500.0</td>\n",
       "      <td>34.453617</td>\n",
       "      <td>10.345189</td>\n",
       "      <td>18.0</td>\n",
       "      <td>27.0</td>\n",
       "      <td>32.0</td>\n",
       "      <td>39.0</td>\n",
       "      <td>119.0</td>\n",
       "    </tr>\n",
       "    <tr>\n",
       "      <th>Other</th>\n",
       "      <td>3647.0</td>\n",
       "      <td>35.897998</td>\n",
       "      <td>10.098447</td>\n",
       "      <td>19.0</td>\n",
       "      <td>29.0</td>\n",
       "      <td>34.0</td>\n",
       "      <td>40.0</td>\n",
       "      <td>109.0</td>\n",
       "    </tr>\n",
       "  </tbody>\n",
       "</table>\n",
       "</div>"
      ],
      "text/plain": [
       "                  count       mean        std   min   25%   50%   75%    max\n",
       "member_gender                                                               \n",
       "Female          40804.0  33.221057   9.268773  18.0  27.0  31.0  37.0  119.0\n",
       "Male           130500.0  34.453617  10.345189  18.0  27.0  32.0  39.0  119.0\n",
       "Other            3647.0  35.897998  10.098447  19.0  29.0  34.0  40.0  109.0"
      ]
     },
     "execution_count": 72,
     "metadata": {},
     "output_type": "execute_result"
    }
   ],
   "source": [
    "df_new.groupby('member_gender')['member_age'].describe()"
   ]
  },
  {
   "cell_type": "markdown",
   "metadata": {},
   "source": [
    "#### **observation:** they are about the same mean age even with more of male than others and spanning ranges"
   ]
  },
  {
   "cell_type": "code",
   "execution_count": 73,
   "metadata": {},
   "outputs": [
    {
     "data": {
      "text/plain": [
       "Index(['duration_sec', 'start_time', 'end_time', 'start_station_id',\n",
       "       'start_station_name', 'start_station_latitude',\n",
       "       'start_station_longitude', 'end_station_id', 'end_station_name',\n",
       "       'end_station_latitude', 'end_station_longitude', 'bike_id', 'user_type',\n",
       "       'member_birth_year', 'member_gender', 'bike_share_for_all_trip',\n",
       "       'member_age', 'start_hour', 'day_time', 'end_hour', 'return_time'],\n",
       "      dtype='object')"
      ]
     },
     "execution_count": 73,
     "metadata": {},
     "output_type": "execute_result"
    }
   ],
   "source": [
    "df_new.columns"
   ]
  },
  {
   "cell_type": "code",
   "execution_count": null,
   "metadata": {},
   "outputs": [],
   "source": []
  },
  {
   "cell_type": "markdown",
   "metadata": {},
   "source": [
    "## **For the top 10 stations, how are the rides for each time of the day**"
   ]
  },
  {
   "cell_type": "markdown",
   "metadata": {},
   "source": [
    "#### Number of trips for each day time -- morning, afternoon, evening and night"
   ]
  },
  {
   "cell_type": "code",
   "execution_count": 74,
   "metadata": {},
   "outputs": [
    {
     "data": {
      "image/png": "[encoded data removed]",
      "text/plain": [
       "<Figure size 576x720 with 1 Axes>"
      ]
     },
     "metadata": {
      "needs_background": "light"
     },
     "output_type": "display_data"
    }
   ],
   "source": [
    "fig = plt.figure(figsize=(8,10))\n",
    "#plt.subplots_adjust(top=0.95)\n",
    "fig.suptitle('Count of trips for each day time', fontsize=14)\n",
    "\n",
    "\n",
    "sns.countplot(data=df_top_ten, y='start_station_name', hue='day_time')\n",
    "plt.legend(loc='center left', bbox_to_anchor=(1,0.5))\n",
    "plt.ylabel('Start Station Name')\n",
    "plt.xlabel('Count');"
   ]
  },
  {
   "cell_type": "markdown",
   "metadata": {},
   "source": [
    "#### checking the return time "
   ]
  },
  {
   "cell_type": "code",
   "execution_count": 75,
   "metadata": {},
   "outputs": [
    {
     "data": {
      "image/png": "[encoded data removed]",
      "text/plain": [
       "<Figure size 576x720 with 1 Axes>"
      ]
     },
     "metadata": {
      "needs_background": "light"
     },
     "output_type": "display_data"
    }
   ],
   "source": [
    "fig = plt.figure(figsize=(8,10))\n",
    "#plt.subplots_adjust(top=0.95)\n",
    "fig.suptitle('Count of trips for each day time', fontsize=14)\n",
    "\n",
    "\n",
    "sns.countplot(data=df_top_ten, y='start_station_name', hue='return_time')\n",
    "plt.legend(loc='center left', bbox_to_anchor=(1,0.5))\n",
    "plt.ylabel('Start Station Name')\n",
    "plt.xlabel('Count');"
   ]
  },
  {
   "cell_type": "markdown",
   "metadata": {},
   "source": [
    "#### **Observation:** So, aside morning, most of the rides are between 5pm and 7pm --- evening and also, sanfrancisco seems to be a very busy industrious area"
   ]
  },
  {
   "cell_type": "code",
   "execution_count": null,
   "metadata": {},
   "outputs": [],
   "source": []
  },
  {
   "cell_type": "markdown",
   "metadata": {},
   "source": [
    "### Number of Usertypes for the top10 stations"
   ]
  },
  {
   "cell_type": "code",
   "execution_count": 76,
   "metadata": {},
   "outputs": [
    {
     "data": {
      "image/png": "[encoded data removed]",
      "text/plain": [
       "<Figure size 720x720 with 1 Axes>"
      ]
     },
     "metadata": {
      "needs_background": "light"
     },
     "output_type": "display_data"
    }
   ],
   "source": [
    "fig = plt.figure(figsize=(10,10))\n",
    "fig.suptitle('count of user type per station' , fontsize=14)\n",
    "\n",
    "\n",
    "sns.countplot(data=df_top_ten, y='start_station_name', hue='user_type')\n",
    "plt.legend(loc='center left', bbox_to_anchor=(1,0.5))\n",
    "plt.ylabel('Top 10 start Station Name')\n",
    "plt.xlabel('Count');"
   ]
  },
  {
   "cell_type": "code",
   "execution_count": 77,
   "metadata": {},
   "outputs": [],
   "source": [
    "#### End station check"
   ]
  },
  {
   "cell_type": "code",
   "execution_count": 78,
   "metadata": {},
   "outputs": [
    {
     "data": {
      "image/png": "[encoded data removed]",
      "text/plain": [
       "<Figure size 720x720 with 1 Axes>"
      ]
     },
     "metadata": {
      "needs_background": "light"
     },
     "output_type": "display_data"
    }
   ],
   "source": [
    "fig = plt.figure(figsize=(10,10))\n",
    "fig.suptitle('count of user type per station' , fontsize=14)\n",
    "\n",
    "\n",
    "sns.countplot(data=df_top_ten_2, y='end_station_name', hue='user_type')\n",
    "plt.legend(loc='center left', bbox_to_anchor=(1,0.5))\n",
    "plt.ylabel('Top 10 start Station Name')\n",
    "plt.xlabel('Count');"
   ]
  },
  {
   "cell_type": "markdown",
   "metadata": {},
   "source": [
    "#### **Observation:** There are places with good high number of customers like San francisco Ferry building and the The Embarcadero at Sansome St "
   ]
  },
  {
   "cell_type": "markdown",
   "metadata": {},
   "source": [
    "##### \n",
    "*Generally, we know we have more subscribers than customers... but san fransisco seems to have a goog number of Customers compared to other stations. \n",
    "There could be reasons why"
   ]
  },
  {
   "cell_type": "code",
   "execution_count": null,
   "metadata": {},
   "outputs": [],
   "source": []
  },
  {
   "cell_type": "code",
   "execution_count": 79,
   "metadata": {},
   "outputs": [
    {
     "data": {
      "text/html": [
       "<div>\n",
       "<style scoped>\n",
       "    .dataframe tbody tr th:only-of-type {\n",
       "        vertical-align: middle;\n",
       "    }\n",
       "\n",
       "    .dataframe tbody tr th {\n",
       "        vertical-align: top;\n",
       "    }\n",
       "\n",
       "    .dataframe thead th {\n",
       "        text-align: right;\n",
       "    }\n",
       "</style>\n",
       "<table border=\"1\" class=\"dataframe\">\n",
       "  <thead>\n",
       "    <tr style=\"text-align: right;\">\n",
       "      <th></th>\n",
       "      <th>duration_sec</th>\n",
       "      <th>start_time</th>\n",
       "      <th>end_time</th>\n",
       "      <th>start_station_id</th>\n",
       "      <th>start_station_name</th>\n",
       "      <th>start_station_latitude</th>\n",
       "      <th>start_station_longitude</th>\n",
       "      <th>end_station_id</th>\n",
       "      <th>end_station_name</th>\n",
       "      <th>end_station_latitude</th>\n",
       "      <th>...</th>\n",
       "      <th>bike_id</th>\n",
       "      <th>user_type</th>\n",
       "      <th>member_birth_year</th>\n",
       "      <th>member_gender</th>\n",
       "      <th>bike_share_for_all_trip</th>\n",
       "      <th>member_age</th>\n",
       "      <th>start_hour</th>\n",
       "      <th>day_time</th>\n",
       "      <th>end_hour</th>\n",
       "      <th>return_time</th>\n",
       "    </tr>\n",
       "  </thead>\n",
       "  <tbody>\n",
       "    <tr>\n",
       "      <th>76763</th>\n",
       "      <td>1095</td>\n",
       "      <td>2019-02-19 07:51:29.294</td>\n",
       "      <td>2019-02-19 08:09:45.221</td>\n",
       "      <td>365.0</td>\n",
       "      <td>Turk St at Fillmore St</td>\n",
       "      <td>37.78045</td>\n",
       "      <td>-122.43195</td>\n",
       "      <td>79.0</td>\n",
       "      <td>7th St at Brannan St</td>\n",
       "      <td>37.77349</td>\n",
       "      <td>...</td>\n",
       "      <td>5312</td>\n",
       "      <td>Subscriber</td>\n",
       "      <td>1989</td>\n",
       "      <td>Female</td>\n",
       "      <td>No</td>\n",
       "      <td>30</td>\n",
       "      <td>7</td>\n",
       "      <td>morning</td>\n",
       "      <td>8</td>\n",
       "      <td>morning</td>\n",
       "    </tr>\n",
       "    <tr>\n",
       "      <th>54835</th>\n",
       "      <td>245</td>\n",
       "      <td>2019-02-21 11:54:40.010</td>\n",
       "      <td>2019-02-21 11:58:45.713</td>\n",
       "      <td>88.0</td>\n",
       "      <td>11th St at Bryant St</td>\n",
       "      <td>37.77003</td>\n",
       "      <td>-122.41173</td>\n",
       "      <td>110.0</td>\n",
       "      <td>17th &amp; Folsom Street Park (17th St at Folsom St)</td>\n",
       "      <td>37.76371</td>\n",
       "      <td>...</td>\n",
       "      <td>5560</td>\n",
       "      <td>Subscriber</td>\n",
       "      <td>1992</td>\n",
       "      <td>Female</td>\n",
       "      <td>No</td>\n",
       "      <td>27</td>\n",
       "      <td>11</td>\n",
       "      <td>morning</td>\n",
       "      <td>11</td>\n",
       "      <td>morning</td>\n",
       "    </tr>\n",
       "    <tr>\n",
       "      <th>145105</th>\n",
       "      <td>930</td>\n",
       "      <td>2019-02-07 10:04:53.906</td>\n",
       "      <td>2019-02-07 10:20:24.589</td>\n",
       "      <td>5.0</td>\n",
       "      <td>Powell St BART Station (Market St at 5th St)</td>\n",
       "      <td>37.78390</td>\n",
       "      <td>-122.40844</td>\n",
       "      <td>89.0</td>\n",
       "      <td>Division St at Potrero Ave</td>\n",
       "      <td>37.76922</td>\n",
       "      <td>...</td>\n",
       "      <td>3506</td>\n",
       "      <td>Subscriber</td>\n",
       "      <td>1990</td>\n",
       "      <td>Male</td>\n",
       "      <td>Yes</td>\n",
       "      <td>29</td>\n",
       "      <td>10</td>\n",
       "      <td>morning</td>\n",
       "      <td>10</td>\n",
       "      <td>morning</td>\n",
       "    </tr>\n",
       "  </tbody>\n",
       "</table>\n",
       "<p>3 rows × 21 columns</p>\n",
       "</div>"
      ],
      "text/plain": [
       "        duration_sec              start_time                end_time  \\\n",
       "76763           1095 2019-02-19 07:51:29.294 2019-02-19 08:09:45.221   \n",
       "54835            245 2019-02-21 11:54:40.010 2019-02-21 11:58:45.713   \n",
       "145105           930 2019-02-07 10:04:53.906 2019-02-07 10:20:24.589   \n",
       "\n",
       "       start_station_id                            start_station_name  \\\n",
       "76763             365.0                        Turk St at Fillmore St   \n",
       "54835              88.0                          11th St at Bryant St   \n",
       "145105              5.0  Powell St BART Station (Market St at 5th St)   \n",
       "\n",
       "        start_station_latitude  start_station_longitude end_station_id  \\\n",
       "76763                 37.78045               -122.43195           79.0   \n",
       "54835                 37.77003               -122.41173          110.0   \n",
       "145105                37.78390               -122.40844           89.0   \n",
       "\n",
       "                                        end_station_name  \\\n",
       "76763                               7th St at Brannan St   \n",
       "54835   17th & Folsom Street Park (17th St at Folsom St)   \n",
       "145105                        Division St at Potrero Ave   \n",
       "\n",
       "        end_station_latitude  ...  bike_id   user_type member_birth_year  \\\n",
       "76763               37.77349  ...     5312  Subscriber              1989   \n",
       "54835               37.76371  ...     5560  Subscriber              1992   \n",
       "145105              37.76922  ...     3506  Subscriber              1990   \n",
       "\n",
       "        member_gender bike_share_for_all_trip member_age  start_hour  \\\n",
       "76763          Female                      No         30           7   \n",
       "54835          Female                      No         27          11   \n",
       "145105           Male                     Yes         29          10   \n",
       "\n",
       "        day_time end_hour  return_time  \n",
       "76763    morning        8      morning  \n",
       "54835    morning       11      morning  \n",
       "145105   morning       10      morning  \n",
       "\n",
       "[3 rows x 21 columns]"
      ]
     },
     "execution_count": 79,
     "metadata": {},
     "output_type": "execute_result"
    }
   ],
   "source": [
    "df_new.sample(3)"
   ]
  },
  {
   "cell_type": "code",
   "execution_count": 80,
   "metadata": {},
   "outputs": [
    {
     "data": {
      "text/plain": [
       "Index(['duration_sec', 'start_time', 'end_time', 'start_station_id',\n",
       "       'start_station_name', 'start_station_latitude',\n",
       "       'start_station_longitude', 'end_station_id', 'end_station_name',\n",
       "       'end_station_latitude', 'end_station_longitude', 'bike_id', 'user_type',\n",
       "       'member_birth_year', 'member_gender', 'bike_share_for_all_trip',\n",
       "       'member_age', 'start_hour', 'day_time', 'end_hour', 'return_time'],\n",
       "      dtype='object')"
      ]
     },
     "execution_count": 80,
     "metadata": {},
     "output_type": "execute_result"
    }
   ],
   "source": [
    "df_new.columns"
   ]
  },
  {
   "cell_type": "code",
   "execution_count": null,
   "metadata": {},
   "outputs": [],
   "source": []
  },
  {
   "cell_type": "code",
   "execution_count": null,
   "metadata": {},
   "outputs": [],
   "source": []
  },
  {
   "cell_type": "code",
   "execution_count": null,
   "metadata": {},
   "outputs": [],
   "source": []
  },
  {
   "cell_type": "markdown",
   "metadata": {},
   "source": [
    "## Multivariate \n",
    "<a id=\"cell175\"></a>\n"
   ]
  },
  {
   "cell_type": "markdown",
   "metadata": {},
   "source": [
    "### Another look into the number of rides per daytime"
   ]
  },
  {
   "cell_type": "code",
   "execution_count": 81,
   "metadata": {},
   "outputs": [
    {
     "name": "stderr",
     "output_type": "stream",
     "text": [
      "c:\\Users\\ilesanmi\\Anaconda3\\lib\\site-packages\\seaborn\\axisgrid.py:316: UserWarning: The `size` parameter has been renamed to `height`; please update your code.\n",
      "  warnings.warn(msg, UserWarning)\n",
      "c:\\Users\\ilesanmi\\Anaconda3\\lib\\site-packages\\seaborn\\axisgrid.py:643: UserWarning: Using the countplot function without specifying `order` is likely to produce an incorrect plot.\n",
      "  warnings.warn(warning)\n"
     ]
    },
    {
     "data": {
      "image/png": "[encoded data removed]",
      "text/plain": [
       "<Figure size 2016x504 with 4 Axes>"
      ]
     },
     "metadata": {
      "needs_background": "light"
     },
     "output_type": "display_data"
    }
   ],
   "source": [
    "g = sns.FacetGrid(data = df_top_ten, col = 'day_time', size = 7 );\n",
    "g.map(sns.countplot, 'start_station_name');\n",
    "g.set_xticklabels(rotation = 90, fontsize = 15)\n",
    "plt.show()\n",
    "#plt.title('Facet look into the start station name, time and ride')"
   ]
  },
  {
   "cell_type": "markdown",
   "metadata": {},
   "source": [
    "####\n",
    "* more evident of how there are more rides in the morning and evening\n",
    "\n",
    "#### \n",
    "* So, the order is morning > evening > afternoon > night"
   ]
  },
  {
   "cell_type": "markdown",
   "metadata": {},
   "source": [
    "### checking for return_ride"
   ]
  },
  {
   "cell_type": "code",
   "execution_count": null,
   "metadata": {},
   "outputs": [],
   "source": []
  },
  {
   "cell_type": "code",
   "execution_count": 82,
   "metadata": {},
   "outputs": [
    {
     "name": "stderr",
     "output_type": "stream",
     "text": [
      "c:\\Users\\ilesanmi\\Anaconda3\\lib\\site-packages\\seaborn\\axisgrid.py:316: UserWarning: The `size` parameter has been renamed to `height`; please update your code.\n",
      "  warnings.warn(msg, UserWarning)\n",
      "c:\\Users\\ilesanmi\\Anaconda3\\lib\\site-packages\\seaborn\\axisgrid.py:643: UserWarning: Using the countplot function without specifying `order` is likely to produce an incorrect plot.\n",
      "  warnings.warn(warning)\n"
     ]
    },
    {
     "data": {
      "image/png": "[encoded data removed]",
      "text/plain": [
       "<Figure size 2016x504 with 4 Axes>"
      ]
     },
     "metadata": {
      "needs_background": "light"
     },
     "output_type": "display_data"
    }
   ],
   "source": [
    "g = sns.FacetGrid(data = df_top_ten_2, col = 'day_time', size = 7 );\n",
    "g.map(sns.countplot, 'end_station_name');\n",
    "g.set_xticklabels(rotation = 90, fontsize = 15)\n",
    "plt.title('Facet look into the start station name, time and ride')\n",
    "plt.show()"
   ]
  },
  {
   "cell_type": "markdown",
   "metadata": {},
   "source": [
    "#### **Observation:** \n",
    "* We see a great increase in the evening compared to morning\n",
    "* So the order is evening > morning > afternoon > night"
   ]
  },
  {
   "cell_type": "code",
   "execution_count": null,
   "metadata": {},
   "outputs": [],
   "source": []
  },
  {
   "cell_type": "code",
   "execution_count": null,
   "metadata": {},
   "outputs": [],
   "source": []
  },
  {
   "cell_type": "code",
   "execution_count": 83,
   "metadata": {},
   "outputs": [],
   "source": [
    "# Having done all of the necessary exploration"
   ]
  },
  {
   "cell_type": "markdown",
   "metadata": {},
   "source": [
    "# *Saving the dataframe for explanation*"
   ]
  },
  {
   "cell_type": "code",
   "execution_count": 84,
   "metadata": {},
   "outputs": [],
   "source": [
    "df_new.to_csv('cleaned_data.csv', index = False)"
   ]
  },
  {
   "cell_type": "code",
   "execution_count": null,
   "metadata": {},
   "outputs": [],
   "source": []
  }
 ],
 "metadata": {
  "hide_input": false,
  "kernelspec": {
   "display_name": "Python 3",
   "language": "python",
   "name": "python3"
  },
  "language_info": {
   "codemirror_mode": {
    "name": "ipython",
    "version": 3
   },
   "file_extension": ".py",
   "mimetype": "text/x-python",
   "name": "python",
   "nbconvert_exporter": "python",
   "pygments_lexer": "ipython3",
   "version": "3.8.8"
  },
  "vscode": {
   "interpreter": {
    "hash": "f1b1584471b4390c269948253bc0abe58a202cc753e11f035e3dc25ef1e1ef6e"
   }
  }
 },
 "nbformat": 4,
 "nbformat_minor": 2
}

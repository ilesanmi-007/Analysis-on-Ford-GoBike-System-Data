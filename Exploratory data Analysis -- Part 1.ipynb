{
 "cells": [
  {
   "cell_type": "markdown",
   "metadata": {},
   "source": [
    "# **Ford GoBike System Data project**"
   ]
  },
  {
   "cell_type": "markdown",
   "metadata": {},
   "source": [
    "## Data Wrangling\n",
    "1. Importing libraries\n",
    "2. [Gather](#Gather)\n",
    "3. Assess\n",
    "4. [Clean](#cell22)\n",
    "5. [Exploration](#cell78)\n",
    "### \n",
    "* [Univariate Exploration](#cell89)\n",
    "* [Bivariate Exploration](#cell132)\n",
    "* [Multivariate Exploration](#cell175)"
   ]
  },
  {
   "cell_type": "markdown",
   "metadata": {},
   "source": [
    "Importing Libraries"
   ]
  },
  {
   "cell_type": "code",
   "execution_count": 1,
   "metadata": {},
   "outputs": [],
   "source": [
    "import numpy as np\n",
    "import pandas as pd\n",
    "import matplotlib.pyplot as plt\n",
    "import seaborn as sns"
   ]
  },
  {
   "cell_type": "markdown",
   "metadata": {},
   "source": [
    "### Step 1: Gather <a id=\"Gather\"></a>"
   ]
  },
  {
   "cell_type": "markdown",
   "metadata": {},
   "source": [
    "<a id=\"cell2\"></a>"
   ]
  },
  {
   "cell_type": "code",
   "execution_count": 2,
   "metadata": {},
   "outputs": [],
   "source": [
    "df = pd.read_csv(r'C:\\Users\\ilesanmi\\Desktop\\Udacity\\Vis Proj\\201902-fordgobike-tripdata.csv')"
   ]
  },
  {
   "cell_type": "markdown",
   "metadata": {},
   "source": [
    "## Step 2: Assess"
   ]
  },
  {
   "cell_type": "markdown",
   "metadata": {},
   "source": [
    "#### Used spreadsheet for visual assessment"
   ]
  },
  {
   "cell_type": "code",
   "execution_count": 3,
   "metadata": {},
   "outputs": [
    {
     "data": {
      "text/html": [
       "<div>\n",
       "<style scoped>\n",
       "    .dataframe tbody tr th:only-of-type {\n",
       "        vertical-align: middle;\n",
       "    }\n",
       "\n",
       "    .dataframe tbody tr th {\n",
       "        vertical-align: top;\n",
       "    }\n",
       "\n",
       "    .dataframe thead th {\n",
       "        text-align: right;\n",
       "    }\n",
       "</style>\n",
       "<table border=\"1\" class=\"dataframe\">\n",
       "  <thead>\n",
       "    <tr style=\"text-align: right;\">\n",
       "      <th></th>\n",
       "      <th>duration_sec</th>\n",
       "      <th>start_time</th>\n",
       "      <th>end_time</th>\n",
       "      <th>start_station_id</th>\n",
       "      <th>start_station_name</th>\n",
       "      <th>start_station_latitude</th>\n",
       "      <th>start_station_longitude</th>\n",
       "      <th>end_station_id</th>\n",
       "      <th>end_station_name</th>\n",
       "      <th>end_station_latitude</th>\n",
       "      <th>end_station_longitude</th>\n",
       "      <th>bike_id</th>\n",
       "      <th>user_type</th>\n",
       "      <th>member_birth_year</th>\n",
       "      <th>member_gender</th>\n",
       "      <th>bike_share_for_all_trip</th>\n",
       "    </tr>\n",
       "  </thead>\n",
       "  <tbody>\n",
       "    <tr>\n",
       "      <th>0</th>\n",
       "      <td>52185</td>\n",
       "      <td>2019-02-28 17:32:10.1450</td>\n",
       "      <td>2019-03-01 08:01:55.9750</td>\n",
       "      <td>21.0</td>\n",
       "      <td>Montgomery St BART Station (Market St at 2nd St)</td>\n",
       "      <td>37.789625</td>\n",
       "      <td>-122.400811</td>\n",
       "      <td>13.0</td>\n",
       "      <td>Commercial St at Montgomery St</td>\n",
       "      <td>37.794231</td>\n",
       "      <td>-122.402923</td>\n",
       "      <td>4902</td>\n",
       "      <td>Customer</td>\n",
       "      <td>1984.0</td>\n",
       "      <td>Male</td>\n",
       "      <td>No</td>\n",
       "    </tr>\n",
       "    <tr>\n",
       "      <th>1</th>\n",
       "      <td>42521</td>\n",
       "      <td>2019-02-28 18:53:21.7890</td>\n",
       "      <td>2019-03-01 06:42:03.0560</td>\n",
       "      <td>23.0</td>\n",
       "      <td>The Embarcadero at Steuart St</td>\n",
       "      <td>37.791464</td>\n",
       "      <td>-122.391034</td>\n",
       "      <td>81.0</td>\n",
       "      <td>Berry St at 4th St</td>\n",
       "      <td>37.775880</td>\n",
       "      <td>-122.393170</td>\n",
       "      <td>2535</td>\n",
       "      <td>Customer</td>\n",
       "      <td>NaN</td>\n",
       "      <td>NaN</td>\n",
       "      <td>No</td>\n",
       "    </tr>\n",
       "    <tr>\n",
       "      <th>2</th>\n",
       "      <td>61854</td>\n",
       "      <td>2019-02-28 12:13:13.2180</td>\n",
       "      <td>2019-03-01 05:24:08.1460</td>\n",
       "      <td>86.0</td>\n",
       "      <td>Market St at Dolores St</td>\n",
       "      <td>37.769305</td>\n",
       "      <td>-122.426826</td>\n",
       "      <td>3.0</td>\n",
       "      <td>Powell St BART Station (Market St at 4th St)</td>\n",
       "      <td>37.786375</td>\n",
       "      <td>-122.404904</td>\n",
       "      <td>5905</td>\n",
       "      <td>Customer</td>\n",
       "      <td>1972.0</td>\n",
       "      <td>Male</td>\n",
       "      <td>No</td>\n",
       "    </tr>\n",
       "  </tbody>\n",
       "</table>\n",
       "</div>"
      ],
      "text/plain": [
       "   duration_sec                start_time                  end_time  \\\n",
       "0         52185  2019-02-28 17:32:10.1450  2019-03-01 08:01:55.9750   \n",
       "1         42521  2019-02-28 18:53:21.7890  2019-03-01 06:42:03.0560   \n",
       "2         61854  2019-02-28 12:13:13.2180  2019-03-01 05:24:08.1460   \n",
       "\n",
       "   start_station_id                                start_station_name  \\\n",
       "0              21.0  Montgomery St BART Station (Market St at 2nd St)   \n",
       "1              23.0                     The Embarcadero at Steuart St   \n",
       "2              86.0                           Market St at Dolores St   \n",
       "\n",
       "   start_station_latitude  start_station_longitude  end_station_id  \\\n",
       "0               37.789625              -122.400811            13.0   \n",
       "1               37.791464              -122.391034            81.0   \n",
       "2               37.769305              -122.426826             3.0   \n",
       "\n",
       "                               end_station_name  end_station_latitude  \\\n",
       "0                Commercial St at Montgomery St             37.794231   \n",
       "1                            Berry St at 4th St             37.775880   \n",
       "2  Powell St BART Station (Market St at 4th St)             37.786375   \n",
       "\n",
       "   end_station_longitude  bike_id user_type  member_birth_year member_gender  \\\n",
       "0            -122.402923     4902  Customer             1984.0          Male   \n",
       "1            -122.393170     2535  Customer                NaN           NaN   \n",
       "2            -122.404904     5905  Customer             1972.0          Male   \n",
       "\n",
       "  bike_share_for_all_trip  \n",
       "0                      No  \n",
       "1                      No  \n",
       "2                      No  "
      ]
     },
     "execution_count": 3,
     "metadata": {},
     "output_type": "execute_result"
    }
   ],
   "source": [
    "df.head(3)"
   ]
  },
  {
   "cell_type": "code",
   "execution_count": 4,
   "metadata": {},
   "outputs": [
    {
     "name": "stdout",
     "output_type": "stream",
     "text": [
      "<class 'pandas.core.frame.DataFrame'>\n",
      "RangeIndex: 183412 entries, 0 to 183411\n",
      "Data columns (total 16 columns):\n",
      " #   Column                   Non-Null Count   Dtype  \n",
      "---  ------                   --------------   -----  \n",
      " 0   duration_sec             183412 non-null  int64  \n",
      " 1   start_time               183412 non-null  object \n",
      " 2   end_time                 183412 non-null  object \n",
      " 3   start_station_id         183215 non-null  float64\n",
      " 4   start_station_name       183215 non-null  object \n",
      " 5   start_station_latitude   183412 non-null  float64\n",
      " 6   start_station_longitude  183412 non-null  float64\n",
      " 7   end_station_id           183215 non-null  float64\n",
      " 8   end_station_name         183215 non-null  object \n",
      " 9   end_station_latitude     183412 non-null  float64\n",
      " 10  end_station_longitude    183412 non-null  float64\n",
      " 11  bike_id                  183412 non-null  int64  \n",
      " 12  user_type                183412 non-null  object \n",
      " 13  member_birth_year        175147 non-null  float64\n",
      " 14  member_gender            175147 non-null  object \n",
      " 15  bike_share_for_all_trip  183412 non-null  object \n",
      "dtypes: float64(7), int64(2), object(7)\n",
      "memory usage: 22.4+ MB\n"
     ]
    }
   ],
   "source": [
    "df.info()"
   ]
  },
  {
   "cell_type": "code",
   "execution_count": 5,
   "metadata": {},
   "outputs": [
    {
     "data": {
      "text/plain": [
       "0         1984.0\n",
       "1            NaN\n",
       "2         1972.0\n",
       "3         1989.0\n",
       "4         1974.0\n",
       "           ...  \n",
       "183407    1996.0\n",
       "183408    1984.0\n",
       "183409    1990.0\n",
       "183410    1988.0\n",
       "183411    1989.0\n",
       "Name: member_birth_year, Length: 183412, dtype: float64"
      ]
     },
     "execution_count": 5,
     "metadata": {},
     "output_type": "execute_result"
    }
   ],
   "source": [
    "df.member_birth_year"
   ]
  },
  {
   "cell_type": "code",
   "execution_count": 6,
   "metadata": {},
   "outputs": [
    {
     "data": {
      "text/plain": [
       "(183412, 16)"
      ]
     },
     "execution_count": 6,
     "metadata": {},
     "output_type": "execute_result"
    }
   ],
   "source": [
    "df.shape"
   ]
  },
  {
   "cell_type": "code",
   "execution_count": 7,
   "metadata": {},
   "outputs": [
    {
     "data": {
      "text/plain": [
       "Subscriber    163544\n",
       "Customer       19868\n",
       "Name: user_type, dtype: int64"
      ]
     },
     "execution_count": 7,
     "metadata": {},
     "output_type": "execute_result"
    }
   ],
   "source": [
    "df.user_type.value_counts()"
   ]
  },
  {
   "cell_type": "code",
   "execution_count": 8,
   "metadata": {},
   "outputs": [
    {
     "data": {
      "text/plain": [
       "Male      130651\n",
       "Female     40844\n",
       "Other       3652\n",
       "Name: member_gender, dtype: int64"
      ]
     },
     "execution_count": 8,
     "metadata": {},
     "output_type": "execute_result"
    }
   ],
   "source": [
    "df.member_gender.value_counts()"
   ]
  },
  {
   "cell_type": "markdown",
   "metadata": {},
   "source": [
    "## Quality\n",
    "\n",
    "1. start time, end_time should be in date-time format\n",
    "2. start_station_id, end_station_id, bike_id should be object datatype \n",
    "3. member_birth_year should be an int not float\n",
    "4. inconsistent decimal place of the longitudes and latitudes\n",
    "\n",
    "5. creating an age column\n",
    "6.  start_station_id, start_station_name, end_station_id, end_station_name, member_birth_year, member_gender have missing datas\n",
    "7. missing member birth year\n",
    "8. member birth year 1878 is an outlier\n",
    "9. add a column that changes duration_sec column to realtime\n",
    "10. the member_age 119 should be 19 --- igored cause there are quite a good number of age above 100 as shown below"
   ]
  },
  {
   "cell_type": "code",
   "execution_count": null,
   "metadata": {},
   "outputs": [],
   "source": []
  },
  {
   "cell_type": "code",
   "execution_count": 9,
   "metadata": {},
   "outputs": [
    {
     "data": {
      "text/html": [
       "<div>\n",
       "<style scoped>\n",
       "    .dataframe tbody tr th:only-of-type {\n",
       "        vertical-align: middle;\n",
       "    }\n",
       "\n",
       "    .dataframe tbody tr th {\n",
       "        vertical-align: top;\n",
       "    }\n",
       "\n",
       "    .dataframe thead th {\n",
       "        text-align: right;\n",
       "    }\n",
       "</style>\n",
       "<table border=\"1\" class=\"dataframe\">\n",
       "  <thead>\n",
       "    <tr style=\"text-align: right;\">\n",
       "      <th></th>\n",
       "      <th>duration_sec</th>\n",
       "      <th>start_time</th>\n",
       "      <th>end_time</th>\n",
       "      <th>start_station_id</th>\n",
       "      <th>start_station_name</th>\n",
       "      <th>start_station_latitude</th>\n",
       "      <th>start_station_longitude</th>\n",
       "      <th>end_station_id</th>\n",
       "      <th>end_station_name</th>\n",
       "      <th>end_station_latitude</th>\n",
       "      <th>end_station_longitude</th>\n",
       "      <th>bike_id</th>\n",
       "      <th>user_type</th>\n",
       "      <th>member_birth_year</th>\n",
       "      <th>member_gender</th>\n",
       "      <th>bike_share_for_all_trip</th>\n",
       "    </tr>\n",
       "  </thead>\n",
       "  <tbody>\n",
       "    <tr>\n",
       "      <th>123833</th>\n",
       "      <td>251</td>\n",
       "      <td>2019-02-11 09:04:30.3160</td>\n",
       "      <td>2019-02-11 09:08:41.5440</td>\n",
       "      <td>126.0</td>\n",
       "      <td>Esprit Park</td>\n",
       "      <td>37.761634</td>\n",
       "      <td>-122.390648</td>\n",
       "      <td>126.0</td>\n",
       "      <td>Esprit Park</td>\n",
       "      <td>37.761634</td>\n",
       "      <td>-122.390648</td>\n",
       "      <td>1677</td>\n",
       "      <td>Customer</td>\n",
       "      <td>1992.0</td>\n",
       "      <td>Female</td>\n",
       "      <td>No</td>\n",
       "    </tr>\n",
       "    <tr>\n",
       "      <th>82276</th>\n",
       "      <td>607</td>\n",
       "      <td>2019-02-18 10:43:39.7090</td>\n",
       "      <td>2019-02-18 10:53:46.8340</td>\n",
       "      <td>296.0</td>\n",
       "      <td>5th St at Virginia St</td>\n",
       "      <td>37.325998</td>\n",
       "      <td>-121.877120</td>\n",
       "      <td>279.0</td>\n",
       "      <td>Santa Clara St at 7th St</td>\n",
       "      <td>37.339146</td>\n",
       "      <td>-121.884105</td>\n",
       "      <td>3824</td>\n",
       "      <td>Subscriber</td>\n",
       "      <td>1992.0</td>\n",
       "      <td>Female</td>\n",
       "      <td>Yes</td>\n",
       "    </tr>\n",
       "    <tr>\n",
       "      <th>133467</th>\n",
       "      <td>523</td>\n",
       "      <td>2019-02-08 18:58:02.0640</td>\n",
       "      <td>2019-02-08 19:06:46.0510</td>\n",
       "      <td>310.0</td>\n",
       "      <td>San Fernando St at 4th St</td>\n",
       "      <td>37.335885</td>\n",
       "      <td>-121.885660</td>\n",
       "      <td>294.0</td>\n",
       "      <td>Pierce Ave at Market St</td>\n",
       "      <td>37.327581</td>\n",
       "      <td>-121.884559</td>\n",
       "      <td>1086</td>\n",
       "      <td>Subscriber</td>\n",
       "      <td>1993.0</td>\n",
       "      <td>Male</td>\n",
       "      <td>Yes</td>\n",
       "    </tr>\n",
       "  </tbody>\n",
       "</table>\n",
       "</div>"
      ],
      "text/plain": [
       "        duration_sec                start_time                  end_time  \\\n",
       "123833           251  2019-02-11 09:04:30.3160  2019-02-11 09:08:41.5440   \n",
       "82276            607  2019-02-18 10:43:39.7090  2019-02-18 10:53:46.8340   \n",
       "133467           523  2019-02-08 18:58:02.0640  2019-02-08 19:06:46.0510   \n",
       "\n",
       "        start_station_id         start_station_name  start_station_latitude  \\\n",
       "123833             126.0                Esprit Park               37.761634   \n",
       "82276              296.0      5th St at Virginia St               37.325998   \n",
       "133467             310.0  San Fernando St at 4th St               37.335885   \n",
       "\n",
       "        start_station_longitude  end_station_id          end_station_name  \\\n",
       "123833              -122.390648           126.0               Esprit Park   \n",
       "82276               -121.877120           279.0  Santa Clara St at 7th St   \n",
       "133467              -121.885660           294.0   Pierce Ave at Market St   \n",
       "\n",
       "        end_station_latitude  end_station_longitude  bike_id   user_type  \\\n",
       "123833             37.761634            -122.390648     1677    Customer   \n",
       "82276              37.339146            -121.884105     3824  Subscriber   \n",
       "133467             37.327581            -121.884559     1086  Subscriber   \n",
       "\n",
       "        member_birth_year member_gender bike_share_for_all_trip  \n",
       "123833             1992.0        Female                      No  \n",
       "82276              1992.0        Female                     Yes  \n",
       "133467             1993.0          Male                     Yes  "
      ]
     },
     "execution_count": 9,
     "metadata": {},
     "output_type": "execute_result"
    }
   ],
   "source": [
    "df.sample(3)"
   ]
  },
  {
   "cell_type": "code",
   "execution_count": 10,
   "metadata": {},
   "outputs": [
    {
     "name": "stdout",
     "output_type": "stream",
     "text": [
      "<class 'pandas.core.frame.DataFrame'>\n",
      "RangeIndex: 183412 entries, 0 to 183411\n",
      "Data columns (total 16 columns):\n",
      " #   Column                   Non-Null Count   Dtype  \n",
      "---  ------                   --------------   -----  \n",
      " 0   duration_sec             183412 non-null  int64  \n",
      " 1   start_time               183412 non-null  object \n",
      " 2   end_time                 183412 non-null  object \n",
      " 3   start_station_id         183215 non-null  float64\n",
      " 4   start_station_name       183215 non-null  object \n",
      " 5   start_station_latitude   183412 non-null  float64\n",
      " 6   start_station_longitude  183412 non-null  float64\n",
      " 7   end_station_id           183215 non-null  float64\n",
      " 8   end_station_name         183215 non-null  object \n",
      " 9   end_station_latitude     183412 non-null  float64\n",
      " 10  end_station_longitude    183412 non-null  float64\n",
      " 11  bike_id                  183412 non-null  int64  \n",
      " 12  user_type                183412 non-null  object \n",
      " 13  member_birth_year        175147 non-null  float64\n",
      " 14  member_gender            175147 non-null  object \n",
      " 15  bike_share_for_all_trip  183412 non-null  object \n",
      "dtypes: float64(7), int64(2), object(7)\n",
      "memory usage: 22.4+ MB\n"
     ]
    }
   ],
   "source": [
    "df.info()"
   ]
  },
  {
   "cell_type": "code",
   "execution_count": 11,
   "metadata": {},
   "outputs": [
    {
     "data": {
      "text/html": [
       "<div>\n",
       "<style scoped>\n",
       "    .dataframe tbody tr th:only-of-type {\n",
       "        vertical-align: middle;\n",
       "    }\n",
       "\n",
       "    .dataframe tbody tr th {\n",
       "        vertical-align: top;\n",
       "    }\n",
       "\n",
       "    .dataframe thead th {\n",
       "        text-align: right;\n",
       "    }\n",
       "</style>\n",
       "<table border=\"1\" class=\"dataframe\">\n",
       "  <thead>\n",
       "    <tr style=\"text-align: right;\">\n",
       "      <th></th>\n",
       "      <th>duration_sec</th>\n",
       "      <th>start_station_id</th>\n",
       "      <th>start_station_latitude</th>\n",
       "      <th>start_station_longitude</th>\n",
       "      <th>end_station_id</th>\n",
       "      <th>end_station_latitude</th>\n",
       "      <th>end_station_longitude</th>\n",
       "      <th>bike_id</th>\n",
       "      <th>member_birth_year</th>\n",
       "    </tr>\n",
       "  </thead>\n",
       "  <tbody>\n",
       "    <tr>\n",
       "      <th>count</th>\n",
       "      <td>183412.000000</td>\n",
       "      <td>183215.000000</td>\n",
       "      <td>183412.000000</td>\n",
       "      <td>183412.000000</td>\n",
       "      <td>183215.000000</td>\n",
       "      <td>183412.000000</td>\n",
       "      <td>183412.000000</td>\n",
       "      <td>183412.000000</td>\n",
       "      <td>175147.000000</td>\n",
       "    </tr>\n",
       "    <tr>\n",
       "      <th>mean</th>\n",
       "      <td>726.078435</td>\n",
       "      <td>138.590427</td>\n",
       "      <td>37.771223</td>\n",
       "      <td>-122.352664</td>\n",
       "      <td>136.249123</td>\n",
       "      <td>37.771427</td>\n",
       "      <td>-122.352250</td>\n",
       "      <td>4472.906375</td>\n",
       "      <td>1984.806437</td>\n",
       "    </tr>\n",
       "    <tr>\n",
       "      <th>std</th>\n",
       "      <td>1794.389780</td>\n",
       "      <td>111.778864</td>\n",
       "      <td>0.099581</td>\n",
       "      <td>0.117097</td>\n",
       "      <td>111.515131</td>\n",
       "      <td>0.099490</td>\n",
       "      <td>0.116673</td>\n",
       "      <td>1664.383394</td>\n",
       "      <td>10.116689</td>\n",
       "    </tr>\n",
       "    <tr>\n",
       "      <th>min</th>\n",
       "      <td>61.000000</td>\n",
       "      <td>3.000000</td>\n",
       "      <td>37.317298</td>\n",
       "      <td>-122.453704</td>\n",
       "      <td>3.000000</td>\n",
       "      <td>37.317298</td>\n",
       "      <td>-122.453704</td>\n",
       "      <td>11.000000</td>\n",
       "      <td>1878.000000</td>\n",
       "    </tr>\n",
       "    <tr>\n",
       "      <th>25%</th>\n",
       "      <td>325.000000</td>\n",
       "      <td>47.000000</td>\n",
       "      <td>37.770083</td>\n",
       "      <td>-122.412408</td>\n",
       "      <td>44.000000</td>\n",
       "      <td>37.770407</td>\n",
       "      <td>-122.411726</td>\n",
       "      <td>3777.000000</td>\n",
       "      <td>1980.000000</td>\n",
       "    </tr>\n",
       "    <tr>\n",
       "      <th>50%</th>\n",
       "      <td>514.000000</td>\n",
       "      <td>104.000000</td>\n",
       "      <td>37.780760</td>\n",
       "      <td>-122.398285</td>\n",
       "      <td>100.000000</td>\n",
       "      <td>37.781010</td>\n",
       "      <td>-122.398279</td>\n",
       "      <td>4958.000000</td>\n",
       "      <td>1987.000000</td>\n",
       "    </tr>\n",
       "    <tr>\n",
       "      <th>75%</th>\n",
       "      <td>796.000000</td>\n",
       "      <td>239.000000</td>\n",
       "      <td>37.797280</td>\n",
       "      <td>-122.286533</td>\n",
       "      <td>235.000000</td>\n",
       "      <td>37.797320</td>\n",
       "      <td>-122.288045</td>\n",
       "      <td>5502.000000</td>\n",
       "      <td>1992.000000</td>\n",
       "    </tr>\n",
       "    <tr>\n",
       "      <th>max</th>\n",
       "      <td>85444.000000</td>\n",
       "      <td>398.000000</td>\n",
       "      <td>37.880222</td>\n",
       "      <td>-121.874119</td>\n",
       "      <td>398.000000</td>\n",
       "      <td>37.880222</td>\n",
       "      <td>-121.874119</td>\n",
       "      <td>6645.000000</td>\n",
       "      <td>2001.000000</td>\n",
       "    </tr>\n",
       "  </tbody>\n",
       "</table>\n",
       "</div>"
      ],
      "text/plain": [
       "        duration_sec  start_station_id  start_station_latitude  \\\n",
       "count  183412.000000     183215.000000           183412.000000   \n",
       "mean      726.078435        138.590427               37.771223   \n",
       "std      1794.389780        111.778864                0.099581   \n",
       "min        61.000000          3.000000               37.317298   \n",
       "25%       325.000000         47.000000               37.770083   \n",
       "50%       514.000000        104.000000               37.780760   \n",
       "75%       796.000000        239.000000               37.797280   \n",
       "max     85444.000000        398.000000               37.880222   \n",
       "\n",
       "       start_station_longitude  end_station_id  end_station_latitude  \\\n",
       "count            183412.000000   183215.000000         183412.000000   \n",
       "mean               -122.352664      136.249123             37.771427   \n",
       "std                   0.117097      111.515131              0.099490   \n",
       "min                -122.453704        3.000000             37.317298   \n",
       "25%                -122.412408       44.000000             37.770407   \n",
       "50%                -122.398285      100.000000             37.781010   \n",
       "75%                -122.286533      235.000000             37.797320   \n",
       "max                -121.874119      398.000000             37.880222   \n",
       "\n",
       "       end_station_longitude        bike_id  member_birth_year  \n",
       "count          183412.000000  183412.000000      175147.000000  \n",
       "mean             -122.352250    4472.906375        1984.806437  \n",
       "std                 0.116673    1664.383394          10.116689  \n",
       "min              -122.453704      11.000000        1878.000000  \n",
       "25%              -122.411726    3777.000000        1980.000000  \n",
       "50%              -122.398279    4958.000000        1987.000000  \n",
       "75%              -122.288045    5502.000000        1992.000000  \n",
       "max              -121.874119    6645.000000        2001.000000  "
      ]
     },
     "execution_count": 11,
     "metadata": {},
     "output_type": "execute_result"
    }
   ],
   "source": [
    "df.describe()"
   ]
  },
  {
   "cell_type": "markdown",
   "metadata": {},
   "source": [
    "## Step 3: Clean <a id=\"cell22\"></a>"
   ]
  },
  {
   "cell_type": "markdown",
   "metadata": {},
   "source": [
    "#### Define:"
   ]
  },
  {
   "cell_type": "markdown",
   "metadata": {},
   "source": [
    "#### 7. missing member birth year\n",
    "i'll be needing the the member_birth_age column to deal with age of riders. Hence the need to replace it by the mean birth year (approximate mean)"
   ]
  },
  {
   "cell_type": "markdown",
   "metadata": {},
   "source": [
    "### code:"
   ]
  },
  {
   "cell_type": "code",
   "execution_count": 12,
   "metadata": {},
   "outputs": [
    {
     "data": {
      "text/plain": [
       "count    175147.000000\n",
       "mean       1984.806437\n",
       "std          10.116689\n",
       "min        1878.000000\n",
       "25%        1980.000000\n",
       "50%        1987.000000\n",
       "75%        1992.000000\n",
       "max        2001.000000\n",
       "Name: member_birth_year, dtype: float64"
      ]
     },
     "execution_count": 12,
     "metadata": {},
     "output_type": "execute_result"
    }
   ],
   "source": [
    "df['member_birth_year'].describe()"
   ]
  },
  {
   "cell_type": "code",
   "execution_count": 13,
   "metadata": {},
   "outputs": [],
   "source": [
    "df['member_birth_year'].fillna(value = 1985, inplace=True)"
   ]
  },
  {
   "cell_type": "markdown",
   "metadata": {},
   "source": [
    "### Test:"
   ]
  },
  {
   "cell_type": "code",
   "execution_count": 14,
   "metadata": {},
   "outputs": [
    {
     "data": {
      "text/plain": [
       "count    183412.000000\n",
       "mean       1984.815159\n",
       "std           9.886200\n",
       "min        1878.000000\n",
       "25%        1981.000000\n",
       "50%        1987.000000\n",
       "75%        1992.000000\n",
       "max        2001.000000\n",
       "Name: member_birth_year, dtype: float64"
      ]
     },
     "execution_count": 14,
     "metadata": {},
     "output_type": "execute_result"
    }
   ],
   "source": [
    "df['member_birth_year'].describe()"
   ]
  },
  {
   "cell_type": "markdown",
   "metadata": {},
   "source": [
    "#### Define\n",
    "8. Remove the birth year 1878"
   ]
  },
  {
   "cell_type": "markdown",
   "metadata": {},
   "source": [
    "#### Code:"
   ]
  },
  {
   "cell_type": "code",
   "execution_count": 15,
   "metadata": {},
   "outputs": [
    {
     "data": {
      "text/html": [
       "<div>\n",
       "<style scoped>\n",
       "    .dataframe tbody tr th:only-of-type {\n",
       "        vertical-align: middle;\n",
       "    }\n",
       "\n",
       "    .dataframe tbody tr th {\n",
       "        vertical-align: top;\n",
       "    }\n",
       "\n",
       "    .dataframe thead th {\n",
       "        text-align: right;\n",
       "    }\n",
       "</style>\n",
       "<table border=\"1\" class=\"dataframe\">\n",
       "  <thead>\n",
       "    <tr style=\"text-align: right;\">\n",
       "      <th></th>\n",
       "      <th>duration_sec</th>\n",
       "      <th>start_time</th>\n",
       "      <th>end_time</th>\n",
       "      <th>start_station_id</th>\n",
       "      <th>start_station_name</th>\n",
       "      <th>start_station_latitude</th>\n",
       "      <th>start_station_longitude</th>\n",
       "      <th>end_station_id</th>\n",
       "      <th>end_station_name</th>\n",
       "      <th>end_station_latitude</th>\n",
       "      <th>end_station_longitude</th>\n",
       "      <th>bike_id</th>\n",
       "      <th>user_type</th>\n",
       "      <th>member_birth_year</th>\n",
       "      <th>member_gender</th>\n",
       "      <th>bike_share_for_all_trip</th>\n",
       "    </tr>\n",
       "  </thead>\n",
       "  <tbody>\n",
       "    <tr>\n",
       "      <th>27370</th>\n",
       "      <td>1474</td>\n",
       "      <td>2019-02-25 09:28:42.1610</td>\n",
       "      <td>2019-02-25 09:53:17.0680</td>\n",
       "      <td>15.0</td>\n",
       "      <td>San Francisco Ferry Building (Harry Bridges Pl...</td>\n",
       "      <td>37.795392</td>\n",
       "      <td>-122.394203</td>\n",
       "      <td>386.0</td>\n",
       "      <td>24th St at Bartlett St</td>\n",
       "      <td>37.752105</td>\n",
       "      <td>-122.419724</td>\n",
       "      <td>6436</td>\n",
       "      <td>Customer</td>\n",
       "      <td>1878.0</td>\n",
       "      <td>Female</td>\n",
       "      <td>No</td>\n",
       "    </tr>\n",
       "  </tbody>\n",
       "</table>\n",
       "</div>"
      ],
      "text/plain": [
       "       duration_sec                start_time                  end_time  \\\n",
       "27370          1474  2019-02-25 09:28:42.1610  2019-02-25 09:53:17.0680   \n",
       "\n",
       "       start_station_id                                 start_station_name  \\\n",
       "27370              15.0  San Francisco Ferry Building (Harry Bridges Pl...   \n",
       "\n",
       "       start_station_latitude  start_station_longitude  end_station_id  \\\n",
       "27370               37.795392              -122.394203           386.0   \n",
       "\n",
       "             end_station_name  end_station_latitude  end_station_longitude  \\\n",
       "27370  24th St at Bartlett St             37.752105            -122.419724   \n",
       "\n",
       "       bike_id user_type  member_birth_year member_gender  \\\n",
       "27370     6436  Customer             1878.0        Female   \n",
       "\n",
       "      bike_share_for_all_trip  \n",
       "27370                      No  "
      ]
     },
     "execution_count": 15,
     "metadata": {},
     "output_type": "execute_result"
    }
   ],
   "source": [
    "df[df['member_birth_year'] == 1878]"
   ]
  },
  {
   "cell_type": "code",
   "execution_count": 16,
   "metadata": {},
   "outputs": [],
   "source": [
    "#df = df.drop(df.index[27370], axis = 0,inplace = True)\n",
    "df = df.drop(27370)"
   ]
  },
  {
   "cell_type": "markdown",
   "metadata": {},
   "source": [
    "#### Test:"
   ]
  },
  {
   "cell_type": "code",
   "execution_count": 17,
   "metadata": {},
   "outputs": [
    {
     "data": {
      "text/html": [
       "<div>\n",
       "<style scoped>\n",
       "    .dataframe tbody tr th:only-of-type {\n",
       "        vertical-align: middle;\n",
       "    }\n",
       "\n",
       "    .dataframe tbody tr th {\n",
       "        vertical-align: top;\n",
       "    }\n",
       "\n",
       "    .dataframe thead th {\n",
       "        text-align: right;\n",
       "    }\n",
       "</style>\n",
       "<table border=\"1\" class=\"dataframe\">\n",
       "  <thead>\n",
       "    <tr style=\"text-align: right;\">\n",
       "      <th></th>\n",
       "      <th>duration_sec</th>\n",
       "      <th>start_time</th>\n",
       "      <th>end_time</th>\n",
       "      <th>start_station_id</th>\n",
       "      <th>start_station_name</th>\n",
       "      <th>start_station_latitude</th>\n",
       "      <th>start_station_longitude</th>\n",
       "      <th>end_station_id</th>\n",
       "      <th>end_station_name</th>\n",
       "      <th>end_station_latitude</th>\n",
       "      <th>end_station_longitude</th>\n",
       "      <th>bike_id</th>\n",
       "      <th>user_type</th>\n",
       "      <th>member_birth_year</th>\n",
       "      <th>member_gender</th>\n",
       "      <th>bike_share_for_all_trip</th>\n",
       "    </tr>\n",
       "  </thead>\n",
       "  <tbody>\n",
       "  </tbody>\n",
       "</table>\n",
       "</div>"
      ],
      "text/plain": [
       "Empty DataFrame\n",
       "Columns: [duration_sec, start_time, end_time, start_station_id, start_station_name, start_station_latitude, start_station_longitude, end_station_id, end_station_name, end_station_latitude, end_station_longitude, bike_id, user_type, member_birth_year, member_gender, bike_share_for_all_trip]\n",
       "Index: []"
      ]
     },
     "execution_count": 17,
     "metadata": {},
     "output_type": "execute_result"
    }
   ],
   "source": [
    "df[df['member_birth_year'] == 1878]\n",
    "#df.head()"
   ]
  },
  {
   "cell_type": "code",
   "execution_count": null,
   "metadata": {},
   "outputs": [],
   "source": []
  },
  {
   "cell_type": "markdown",
   "metadata": {},
   "source": [
    "#### Define:\n",
    "1. change start_time column to date-time\n"
   ]
  },
  {
   "cell_type": "markdown",
   "metadata": {},
   "source": [
    "#### Code:"
   ]
  },
  {
   "cell_type": "code",
   "execution_count": 18,
   "metadata": {},
   "outputs": [],
   "source": [
    "df['start_time'] = pd.to_datetime(df['start_time'])\n",
    "df['end_time'] = pd.to_datetime(df['end_time'])\n",
    "\n"
   ]
  },
  {
   "cell_type": "markdown",
   "metadata": {},
   "source": [
    "#### Test:"
   ]
  },
  {
   "cell_type": "code",
   "execution_count": 19,
   "metadata": {},
   "outputs": [
    {
     "name": "stdout",
     "output_type": "stream",
     "text": [
      "<class 'pandas.core.frame.DataFrame'>\n",
      "Int64Index: 183411 entries, 0 to 183411\n",
      "Data columns (total 16 columns):\n",
      " #   Column                   Non-Null Count   Dtype         \n",
      "---  ------                   --------------   -----         \n",
      " 0   duration_sec             183411 non-null  int64         \n",
      " 1   start_time               183411 non-null  datetime64[ns]\n",
      " 2   end_time                 183411 non-null  datetime64[ns]\n",
      " 3   start_station_id         183214 non-null  float64       \n",
      " 4   start_station_name       183214 non-null  object        \n",
      " 5   start_station_latitude   183411 non-null  float64       \n",
      " 6   start_station_longitude  183411 non-null  float64       \n",
      " 7   end_station_id           183214 non-null  float64       \n",
      " 8   end_station_name         183214 non-null  object        \n",
      " 9   end_station_latitude     183411 non-null  float64       \n",
      " 10  end_station_longitude    183411 non-null  float64       \n",
      " 11  bike_id                  183411 non-null  int64         \n",
      " 12  user_type                183411 non-null  object        \n",
      " 13  member_birth_year        183411 non-null  float64       \n",
      " 14  member_gender            175146 non-null  object        \n",
      " 15  bike_share_for_all_trip  183411 non-null  object        \n",
      "dtypes: datetime64[ns](2), float64(7), int64(2), object(5)\n",
      "memory usage: 23.8+ MB\n"
     ]
    }
   ],
   "source": [
    "df.info()"
   ]
  },
  {
   "cell_type": "markdown",
   "metadata": {},
   "source": [
    "### Define:\n",
    "2. changing member_birth_year from float to int"
   ]
  },
  {
   "cell_type": "markdown",
   "metadata": {},
   "source": [
    "#### Code:"
   ]
  },
  {
   "cell_type": "code",
   "execution_count": 20,
   "metadata": {},
   "outputs": [],
   "source": [
    "df.member_birth_year = df.member_birth_year.apply('int64')"
   ]
  },
  {
   "cell_type": "markdown",
   "metadata": {},
   "source": [
    "#### Test:"
   ]
  },
  {
   "cell_type": "code",
   "execution_count": 21,
   "metadata": {},
   "outputs": [
    {
     "name": "stdout",
     "output_type": "stream",
     "text": [
      "<class 'pandas.core.frame.DataFrame'>\n",
      "Int64Index: 183411 entries, 0 to 183411\n",
      "Data columns (total 16 columns):\n",
      " #   Column                   Non-Null Count   Dtype         \n",
      "---  ------                   --------------   -----         \n",
      " 0   duration_sec             183411 non-null  int64         \n",
      " 1   start_time               183411 non-null  datetime64[ns]\n",
      " 2   end_time                 183411 non-null  datetime64[ns]\n",
      " 3   start_station_id         183214 non-null  float64       \n",
      " 4   start_station_name       183214 non-null  object        \n",
      " 5   start_station_latitude   183411 non-null  float64       \n",
      " 6   start_station_longitude  183411 non-null  float64       \n",
      " 7   end_station_id           183214 non-null  float64       \n",
      " 8   end_station_name         183214 non-null  object        \n",
      " 9   end_station_latitude     183411 non-null  float64       \n",
      " 10  end_station_longitude    183411 non-null  float64       \n",
      " 11  bike_id                  183411 non-null  int64         \n",
      " 12  user_type                183411 non-null  object        \n",
      " 13  member_birth_year        183411 non-null  int64         \n",
      " 14  member_gender            175146 non-null  object        \n",
      " 15  bike_share_for_all_trip  183411 non-null  object        \n",
      "dtypes: datetime64[ns](2), float64(6), int64(3), object(5)\n",
      "memory usage: 23.8+ MB\n"
     ]
    }
   ],
   "source": [
    "df.info()"
   ]
  },
  {
   "cell_type": "code",
   "execution_count": 22,
   "metadata": {},
   "outputs": [
    {
     "data": {
      "text/html": [
       "<div>\n",
       "<style scoped>\n",
       "    .dataframe tbody tr th:only-of-type {\n",
       "        vertical-align: middle;\n",
       "    }\n",
       "\n",
       "    .dataframe tbody tr th {\n",
       "        vertical-align: top;\n",
       "    }\n",
       "\n",
       "    .dataframe thead th {\n",
       "        text-align: right;\n",
       "    }\n",
       "</style>\n",
       "<table border=\"1\" class=\"dataframe\">\n",
       "  <thead>\n",
       "    <tr style=\"text-align: right;\">\n",
       "      <th></th>\n",
       "      <th>duration_sec</th>\n",
       "      <th>start_time</th>\n",
       "      <th>end_time</th>\n",
       "      <th>start_station_id</th>\n",
       "      <th>start_station_name</th>\n",
       "      <th>start_station_latitude</th>\n",
       "      <th>start_station_longitude</th>\n",
       "      <th>end_station_id</th>\n",
       "      <th>end_station_name</th>\n",
       "      <th>end_station_latitude</th>\n",
       "      <th>end_station_longitude</th>\n",
       "      <th>bike_id</th>\n",
       "      <th>user_type</th>\n",
       "      <th>member_birth_year</th>\n",
       "      <th>member_gender</th>\n",
       "      <th>bike_share_for_all_trip</th>\n",
       "    </tr>\n",
       "  </thead>\n",
       "  <tbody>\n",
       "    <tr>\n",
       "      <th>96977</th>\n",
       "      <td>274</td>\n",
       "      <td>2019-02-15 09:31:57.725</td>\n",
       "      <td>2019-02-15 09:36:31.808</td>\n",
       "      <td>195.0</td>\n",
       "      <td>Bay Pl at Vernon St</td>\n",
       "      <td>37.812314</td>\n",
       "      <td>-122.260779</td>\n",
       "      <td>182.0</td>\n",
       "      <td>19th Street BART Station</td>\n",
       "      <td>37.809013</td>\n",
       "      <td>-122.268247</td>\n",
       "      <td>2965</td>\n",
       "      <td>Subscriber</td>\n",
       "      <td>1989</td>\n",
       "      <td>Male</td>\n",
       "      <td>No</td>\n",
       "    </tr>\n",
       "  </tbody>\n",
       "</table>\n",
       "</div>"
      ],
      "text/plain": [
       "       duration_sec              start_time                end_time  \\\n",
       "96977           274 2019-02-15 09:31:57.725 2019-02-15 09:36:31.808   \n",
       "\n",
       "       start_station_id   start_station_name  start_station_latitude  \\\n",
       "96977             195.0  Bay Pl at Vernon St               37.812314   \n",
       "\n",
       "       start_station_longitude  end_station_id          end_station_name  \\\n",
       "96977              -122.260779           182.0  19th Street BART Station   \n",
       "\n",
       "       end_station_latitude  end_station_longitude  bike_id   user_type  \\\n",
       "96977             37.809013            -122.268247     2965  Subscriber   \n",
       "\n",
       "       member_birth_year member_gender bike_share_for_all_trip  \n",
       "96977               1989          Male                      No  "
      ]
     },
     "execution_count": 22,
     "metadata": {},
     "output_type": "execute_result"
    }
   ],
   "source": [
    "df.sample()"
   ]
  },
  {
   "cell_type": "markdown",
   "metadata": {},
   "source": [
    "#### Define:\n",
    "3. Columns: start_station_id,end_station_id, end_station_id, bike_id should be object and not float"
   ]
  },
  {
   "cell_type": "markdown",
   "metadata": {},
   "source": [
    "#### Code:"
   ]
  },
  {
   "cell_type": "code",
   "execution_count": 23,
   "metadata": {},
   "outputs": [],
   "source": [
    "df[['start_station_id','end_station_id', 'bike_id' ]] = df[['start_station_id','end_station_id', 'bike_id' ]].astype(object)"
   ]
  },
  {
   "cell_type": "markdown",
   "metadata": {},
   "source": [
    "#### Test"
   ]
  },
  {
   "cell_type": "code",
   "execution_count": 24,
   "metadata": {},
   "outputs": [
    {
     "name": "stdout",
     "output_type": "stream",
     "text": [
      "<class 'pandas.core.frame.DataFrame'>\n",
      "Int64Index: 183411 entries, 0 to 183411\n",
      "Data columns (total 16 columns):\n",
      " #   Column                   Non-Null Count   Dtype         \n",
      "---  ------                   --------------   -----         \n",
      " 0   duration_sec             183411 non-null  int64         \n",
      " 1   start_time               183411 non-null  datetime64[ns]\n",
      " 2   end_time                 183411 non-null  datetime64[ns]\n",
      " 3   start_station_id         183214 non-null  object        \n",
      " 4   start_station_name       183214 non-null  object        \n",
      " 5   start_station_latitude   183411 non-null  float64       \n",
      " 6   start_station_longitude  183411 non-null  float64       \n",
      " 7   end_station_id           183214 non-null  object        \n",
      " 8   end_station_name         183214 non-null  object        \n",
      " 9   end_station_latitude     183411 non-null  float64       \n",
      " 10  end_station_longitude    183411 non-null  float64       \n",
      " 11  bike_id                  183411 non-null  object        \n",
      " 12  user_type                183411 non-null  object        \n",
      " 13  member_birth_year        183411 non-null  int64         \n",
      " 14  member_gender            175146 non-null  object        \n",
      " 15  bike_share_for_all_trip  183411 non-null  object        \n",
      "dtypes: datetime64[ns](2), float64(4), int64(2), object(8)\n",
      "memory usage: 23.8+ MB\n"
     ]
    }
   ],
   "source": [
    "df.info()"
   ]
  },
  {
   "cell_type": "code",
   "execution_count": 25,
   "metadata": {},
   "outputs": [
    {
     "data": {
      "text/html": [
       "<div>\n",
       "<style scoped>\n",
       "    .dataframe tbody tr th:only-of-type {\n",
       "        vertical-align: middle;\n",
       "    }\n",
       "\n",
       "    .dataframe tbody tr th {\n",
       "        vertical-align: top;\n",
       "    }\n",
       "\n",
       "    .dataframe thead th {\n",
       "        text-align: right;\n",
       "    }\n",
       "</style>\n",
       "<table border=\"1\" class=\"dataframe\">\n",
       "  <thead>\n",
       "    <tr style=\"text-align: right;\">\n",
       "      <th></th>\n",
       "      <th>duration_sec</th>\n",
       "      <th>start_time</th>\n",
       "      <th>end_time</th>\n",
       "      <th>start_station_id</th>\n",
       "      <th>start_station_name</th>\n",
       "      <th>start_station_latitude</th>\n",
       "      <th>start_station_longitude</th>\n",
       "      <th>end_station_id</th>\n",
       "      <th>end_station_name</th>\n",
       "      <th>end_station_latitude</th>\n",
       "      <th>end_station_longitude</th>\n",
       "      <th>bike_id</th>\n",
       "      <th>user_type</th>\n",
       "      <th>member_birth_year</th>\n",
       "      <th>member_gender</th>\n",
       "      <th>bike_share_for_all_trip</th>\n",
       "    </tr>\n",
       "  </thead>\n",
       "  <tbody>\n",
       "    <tr>\n",
       "      <th>11865</th>\n",
       "      <td>569</td>\n",
       "      <td>2019-02-27 18:08:49.554</td>\n",
       "      <td>2019-02-27 18:18:18.715</td>\n",
       "      <td>280.0</td>\n",
       "      <td>San Fernando St at 7th St</td>\n",
       "      <td>37.337122</td>\n",
       "      <td>-121.883215</td>\n",
       "      <td>296.0</td>\n",
       "      <td>5th St at Virginia St</td>\n",
       "      <td>37.325998</td>\n",
       "      <td>-121.87712</td>\n",
       "      <td>5895</td>\n",
       "      <td>Subscriber</td>\n",
       "      <td>1995</td>\n",
       "      <td>Female</td>\n",
       "      <td>Yes</td>\n",
       "    </tr>\n",
       "  </tbody>\n",
       "</table>\n",
       "</div>"
      ],
      "text/plain": [
       "       duration_sec              start_time                end_time  \\\n",
       "11865           569 2019-02-27 18:08:49.554 2019-02-27 18:18:18.715   \n",
       "\n",
       "      start_station_id         start_station_name  start_station_latitude  \\\n",
       "11865            280.0  San Fernando St at 7th St               37.337122   \n",
       "\n",
       "       start_station_longitude end_station_id       end_station_name  \\\n",
       "11865              -121.883215          296.0  5th St at Virginia St   \n",
       "\n",
       "       end_station_latitude  end_station_longitude bike_id   user_type  \\\n",
       "11865             37.325998             -121.87712    5895  Subscriber   \n",
       "\n",
       "       member_birth_year member_gender bike_share_for_all_trip  \n",
       "11865               1995        Female                     Yes  "
      ]
     },
     "execution_count": 25,
     "metadata": {},
     "output_type": "execute_result"
    }
   ],
   "source": [
    "df.sample()"
   ]
  },
  {
   "cell_type": "markdown",
   "metadata": {},
   "source": [
    "#### Define:\n",
    "4. Make the decimal place of the longitudes and latitudes column consistent"
   ]
  },
  {
   "cell_type": "markdown",
   "metadata": {},
   "source": [
    "#### Code:"
   ]
  },
  {
   "cell_type": "code",
   "execution_count": 26,
   "metadata": {},
   "outputs": [],
   "source": [
    "df[['start_station_latitude', 'start_station_longitude', 'end_station_latitude', 'end_station_longitude']] = df[['start_station_latitude', 'start_station_longitude', 'end_station_latitude', 'end_station_longitude']].round(5)"
   ]
  },
  {
   "cell_type": "markdown",
   "metadata": {},
   "source": [
    "#### Test:"
   ]
  },
  {
   "cell_type": "code",
   "execution_count": 27,
   "metadata": {},
   "outputs": [
    {
     "data": {
      "text/html": [
       "<div>\n",
       "<style scoped>\n",
       "    .dataframe tbody tr th:only-of-type {\n",
       "        vertical-align: middle;\n",
       "    }\n",
       "\n",
       "    .dataframe tbody tr th {\n",
       "        vertical-align: top;\n",
       "    }\n",
       "\n",
       "    .dataframe thead th {\n",
       "        text-align: right;\n",
       "    }\n",
       "</style>\n",
       "<table border=\"1\" class=\"dataframe\">\n",
       "  <thead>\n",
       "    <tr style=\"text-align: right;\">\n",
       "      <th></th>\n",
       "      <th>start_station_latitude</th>\n",
       "      <th>start_station_longitude</th>\n",
       "      <th>end_station_latitude</th>\n",
       "      <th>end_station_longitude</th>\n",
       "    </tr>\n",
       "  </thead>\n",
       "  <tbody>\n",
       "    <tr>\n",
       "      <th>0</th>\n",
       "      <td>37.78963</td>\n",
       "      <td>-122.40081</td>\n",
       "      <td>37.79423</td>\n",
       "      <td>-122.40292</td>\n",
       "    </tr>\n",
       "    <tr>\n",
       "      <th>1</th>\n",
       "      <td>37.79146</td>\n",
       "      <td>-122.39103</td>\n",
       "      <td>37.77588</td>\n",
       "      <td>-122.39317</td>\n",
       "    </tr>\n",
       "    <tr>\n",
       "      <th>2</th>\n",
       "      <td>37.76931</td>\n",
       "      <td>-122.42683</td>\n",
       "      <td>37.78638</td>\n",
       "      <td>-122.40490</td>\n",
       "    </tr>\n",
       "    <tr>\n",
       "      <th>3</th>\n",
       "      <td>37.77484</td>\n",
       "      <td>-122.44655</td>\n",
       "      <td>37.77331</td>\n",
       "      <td>-122.44429</td>\n",
       "    </tr>\n",
       "    <tr>\n",
       "      <th>4</th>\n",
       "      <td>37.80456</td>\n",
       "      <td>-122.27174</td>\n",
       "      <td>37.79271</td>\n",
       "      <td>-122.24878</td>\n",
       "    </tr>\n",
       "    <tr>\n",
       "      <th>...</th>\n",
       "      <td>...</td>\n",
       "      <td>...</td>\n",
       "      <td>...</td>\n",
       "      <td>...</td>\n",
       "    </tr>\n",
       "    <tr>\n",
       "      <th>183407</th>\n",
       "      <td>37.78806</td>\n",
       "      <td>-122.39186</td>\n",
       "      <td>37.78830</td>\n",
       "      <td>-122.40853</td>\n",
       "    </tr>\n",
       "    <tr>\n",
       "      <th>183408</th>\n",
       "      <td>37.78963</td>\n",
       "      <td>-122.40081</td>\n",
       "      <td>37.77874</td>\n",
       "      <td>-122.39274</td>\n",
       "    </tr>\n",
       "    <tr>\n",
       "      <th>183409</th>\n",
       "      <td>37.33193</td>\n",
       "      <td>-121.90489</td>\n",
       "      <td>37.33366</td>\n",
       "      <td>-121.90859</td>\n",
       "    </tr>\n",
       "    <tr>\n",
       "      <th>183410</th>\n",
       "      <td>37.81135</td>\n",
       "      <td>-122.27342</td>\n",
       "      <td>37.81783</td>\n",
       "      <td>-122.27570</td>\n",
       "    </tr>\n",
       "    <tr>\n",
       "      <th>183411</th>\n",
       "      <td>37.78968</td>\n",
       "      <td>-122.39043</td>\n",
       "      <td>37.78500</td>\n",
       "      <td>-122.39594</td>\n",
       "    </tr>\n",
       "  </tbody>\n",
       "</table>\n",
       "<p>183411 rows × 4 columns</p>\n",
       "</div>"
      ],
      "text/plain": [
       "        start_station_latitude  start_station_longitude  end_station_latitude  \\\n",
       "0                     37.78963               -122.40081              37.79423   \n",
       "1                     37.79146               -122.39103              37.77588   \n",
       "2                     37.76931               -122.42683              37.78638   \n",
       "3                     37.77484               -122.44655              37.77331   \n",
       "4                     37.80456               -122.27174              37.79271   \n",
       "...                        ...                      ...                   ...   \n",
       "183407                37.78806               -122.39186              37.78830   \n",
       "183408                37.78963               -122.40081              37.77874   \n",
       "183409                37.33193               -121.90489              37.33366   \n",
       "183410                37.81135               -122.27342              37.81783   \n",
       "183411                37.78968               -122.39043              37.78500   \n",
       "\n",
       "        end_station_longitude  \n",
       "0                  -122.40292  \n",
       "1                  -122.39317  \n",
       "2                  -122.40490  \n",
       "3                  -122.44429  \n",
       "4                  -122.24878  \n",
       "...                       ...  \n",
       "183407             -122.40853  \n",
       "183408             -122.39274  \n",
       "183409             -121.90859  \n",
       "183410             -122.27570  \n",
       "183411             -122.39594  \n",
       "\n",
       "[183411 rows x 4 columns]"
      ]
     },
     "execution_count": 27,
     "metadata": {},
     "output_type": "execute_result"
    }
   ],
   "source": [
    "df[['start_station_latitude', 'start_station_longitude', 'end_station_latitude', 'end_station_longitude']]"
   ]
  },
  {
   "cell_type": "code",
   "execution_count": null,
   "metadata": {},
   "outputs": [],
   "source": []
  },
  {
   "cell_type": "code",
   "execution_count": 28,
   "metadata": {},
   "outputs": [
    {
     "data": {
      "text/html": [
       "<div>\n",
       "<style scoped>\n",
       "    .dataframe tbody tr th:only-of-type {\n",
       "        vertical-align: middle;\n",
       "    }\n",
       "\n",
       "    .dataframe tbody tr th {\n",
       "        vertical-align: top;\n",
       "    }\n",
       "\n",
       "    .dataframe thead th {\n",
       "        text-align: right;\n",
       "    }\n",
       "</style>\n",
       "<table border=\"1\" class=\"dataframe\">\n",
       "  <thead>\n",
       "    <tr style=\"text-align: right;\">\n",
       "      <th></th>\n",
       "      <th>duration_sec</th>\n",
       "      <th>start_station_latitude</th>\n",
       "      <th>start_station_longitude</th>\n",
       "      <th>end_station_latitude</th>\n",
       "      <th>end_station_longitude</th>\n",
       "      <th>member_birth_year</th>\n",
       "    </tr>\n",
       "  </thead>\n",
       "  <tbody>\n",
       "    <tr>\n",
       "      <th>count</th>\n",
       "      <td>183411.000000</td>\n",
       "      <td>183411.000000</td>\n",
       "      <td>183411.000000</td>\n",
       "      <td>183411.000000</td>\n",
       "      <td>183411.000000</td>\n",
       "      <td>183411.000000</td>\n",
       "    </tr>\n",
       "    <tr>\n",
       "      <th>mean</th>\n",
       "      <td>726.074358</td>\n",
       "      <td>37.771223</td>\n",
       "      <td>-122.352663</td>\n",
       "      <td>37.771427</td>\n",
       "      <td>-122.352249</td>\n",
       "      <td>1984.815742</td>\n",
       "    </tr>\n",
       "    <tr>\n",
       "      <th>std</th>\n",
       "      <td>1794.393822</td>\n",
       "      <td>0.099582</td>\n",
       "      <td>0.117097</td>\n",
       "      <td>0.099490</td>\n",
       "      <td>0.116674</td>\n",
       "      <td>9.883080</td>\n",
       "    </tr>\n",
       "    <tr>\n",
       "      <th>min</th>\n",
       "      <td>61.000000</td>\n",
       "      <td>37.317300</td>\n",
       "      <td>-122.453700</td>\n",
       "      <td>37.317300</td>\n",
       "      <td>-122.453700</td>\n",
       "      <td>1900.000000</td>\n",
       "    </tr>\n",
       "    <tr>\n",
       "      <th>25%</th>\n",
       "      <td>325.000000</td>\n",
       "      <td>37.770080</td>\n",
       "      <td>-122.412410</td>\n",
       "      <td>37.770410</td>\n",
       "      <td>-122.411730</td>\n",
       "      <td>1981.000000</td>\n",
       "    </tr>\n",
       "    <tr>\n",
       "      <th>50%</th>\n",
       "      <td>514.000000</td>\n",
       "      <td>37.780760</td>\n",
       "      <td>-122.398280</td>\n",
       "      <td>37.781010</td>\n",
       "      <td>-122.398280</td>\n",
       "      <td>1987.000000</td>\n",
       "    </tr>\n",
       "    <tr>\n",
       "      <th>75%</th>\n",
       "      <td>796.000000</td>\n",
       "      <td>37.797280</td>\n",
       "      <td>-122.286530</td>\n",
       "      <td>37.797320</td>\n",
       "      <td>-122.288050</td>\n",
       "      <td>1992.000000</td>\n",
       "    </tr>\n",
       "    <tr>\n",
       "      <th>max</th>\n",
       "      <td>85444.000000</td>\n",
       "      <td>37.880220</td>\n",
       "      <td>-121.874120</td>\n",
       "      <td>37.880220</td>\n",
       "      <td>-121.874120</td>\n",
       "      <td>2001.000000</td>\n",
       "    </tr>\n",
       "  </tbody>\n",
       "</table>\n",
       "</div>"
      ],
      "text/plain": [
       "        duration_sec  start_station_latitude  start_station_longitude  \\\n",
       "count  183411.000000           183411.000000            183411.000000   \n",
       "mean      726.074358               37.771223              -122.352663   \n",
       "std      1794.393822                0.099582                 0.117097   \n",
       "min        61.000000               37.317300              -122.453700   \n",
       "25%       325.000000               37.770080              -122.412410   \n",
       "50%       514.000000               37.780760              -122.398280   \n",
       "75%       796.000000               37.797280              -122.286530   \n",
       "max     85444.000000               37.880220              -121.874120   \n",
       "\n",
       "       end_station_latitude  end_station_longitude  member_birth_year  \n",
       "count         183411.000000          183411.000000      183411.000000  \n",
       "mean              37.771427            -122.352249        1984.815742  \n",
       "std                0.099490               0.116674           9.883080  \n",
       "min               37.317300            -122.453700        1900.000000  \n",
       "25%               37.770410            -122.411730        1981.000000  \n",
       "50%               37.781010            -122.398280        1987.000000  \n",
       "75%               37.797320            -122.288050        1992.000000  \n",
       "max               37.880220            -121.874120        2001.000000  "
      ]
     },
     "execution_count": 28,
     "metadata": {},
     "output_type": "execute_result"
    }
   ],
   "source": [
    "df.describe()"
   ]
  },
  {
   "cell_type": "markdown",
   "metadata": {},
   "source": [
    "### Define:\n",
    "5. add an age column -- 2019 - member_birth_year"
   ]
  },
  {
   "cell_type": "markdown",
   "metadata": {},
   "source": [
    "### code:"
   ]
  },
  {
   "cell_type": "code",
   "execution_count": 29,
   "metadata": {},
   "outputs": [],
   "source": [
    "df['member_age'] = 2019 - df['member_birth_year']"
   ]
  },
  {
   "cell_type": "markdown",
   "metadata": {},
   "source": [
    "### Test:"
   ]
  },
  {
   "cell_type": "code",
   "execution_count": 30,
   "metadata": {},
   "outputs": [
    {
     "data": {
      "text/html": [
       "<div>\n",
       "<style scoped>\n",
       "    .dataframe tbody tr th:only-of-type {\n",
       "        vertical-align: middle;\n",
       "    }\n",
       "\n",
       "    .dataframe tbody tr th {\n",
       "        vertical-align: top;\n",
       "    }\n",
       "\n",
       "    .dataframe thead th {\n",
       "        text-align: right;\n",
       "    }\n",
       "</style>\n",
       "<table border=\"1\" class=\"dataframe\">\n",
       "  <thead>\n",
       "    <tr style=\"text-align: right;\">\n",
       "      <th></th>\n",
       "      <th>duration_sec</th>\n",
       "      <th>start_time</th>\n",
       "      <th>end_time</th>\n",
       "      <th>start_station_id</th>\n",
       "      <th>start_station_name</th>\n",
       "      <th>start_station_latitude</th>\n",
       "      <th>start_station_longitude</th>\n",
       "      <th>end_station_id</th>\n",
       "      <th>end_station_name</th>\n",
       "      <th>end_station_latitude</th>\n",
       "      <th>end_station_longitude</th>\n",
       "      <th>bike_id</th>\n",
       "      <th>user_type</th>\n",
       "      <th>member_birth_year</th>\n",
       "      <th>member_gender</th>\n",
       "      <th>bike_share_for_all_trip</th>\n",
       "      <th>member_age</th>\n",
       "    </tr>\n",
       "  </thead>\n",
       "  <tbody>\n",
       "    <tr>\n",
       "      <th>132272</th>\n",
       "      <td>783</td>\n",
       "      <td>2019-02-09 08:39:23.838</td>\n",
       "      <td>2019-02-09 08:52:26.967</td>\n",
       "      <td>98.0</td>\n",
       "      <td>Valencia St at 16th St</td>\n",
       "      <td>37.76505</td>\n",
       "      <td>-122.42187</td>\n",
       "      <td>74.0</td>\n",
       "      <td>Laguna St at Hayes St</td>\n",
       "      <td>37.77643</td>\n",
       "      <td>-122.42624</td>\n",
       "      <td>5034</td>\n",
       "      <td>Subscriber</td>\n",
       "      <td>1995</td>\n",
       "      <td>Male</td>\n",
       "      <td>No</td>\n",
       "      <td>24</td>\n",
       "    </tr>\n",
       "  </tbody>\n",
       "</table>\n",
       "</div>"
      ],
      "text/plain": [
       "        duration_sec              start_time                end_time  \\\n",
       "132272           783 2019-02-09 08:39:23.838 2019-02-09 08:52:26.967   \n",
       "\n",
       "       start_station_id      start_station_name  start_station_latitude  \\\n",
       "132272             98.0  Valencia St at 16th St                37.76505   \n",
       "\n",
       "        start_station_longitude end_station_id       end_station_name  \\\n",
       "132272               -122.42187           74.0  Laguna St at Hayes St   \n",
       "\n",
       "        end_station_latitude  end_station_longitude bike_id   user_type  \\\n",
       "132272              37.77643             -122.42624    5034  Subscriber   \n",
       "\n",
       "        member_birth_year member_gender bike_share_for_all_trip  member_age  \n",
       "132272               1995          Male                      No          24  "
      ]
     },
     "execution_count": 30,
     "metadata": {},
     "output_type": "execute_result"
    }
   ],
   "source": [
    "df.sample()"
   ]
  },
  {
   "cell_type": "markdown",
   "metadata": {},
   "source": [
    "### Define:\n",
    "6.  start_station_id, start_station_name, end_station_id, end_station_name, member_birth_year, member_gender have missing datas\n",
    "\n",
    "*  drop columns with missing start_station_id as we are only to track those in this particular station. And a missing start_id indicates its not of this StopIteration\n",
    "* I also observed that those same columns had their start_station_name, end_station_id, end_station_name empty... Hence dropping them is okay"
   ]
  },
  {
   "cell_type": "markdown",
   "metadata": {},
   "source": [
    "### Code:"
   ]
  },
  {
   "cell_type": "code",
   "execution_count": 31,
   "metadata": {},
   "outputs": [],
   "source": [
    "df_new = df[df['start_station_id'].isna() == False]\n",
    "#df['start_station_id'].dropna(inplace = True)"
   ]
  },
  {
   "cell_type": "markdown",
   "metadata": {},
   "source": [
    "### Test:"
   ]
  },
  {
   "cell_type": "code",
   "execution_count": 32,
   "metadata": {},
   "outputs": [
    {
     "name": "stdout",
     "output_type": "stream",
     "text": [
      "<class 'pandas.core.frame.DataFrame'>\n",
      "Int64Index: 183214 entries, 0 to 183411\n",
      "Data columns (total 17 columns):\n",
      " #   Column                   Non-Null Count   Dtype         \n",
      "---  ------                   --------------   -----         \n",
      " 0   duration_sec             183214 non-null  int64         \n",
      " 1   start_time               183214 non-null  datetime64[ns]\n",
      " 2   end_time                 183214 non-null  datetime64[ns]\n",
      " 3   start_station_id         183214 non-null  object        \n",
      " 4   start_station_name       183214 non-null  object        \n",
      " 5   start_station_latitude   183214 non-null  float64       \n",
      " 6   start_station_longitude  183214 non-null  float64       \n",
      " 7   end_station_id           183214 non-null  object        \n",
      " 8   end_station_name         183214 non-null  object        \n",
      " 9   end_station_latitude     183214 non-null  float64       \n",
      " 10  end_station_longitude    183214 non-null  float64       \n",
      " 11  bike_id                  183214 non-null  object        \n",
      " 12  user_type                183214 non-null  object        \n",
      " 13  member_birth_year        183214 non-null  int64         \n",
      " 14  member_gender            174951 non-null  object        \n",
      " 15  bike_share_for_all_trip  183214 non-null  object        \n",
      " 16  member_age               183214 non-null  int64         \n",
      "dtypes: datetime64[ns](2), float64(4), int64(3), object(8)\n",
      "memory usage: 25.2+ MB\n"
     ]
    }
   ],
   "source": [
    "df_new.info()"
   ]
  },
  {
   "cell_type": "code",
   "execution_count": 33,
   "metadata": {},
   "outputs": [],
   "source": [
    "#Hence now, only the member gender is missing"
   ]
  },
  {
   "cell_type": "code",
   "execution_count": null,
   "metadata": {},
   "outputs": [],
   "source": []
  },
  {
   "cell_type": "markdown",
   "metadata": {},
   "source": [
    "### Define"
   ]
  },
  {
   "cell_type": "markdown",
   "metadata": {},
   "source": [
    "#### 9. add a column that changes duration_sec column to realtime"
   ]
  },
  {
   "cell_type": "markdown",
   "metadata": {},
   "source": [
    "#### Code:"
   ]
  },
  {
   "cell_type": "code",
   "execution_count": 34,
   "metadata": {},
   "outputs": [
    {
     "name": "stderr",
     "output_type": "stream",
     "text": [
      "<ipython-input-34-c6fc9127901d>:24: SettingWithCopyWarning: \n",
      "A value is trying to be set on a copy of a slice from a DataFrame.\n",
      "Try using .loc[row_indexer,col_indexer] = value instead\n",
      "\n",
      "See the caveats in the documentation: https://pandas.pydata.org/pandas-docs/stable/user_guide/indexing.html#returning-a-view-versus-a-copy\n",
      "  df_new['duration_time'] = df_new['duration_sec'].apply(lambda i: str(datetime.timedelta(seconds=i)))\n"
     ]
    }
   ],
   "source": [
    "import datetime\n",
    "# # df['duration_time'] = str(datetime.timedelta(seconds=df['duration_sec']))\n",
    "\n",
    "# # df['duration_time'] = pd.to_datetime(df['duration_time'])\n",
    "\n",
    "# def change_to_datetime():\n",
    "#     x = []\n",
    "#     for i in range(len(df.duration_sec)):\n",
    "#         x.append(str(datetime.timedelta(seconds=i)))\n",
    "#     #print(x)\n",
    "#     try:\n",
    "#         df['duration_time'] = x\n",
    "#     except:\n",
    "#         return None\n",
    "\n",
    "#     #to date-time column\n",
    "#     try:\n",
    "#         df['duration_time'] = pd.to_datetime(df['duration_time'])\n",
    "#     except:\n",
    "#         return None\n",
    "\n",
    "# change_to_datetime()\n",
    "\n",
    "df_new['duration_time'] = df_new['duration_sec'].apply(lambda i: str(datetime.timedelta(seconds=i)))\n",
    "#error cause of the presence of '1 day...'"
   ]
  },
  {
   "cell_type": "markdown",
   "metadata": {},
   "source": [
    "#### Test:"
   ]
  },
  {
   "cell_type": "code",
   "execution_count": 36,
   "metadata": {},
   "outputs": [
    {
     "data": {
      "text/html": [
       "<div>\n",
       "<style scoped>\n",
       "    .dataframe tbody tr th:only-of-type {\n",
       "        vertical-align: middle;\n",
       "    }\n",
       "\n",
       "    .dataframe tbody tr th {\n",
       "        vertical-align: top;\n",
       "    }\n",
       "\n",
       "    .dataframe thead th {\n",
       "        text-align: right;\n",
       "    }\n",
       "</style>\n",
       "<table border=\"1\" class=\"dataframe\">\n",
       "  <thead>\n",
       "    <tr style=\"text-align: right;\">\n",
       "      <th></th>\n",
       "      <th>duration_sec</th>\n",
       "      <th>start_time</th>\n",
       "      <th>end_time</th>\n",
       "      <th>start_station_id</th>\n",
       "      <th>start_station_name</th>\n",
       "      <th>start_station_latitude</th>\n",
       "      <th>start_station_longitude</th>\n",
       "      <th>end_station_id</th>\n",
       "      <th>end_station_name</th>\n",
       "      <th>end_station_latitude</th>\n",
       "      <th>end_station_longitude</th>\n",
       "      <th>bike_id</th>\n",
       "      <th>user_type</th>\n",
       "      <th>member_birth_year</th>\n",
       "      <th>member_gender</th>\n",
       "      <th>bike_share_for_all_trip</th>\n",
       "      <th>member_age</th>\n",
       "      <th>duration_time</th>\n",
       "    </tr>\n",
       "  </thead>\n",
       "  <tbody>\n",
       "    <tr>\n",
       "      <th>143601</th>\n",
       "      <td>235</td>\n",
       "      <td>2019-02-07 14:56:55.115</td>\n",
       "      <td>2019-02-07 15:00:50.624</td>\n",
       "      <td>58.0</td>\n",
       "      <td>Market St at 10th St</td>\n",
       "      <td>37.77662</td>\n",
       "      <td>-122.41738</td>\n",
       "      <td>44.0</td>\n",
       "      <td>Civic Center/UN Plaza BART Station (Market St ...</td>\n",
       "      <td>37.78107</td>\n",
       "      <td>-122.41174</td>\n",
       "      <td>1497</td>\n",
       "      <td>Subscriber</td>\n",
       "      <td>1996</td>\n",
       "      <td>Male</td>\n",
       "      <td>No</td>\n",
       "      <td>23</td>\n",
       "      <td>0:03:55</td>\n",
       "    </tr>\n",
       "    <tr>\n",
       "      <th>127926</th>\n",
       "      <td>1699</td>\n",
       "      <td>2019-02-10 14:13:55.105</td>\n",
       "      <td>2019-02-10 14:42:14.478</td>\n",
       "      <td>311.0</td>\n",
       "      <td>Paseo De San Antonio at 2nd St</td>\n",
       "      <td>37.33380</td>\n",
       "      <td>-121.88694</td>\n",
       "      <td>310.0</td>\n",
       "      <td>San Fernando St at 4th St</td>\n",
       "      <td>37.33588</td>\n",
       "      <td>-121.88566</td>\n",
       "      <td>4035</td>\n",
       "      <td>Subscriber</td>\n",
       "      <td>1998</td>\n",
       "      <td>Male</td>\n",
       "      <td>Yes</td>\n",
       "      <td>21</td>\n",
       "      <td>0:28:19</td>\n",
       "    </tr>\n",
       "  </tbody>\n",
       "</table>\n",
       "</div>"
      ],
      "text/plain": [
       "        duration_sec              start_time                end_time  \\\n",
       "143601           235 2019-02-07 14:56:55.115 2019-02-07 15:00:50.624   \n",
       "127926          1699 2019-02-10 14:13:55.105 2019-02-10 14:42:14.478   \n",
       "\n",
       "       start_station_id              start_station_name  \\\n",
       "143601             58.0            Market St at 10th St   \n",
       "127926            311.0  Paseo De San Antonio at 2nd St   \n",
       "\n",
       "        start_station_latitude  start_station_longitude end_station_id  \\\n",
       "143601                37.77662               -122.41738           44.0   \n",
       "127926                37.33380               -121.88694          310.0   \n",
       "\n",
       "                                         end_station_name  \\\n",
       "143601  Civic Center/UN Plaza BART Station (Market St ...   \n",
       "127926                          San Fernando St at 4th St   \n",
       "\n",
       "        end_station_latitude  end_station_longitude bike_id   user_type  \\\n",
       "143601              37.78107             -122.41174    1497  Subscriber   \n",
       "127926              37.33588             -121.88566    4035  Subscriber   \n",
       "\n",
       "        member_birth_year member_gender bike_share_for_all_trip  member_age  \\\n",
       "143601               1996          Male                      No          23   \n",
       "127926               1998          Male                     Yes          21   \n",
       "\n",
       "       duration_time  \n",
       "143601       0:03:55  \n",
       "127926       0:28:19  "
      ]
     },
     "execution_count": 36,
     "metadata": {},
     "output_type": "execute_result"
    }
   ],
   "source": [
    "df_new.sample(2)"
   ]
  },
  {
   "cell_type": "markdown",
   "metadata": {},
   "source": [
    "#sns.countplot(df.duration_time)\n",
    "plt.hist(df.duration_time)"
   ]
  },
  {
   "cell_type": "code",
   "execution_count": null,
   "metadata": {},
   "outputs": [],
   "source": []
  },
  {
   "cell_type": "code",
   "execution_count": 37,
   "metadata": {},
   "outputs": [
    {
     "name": "stdout",
     "output_type": "stream",
     "text": [
      "<class 'pandas.core.frame.DataFrame'>\n",
      "Int64Index: 183411 entries, 0 to 183411\n",
      "Data columns (total 17 columns):\n",
      " #   Column                   Non-Null Count   Dtype         \n",
      "---  ------                   --------------   -----         \n",
      " 0   duration_sec             183411 non-null  int64         \n",
      " 1   start_time               183411 non-null  datetime64[ns]\n",
      " 2   end_time                 183411 non-null  datetime64[ns]\n",
      " 3   start_station_id         183214 non-null  object        \n",
      " 4   start_station_name       183214 non-null  object        \n",
      " 5   start_station_latitude   183411 non-null  float64       \n",
      " 6   start_station_longitude  183411 non-null  float64       \n",
      " 7   end_station_id           183214 non-null  object        \n",
      " 8   end_station_name         183214 non-null  object        \n",
      " 9   end_station_latitude     183411 non-null  float64       \n",
      " 10  end_station_longitude    183411 non-null  float64       \n",
      " 11  bike_id                  183411 non-null  object        \n",
      " 12  user_type                183411 non-null  object        \n",
      " 13  member_birth_year        183411 non-null  int64         \n",
      " 14  member_gender            175146 non-null  object        \n",
      " 15  bike_share_for_all_trip  183411 non-null  object        \n",
      " 16  member_age               183411 non-null  int64         \n",
      "dtypes: datetime64[ns](2), float64(4), int64(3), object(8)\n",
      "memory usage: 25.2+ MB\n"
     ]
    }
   ],
   "source": [
    "df.info()"
   ]
  },
  {
   "cell_type": "code",
   "execution_count": null,
   "metadata": {},
   "outputs": [],
   "source": []
  },
  {
   "cell_type": "markdown",
   "metadata": {},
   "source": [
    "# **Exploration** <a id=\"cell78\"></a>"
   ]
  },
  {
   "cell_type": "code",
   "execution_count": 38,
   "metadata": {},
   "outputs": [
    {
     "name": "stderr",
     "output_type": "stream",
     "text": [
      "<ipython-input-38-e2688a207c26>:1: SettingWithCopyWarning: \n",
      "A value is trying to be set on a copy of a slice from a DataFrame.\n",
      "Try using .loc[row_indexer,col_indexer] = value instead\n",
      "\n",
      "See the caveats in the documentation: https://pandas.pydata.org/pandas-docs/stable/user_guide/indexing.html#returning-a-view-versus-a-copy\n",
      "  df_new['start_month'] = df_new['start_time'].apply(lambda time: time.month)\n"
     ]
    }
   ],
   "source": [
    "df_new['start_month'] = df_new['start_time'].apply(lambda time: time.month)\n",
    "#mc = df['start_month_num'].apply(lambda x: calendar.month_abbr[x])\n",
    "\n"
   ]
  },
  {
   "cell_type": "code",
   "execution_count": 39,
   "metadata": {},
   "outputs": [
    {
     "data": {
      "text/plain": [
       "2    183214\n",
       "Name: start_month, dtype: int64"
      ]
     },
     "execution_count": 39,
     "metadata": {},
     "output_type": "execute_result"
    }
   ],
   "source": [
    "df_new['start_month'].value_counts()\n",
    "\n",
    "#just a month present -- february"
   ]
  },
  {
   "cell_type": "code",
   "execution_count": 40,
   "metadata": {},
   "outputs": [
    {
     "name": "stderr",
     "output_type": "stream",
     "text": [
      "<ipython-input-40-b22b47388521>:2: SettingWithCopyWarning: \n",
      "A value is trying to be set on a copy of a slice from a DataFrame.\n",
      "Try using .loc[row_indexer,col_indexer] = value instead\n",
      "\n",
      "See the caveats in the documentation: https://pandas.pydata.org/pandas-docs/stable/user_guide/indexing.html#returning-a-view-versus-a-copy\n",
      "  df_new['start_hour'] = df_new['start_time'].apply(lambda time: time.hour)\n",
      "<ipython-input-40-b22b47388521>:3: SettingWithCopyWarning: \n",
      "A value is trying to be set on a copy of a slice from a DataFrame.\n",
      "Try using .loc[row_indexer,col_indexer] = value instead\n",
      "\n",
      "See the caveats in the documentation: https://pandas.pydata.org/pandas-docs/stable/user_guide/indexing.html#returning-a-view-versus-a-copy\n",
      "  df_new['day_time'] = 'morning'\n",
      "C:\\Users\\ilesanmi\\Anaconda3\\lib\\site-packages\\pandas\\core\\indexing.py:1720: SettingWithCopyWarning: \n",
      "A value is trying to be set on a copy of a slice from a DataFrame.\n",
      "Try using .loc[row_indexer,col_indexer] = value instead\n",
      "\n",
      "See the caveats in the documentation: https://pandas.pydata.org/pandas-docs/stable/user_guide/indexing.html#returning-a-view-versus-a-copy\n",
      "  self._setitem_single_column(loc, value, pi)\n",
      "C:\\Users\\ilesanmi\\Anaconda3\\lib\\site-packages\\pandas\\core\\indexing.py:1720: SettingWithCopyWarning: \n",
      "A value is trying to be set on a copy of a slice from a DataFrame.\n",
      "Try using .loc[row_indexer,col_indexer] = value instead\n",
      "\n",
      "See the caveats in the documentation: https://pandas.pydata.org/pandas-docs/stable/user_guide/indexing.html#returning-a-view-versus-a-copy\n",
      "  self._setitem_single_column(loc, value, pi)\n",
      "C:\\Users\\ilesanmi\\Anaconda3\\lib\\site-packages\\pandas\\core\\indexing.py:1720: SettingWithCopyWarning: \n",
      "A value is trying to be set on a copy of a slice from a DataFrame.\n",
      "Try using .loc[row_indexer,col_indexer] = value instead\n",
      "\n",
      "See the caveats in the documentation: https://pandas.pydata.org/pandas-docs/stable/user_guide/indexing.html#returning-a-view-versus-a-copy\n",
      "  self._setitem_single_column(loc, value, pi)\n"
     ]
    },
    {
     "data": {
      "text/plain": [
       "morning      79111\n",
       "evening      48532\n",
       "afternoon    39979\n",
       "night        15592\n",
       "Name: day_time, dtype: int64"
      ]
     },
     "execution_count": 40,
     "metadata": {},
     "output_type": "execute_result"
    }
   ],
   "source": [
    " # b. morning, afternoon, night of a day\n",
    "df_new['start_hour'] = df_new['start_time'].apply(lambda time: time.hour)\n",
    "df_new['day_time'] = 'morning'\n",
    "\n",
    "df_new.loc[(df_new['start_hour'] > 12) & (df_new['start_hour'] <= 16), 'day_time'] = 'afternoon'\n",
    "df_new.loc[(df_new['start_hour'] > 16) & (df_new['start_hour'] <= 19), 'day_time'] = 'evening'\n",
    "\n",
    "df_new.loc[(df_new['start_hour'] > 19) & (df_new['start_hour'] <= 123), 'day_time'] = 'night'\n",
    "\n",
    "df_new['day_time'].value_counts()"
   ]
  },
  {
   "cell_type": "code",
   "execution_count": 41,
   "metadata": {},
   "outputs": [
    {
     "data": {
      "text/html": [
       "<div>\n",
       "<style scoped>\n",
       "    .dataframe tbody tr th:only-of-type {\n",
       "        vertical-align: middle;\n",
       "    }\n",
       "\n",
       "    .dataframe tbody tr th {\n",
       "        vertical-align: top;\n",
       "    }\n",
       "\n",
       "    .dataframe thead th {\n",
       "        text-align: right;\n",
       "    }\n",
       "</style>\n",
       "<table border=\"1\" class=\"dataframe\">\n",
       "  <thead>\n",
       "    <tr style=\"text-align: right;\">\n",
       "      <th></th>\n",
       "      <th>duration_sec</th>\n",
       "      <th>start_time</th>\n",
       "      <th>end_time</th>\n",
       "      <th>start_station_id</th>\n",
       "      <th>start_station_name</th>\n",
       "      <th>start_station_latitude</th>\n",
       "      <th>start_station_longitude</th>\n",
       "      <th>end_station_id</th>\n",
       "      <th>end_station_name</th>\n",
       "      <th>end_station_latitude</th>\n",
       "      <th>...</th>\n",
       "      <th>bike_id</th>\n",
       "      <th>user_type</th>\n",
       "      <th>member_birth_year</th>\n",
       "      <th>member_gender</th>\n",
       "      <th>bike_share_for_all_trip</th>\n",
       "      <th>member_age</th>\n",
       "      <th>duration_time</th>\n",
       "      <th>start_month</th>\n",
       "      <th>start_hour</th>\n",
       "      <th>day_time</th>\n",
       "    </tr>\n",
       "  </thead>\n",
       "  <tbody>\n",
       "    <tr>\n",
       "      <th>0</th>\n",
       "      <td>52185</td>\n",
       "      <td>2019-02-28 17:32:10.145</td>\n",
       "      <td>2019-03-01 08:01:55.975</td>\n",
       "      <td>21.0</td>\n",
       "      <td>Montgomery St BART Station (Market St at 2nd St)</td>\n",
       "      <td>37.78963</td>\n",
       "      <td>-122.40081</td>\n",
       "      <td>13.0</td>\n",
       "      <td>Commercial St at Montgomery St</td>\n",
       "      <td>37.79423</td>\n",
       "      <td>...</td>\n",
       "      <td>4902</td>\n",
       "      <td>Customer</td>\n",
       "      <td>1984</td>\n",
       "      <td>Male</td>\n",
       "      <td>No</td>\n",
       "      <td>35</td>\n",
       "      <td>14:29:45</td>\n",
       "      <td>2</td>\n",
       "      <td>17</td>\n",
       "      <td>evening</td>\n",
       "    </tr>\n",
       "    <tr>\n",
       "      <th>1</th>\n",
       "      <td>42521</td>\n",
       "      <td>2019-02-28 18:53:21.789</td>\n",
       "      <td>2019-03-01 06:42:03.056</td>\n",
       "      <td>23.0</td>\n",
       "      <td>The Embarcadero at Steuart St</td>\n",
       "      <td>37.79146</td>\n",
       "      <td>-122.39103</td>\n",
       "      <td>81.0</td>\n",
       "      <td>Berry St at 4th St</td>\n",
       "      <td>37.77588</td>\n",
       "      <td>...</td>\n",
       "      <td>2535</td>\n",
       "      <td>Customer</td>\n",
       "      <td>1985</td>\n",
       "      <td>NaN</td>\n",
       "      <td>No</td>\n",
       "      <td>34</td>\n",
       "      <td>11:48:41</td>\n",
       "      <td>2</td>\n",
       "      <td>18</td>\n",
       "      <td>evening</td>\n",
       "    </tr>\n",
       "    <tr>\n",
       "      <th>2</th>\n",
       "      <td>61854</td>\n",
       "      <td>2019-02-28 12:13:13.218</td>\n",
       "      <td>2019-03-01 05:24:08.146</td>\n",
       "      <td>86.0</td>\n",
       "      <td>Market St at Dolores St</td>\n",
       "      <td>37.76931</td>\n",
       "      <td>-122.42683</td>\n",
       "      <td>3.0</td>\n",
       "      <td>Powell St BART Station (Market St at 4th St)</td>\n",
       "      <td>37.78638</td>\n",
       "      <td>...</td>\n",
       "      <td>5905</td>\n",
       "      <td>Customer</td>\n",
       "      <td>1972</td>\n",
       "      <td>Male</td>\n",
       "      <td>No</td>\n",
       "      <td>47</td>\n",
       "      <td>17:10:54</td>\n",
       "      <td>2</td>\n",
       "      <td>12</td>\n",
       "      <td>morning</td>\n",
       "    </tr>\n",
       "    <tr>\n",
       "      <th>3</th>\n",
       "      <td>36490</td>\n",
       "      <td>2019-02-28 17:54:26.010</td>\n",
       "      <td>2019-03-01 04:02:36.842</td>\n",
       "      <td>375.0</td>\n",
       "      <td>Grove St at Masonic Ave</td>\n",
       "      <td>37.77484</td>\n",
       "      <td>-122.44655</td>\n",
       "      <td>70.0</td>\n",
       "      <td>Central Ave at Fell St</td>\n",
       "      <td>37.77331</td>\n",
       "      <td>...</td>\n",
       "      <td>6638</td>\n",
       "      <td>Subscriber</td>\n",
       "      <td>1989</td>\n",
       "      <td>Other</td>\n",
       "      <td>No</td>\n",
       "      <td>30</td>\n",
       "      <td>10:08:10</td>\n",
       "      <td>2</td>\n",
       "      <td>17</td>\n",
       "      <td>evening</td>\n",
       "    </tr>\n",
       "    <tr>\n",
       "      <th>4</th>\n",
       "      <td>1585</td>\n",
       "      <td>2019-02-28 23:54:18.549</td>\n",
       "      <td>2019-03-01 00:20:44.074</td>\n",
       "      <td>7.0</td>\n",
       "      <td>Frank H Ogawa Plaza</td>\n",
       "      <td>37.80456</td>\n",
       "      <td>-122.27174</td>\n",
       "      <td>222.0</td>\n",
       "      <td>10th Ave at E 15th St</td>\n",
       "      <td>37.79271</td>\n",
       "      <td>...</td>\n",
       "      <td>4898</td>\n",
       "      <td>Subscriber</td>\n",
       "      <td>1974</td>\n",
       "      <td>Male</td>\n",
       "      <td>Yes</td>\n",
       "      <td>45</td>\n",
       "      <td>0:26:25</td>\n",
       "      <td>2</td>\n",
       "      <td>23</td>\n",
       "      <td>night</td>\n",
       "    </tr>\n",
       "  </tbody>\n",
       "</table>\n",
       "<p>5 rows × 21 columns</p>\n",
       "</div>"
      ],
      "text/plain": [
       "   duration_sec              start_time                end_time  \\\n",
       "0         52185 2019-02-28 17:32:10.145 2019-03-01 08:01:55.975   \n",
       "1         42521 2019-02-28 18:53:21.789 2019-03-01 06:42:03.056   \n",
       "2         61854 2019-02-28 12:13:13.218 2019-03-01 05:24:08.146   \n",
       "3         36490 2019-02-28 17:54:26.010 2019-03-01 04:02:36.842   \n",
       "4          1585 2019-02-28 23:54:18.549 2019-03-01 00:20:44.074   \n",
       "\n",
       "  start_station_id                                start_station_name  \\\n",
       "0             21.0  Montgomery St BART Station (Market St at 2nd St)   \n",
       "1             23.0                     The Embarcadero at Steuart St   \n",
       "2             86.0                           Market St at Dolores St   \n",
       "3            375.0                           Grove St at Masonic Ave   \n",
       "4              7.0                               Frank H Ogawa Plaza   \n",
       "\n",
       "   start_station_latitude  start_station_longitude end_station_id  \\\n",
       "0                37.78963               -122.40081           13.0   \n",
       "1                37.79146               -122.39103           81.0   \n",
       "2                37.76931               -122.42683            3.0   \n",
       "3                37.77484               -122.44655           70.0   \n",
       "4                37.80456               -122.27174          222.0   \n",
       "\n",
       "                               end_station_name  end_station_latitude  ...  \\\n",
       "0                Commercial St at Montgomery St              37.79423  ...   \n",
       "1                            Berry St at 4th St              37.77588  ...   \n",
       "2  Powell St BART Station (Market St at 4th St)              37.78638  ...   \n",
       "3                        Central Ave at Fell St              37.77331  ...   \n",
       "4                         10th Ave at E 15th St              37.79271  ...   \n",
       "\n",
       "   bike_id   user_type member_birth_year  member_gender  \\\n",
       "0     4902    Customer              1984           Male   \n",
       "1     2535    Customer              1985            NaN   \n",
       "2     5905    Customer              1972           Male   \n",
       "3     6638  Subscriber              1989          Other   \n",
       "4     4898  Subscriber              1974           Male   \n",
       "\n",
       "  bike_share_for_all_trip member_age  duration_time start_month  start_hour  \\\n",
       "0                      No         35       14:29:45           2          17   \n",
       "1                      No         34       11:48:41           2          18   \n",
       "2                      No         47       17:10:54           2          12   \n",
       "3                      No         30       10:08:10           2          17   \n",
       "4                     Yes         45        0:26:25           2          23   \n",
       "\n",
       "   day_time  \n",
       "0   evening  \n",
       "1   evening  \n",
       "2   morning  \n",
       "3   evening  \n",
       "4     night  \n",
       "\n",
       "[5 rows x 21 columns]"
      ]
     },
     "execution_count": 41,
     "metadata": {},
     "output_type": "execute_result"
    }
   ],
   "source": [
    "df_new.head()"
   ]
  },
  {
   "cell_type": "code",
   "execution_count": 42,
   "metadata": {},
   "outputs": [
    {
     "name": "stdout",
     "output_type": "stream",
     "text": [
      "<class 'pandas.core.frame.DataFrame'>\n",
      "Int64Index: 183214 entries, 0 to 183411\n",
      "Data columns (total 21 columns):\n",
      " #   Column                   Non-Null Count   Dtype         \n",
      "---  ------                   --------------   -----         \n",
      " 0   duration_sec             183214 non-null  int64         \n",
      " 1   start_time               183214 non-null  datetime64[ns]\n",
      " 2   end_time                 183214 non-null  datetime64[ns]\n",
      " 3   start_station_id         183214 non-null  object        \n",
      " 4   start_station_name       183214 non-null  object        \n",
      " 5   start_station_latitude   183214 non-null  float64       \n",
      " 6   start_station_longitude  183214 non-null  float64       \n",
      " 7   end_station_id           183214 non-null  object        \n",
      " 8   end_station_name         183214 non-null  object        \n",
      " 9   end_station_latitude     183214 non-null  float64       \n",
      " 10  end_station_longitude    183214 non-null  float64       \n",
      " 11  bike_id                  183214 non-null  object        \n",
      " 12  user_type                183214 non-null  object        \n",
      " 13  member_birth_year        183214 non-null  int64         \n",
      " 14  member_gender            174951 non-null  object        \n",
      " 15  bike_share_for_all_trip  183214 non-null  object        \n",
      " 16  member_age               183214 non-null  int64         \n",
      " 17  duration_time            183214 non-null  object        \n",
      " 18  start_month              183214 non-null  int64         \n",
      " 19  start_hour               183214 non-null  int64         \n",
      " 20  day_time                 183214 non-null  object        \n",
      "dtypes: datetime64[ns](2), float64(4), int64(5), object(10)\n",
      "memory usage: 30.8+ MB\n"
     ]
    }
   ],
   "source": [
    "df_new.info()"
   ]
  },
  {
   "cell_type": "code",
   "execution_count": null,
   "metadata": {},
   "outputs": [],
   "source": []
  },
  {
   "cell_type": "markdown",
   "metadata": {},
   "source": [
    "## Univariate Exploration\n",
    "<a id=\"cell89\"></a>\n"
   ]
  },
  {
   "cell_type": "markdown",
   "metadata": {},
   "source": [
    "### \n",
    "* The most common gender "
   ]
  },
  {
   "cell_type": "code",
   "execution_count": 43,
   "metadata": {},
   "outputs": [
    {
     "data": {
      "image/png": "[encoded data removed]",
      "text/plain": [
       "<Figure size 1008x720 with 1 Axes>"
      ]
     },
     "metadata": {
      "needs_background": "light"
     },
     "output_type": "display_data"
    }
   ],
   "source": [
    "\n",
    "def myCountPlot(df, xVar, order = None, hueOrder = None, palette = None, figsize=[14,10]):\n",
    "    plt.figure(figsize=figsize)\n",
    "\n",
    "    c=sns.countplot(data=df, y = xVar, edgecolor = 'black', order = order, hue_order = hueOrder, palette=palette)\n",
    "    xVar = xVar.replace('_', ' ')\n",
    "    #hueVar = hueVar.replace('_', ' ')\n",
    "    plt.title(f'''Distribution of {xVar}'''.title(), fontsize = 14, weight = 'bold')\n",
    "    plt.ylabel(xVar.title(), fontsize=10, weight ='bold')\n",
    "    plt.xlabel('Frequency'.title(), fontsize = 10, weight = 'bold')\n",
    "\n",
    "myCountPlot(df_new, 'member_gender')\n",
    "# df_new.member_gender.value_counts().plot(kind = 'barh');\n",
    "# plt.title('Gender count')\n",
    "# plt.ylabel('Gender')\n",
    "# plt.xlabel('Count')"
   ]
  },
  {
   "cell_type": "markdown",
   "metadata": {},
   "source": [
    "##### **Observation:** We have more male than females probably because Males tends to be more interested in cycling than Females"
   ]
  },
  {
   "cell_type": "markdown",
   "metadata": {},
   "source": [
    "###\n",
    "* What period of the day do people bike alot"
   ]
  },
  {
   "cell_type": "code",
   "execution_count": 44,
   "metadata": {},
   "outputs": [
    {
     "data": {
      "text/plain": [
       "morning      79111\n",
       "evening      48532\n",
       "afternoon    39979\n",
       "night        15592\n",
       "Name: day_time, dtype: int64"
      ]
     },
     "execution_count": 44,
     "metadata": {},
     "output_type": "execute_result"
    }
   ],
   "source": [
    "df_new['day_time'].value_counts()"
   ]
  },
  {
   "cell_type": "code",
   "execution_count": 45,
   "metadata": {},
   "outputs": [
    {
     "data": {
      "image/png": "[encoded data removed]",
      "text/plain": [
       "<Figure size 1008x720 with 1 Axes>"
      ]
     },
     "metadata": {
      "needs_background": "light"
     },
     "output_type": "display_data"
    }
   ],
   "source": [
    "myCountPlot(df_new, 'day_time')\n",
    "\n",
    "\n",
    "# df_new['day_time'].value_counts().plot(kind = 'barh');\n",
    "# plt.title('day time people bike')\n",
    "# plt.xlabel('Count')\n",
    "# plt.ylabel('Time of the day')"
   ]
  },
  {
   "cell_type": "markdown",
   "metadata": {},
   "source": [
    "#### **Observation:** During the day, there are more trips in the morning and afternoon than at night. It probably because of rush hours. There are more rides in the afternoon... this i believe is cause of students who return frm school and goes biking. And then, at night, peeps tend return home\n"
   ]
  },
  {
   "cell_type": "code",
   "execution_count": null,
   "metadata": {},
   "outputs": [],
   "source": []
  },
  {
   "cell_type": "markdown",
   "metadata": {},
   "source": [
    "* what hour of the day do they bike mostly "
   ]
  },
  {
   "cell_type": "code",
   "execution_count": 46,
   "metadata": {},
   "outputs": [
    {
     "data": {
      "image/png": "[encoded data removed]",
      "text/plain": [
       "<Figure size 1008x720 with 1 Axes>"
      ]
     },
     "metadata": {
      "needs_background": "light"
     },
     "output_type": "display_data"
    }
   ],
   "source": [
    "# plt.figure(figsize = (12,8))\n",
    "# df_new.start_hour.value_counts().plot(kind = 'bar')\n",
    "# plt.title('Hours people bike mostly')\n",
    "# plt.xlabel('Hours')\n",
    "# plt.ylabel('Count')\n",
    "\n",
    "\n",
    "myCountPlot(df_new, 'start_hour', palette='winter_r')\n"
   ]
  },
  {
   "cell_type": "markdown",
   "metadata": {},
   "source": [
    "#### **Observation:** As seen, the most time of the day people bike is in the evening-- 5pm and morning -- 8am. This could be due to time they close from work and time they resumed work"
   ]
  },
  {
   "cell_type": "code",
   "execution_count": null,
   "metadata": {},
   "outputs": [],
   "source": []
  },
  {
   "cell_type": "markdown",
   "metadata": {},
   "source": [
    "### Let's compare with the end station names and time\n",
    "### Are there more rides at the end station than at the start station"
   ]
  },
  {
   "cell_type": "code",
   "execution_count": 47,
   "metadata": {},
   "outputs": [
    {
     "data": {
      "text/html": [
       "<div>\n",
       "<style scoped>\n",
       "    .dataframe tbody tr th:only-of-type {\n",
       "        vertical-align: middle;\n",
       "    }\n",
       "\n",
       "    .dataframe tbody tr th {\n",
       "        vertical-align: top;\n",
       "    }\n",
       "\n",
       "    .dataframe thead th {\n",
       "        text-align: right;\n",
       "    }\n",
       "</style>\n",
       "<table border=\"1\" class=\"dataframe\">\n",
       "  <thead>\n",
       "    <tr style=\"text-align: right;\">\n",
       "      <th></th>\n",
       "      <th>duration_sec</th>\n",
       "      <th>start_time</th>\n",
       "      <th>end_time</th>\n",
       "      <th>start_station_id</th>\n",
       "      <th>start_station_name</th>\n",
       "      <th>start_station_latitude</th>\n",
       "      <th>start_station_longitude</th>\n",
       "      <th>end_station_id</th>\n",
       "      <th>end_station_name</th>\n",
       "      <th>end_station_latitude</th>\n",
       "      <th>end_station_longitude</th>\n",
       "      <th>bike_id</th>\n",
       "      <th>user_type</th>\n",
       "      <th>member_birth_year</th>\n",
       "      <th>member_gender</th>\n",
       "      <th>bike_share_for_all_trip</th>\n",
       "      <th>member_age</th>\n",
       "    </tr>\n",
       "  </thead>\n",
       "  <tbody>\n",
       "    <tr>\n",
       "      <th>0</th>\n",
       "      <td>52185</td>\n",
       "      <td>2019-02-28 17:32:10.145</td>\n",
       "      <td>2019-03-01 08:01:55.975</td>\n",
       "      <td>21.0</td>\n",
       "      <td>Montgomery St BART Station (Market St at 2nd St)</td>\n",
       "      <td>37.78963</td>\n",
       "      <td>-122.40081</td>\n",
       "      <td>13.0</td>\n",
       "      <td>Commercial St at Montgomery St</td>\n",
       "      <td>37.79423</td>\n",
       "      <td>-122.40292</td>\n",
       "      <td>4902</td>\n",
       "      <td>Customer</td>\n",
       "      <td>1984</td>\n",
       "      <td>Male</td>\n",
       "      <td>No</td>\n",
       "      <td>35</td>\n",
       "    </tr>\n",
       "    <tr>\n",
       "      <th>1</th>\n",
       "      <td>42521</td>\n",
       "      <td>2019-02-28 18:53:21.789</td>\n",
       "      <td>2019-03-01 06:42:03.056</td>\n",
       "      <td>23.0</td>\n",
       "      <td>The Embarcadero at Steuart St</td>\n",
       "      <td>37.79146</td>\n",
       "      <td>-122.39103</td>\n",
       "      <td>81.0</td>\n",
       "      <td>Berry St at 4th St</td>\n",
       "      <td>37.77588</td>\n",
       "      <td>-122.39317</td>\n",
       "      <td>2535</td>\n",
       "      <td>Customer</td>\n",
       "      <td>1985</td>\n",
       "      <td>NaN</td>\n",
       "      <td>No</td>\n",
       "      <td>34</td>\n",
       "    </tr>\n",
       "  </tbody>\n",
       "</table>\n",
       "</div>"
      ],
      "text/plain": [
       "   duration_sec              start_time                end_time  \\\n",
       "0         52185 2019-02-28 17:32:10.145 2019-03-01 08:01:55.975   \n",
       "1         42521 2019-02-28 18:53:21.789 2019-03-01 06:42:03.056   \n",
       "\n",
       "  start_station_id                                start_station_name  \\\n",
       "0             21.0  Montgomery St BART Station (Market St at 2nd St)   \n",
       "1             23.0                     The Embarcadero at Steuart St   \n",
       "\n",
       "   start_station_latitude  start_station_longitude end_station_id  \\\n",
       "0                37.78963               -122.40081           13.0   \n",
       "1                37.79146               -122.39103           81.0   \n",
       "\n",
       "                 end_station_name  end_station_latitude  \\\n",
       "0  Commercial St at Montgomery St              37.79423   \n",
       "1              Berry St at 4th St              37.77588   \n",
       "\n",
       "   end_station_longitude bike_id user_type  member_birth_year member_gender  \\\n",
       "0             -122.40292    4902  Customer               1984          Male   \n",
       "1             -122.39317    2535  Customer               1985           NaN   \n",
       "\n",
       "  bike_share_for_all_trip  member_age  \n",
       "0                      No          35  \n",
       "1                      No          34  "
      ]
     },
     "execution_count": 47,
     "metadata": {},
     "output_type": "execute_result"
    }
   ],
   "source": [
    "df.head(2)"
   ]
  },
  {
   "cell_type": "code",
   "execution_count": 48,
   "metadata": {},
   "outputs": [
    {
     "name": "stdout",
     "output_type": "stream",
     "text": [
      "<class 'pandas.core.frame.DataFrame'>\n",
      "Int64Index: 183214 entries, 0 to 183411\n",
      "Data columns (total 21 columns):\n",
      " #   Column                   Non-Null Count   Dtype         \n",
      "---  ------                   --------------   -----         \n",
      " 0   duration_sec             183214 non-null  int64         \n",
      " 1   start_time               183214 non-null  datetime64[ns]\n",
      " 2   end_time                 183214 non-null  datetime64[ns]\n",
      " 3   start_station_id         183214 non-null  object        \n",
      " 4   start_station_name       183214 non-null  object        \n",
      " 5   start_station_latitude   183214 non-null  float64       \n",
      " 6   start_station_longitude  183214 non-null  float64       \n",
      " 7   end_station_id           183214 non-null  object        \n",
      " 8   end_station_name         183214 non-null  object        \n",
      " 9   end_station_latitude     183214 non-null  float64       \n",
      " 10  end_station_longitude    183214 non-null  float64       \n",
      " 11  bike_id                  183214 non-null  object        \n",
      " 12  user_type                183214 non-null  object        \n",
      " 13  member_birth_year        183214 non-null  int64         \n",
      " 14  member_gender            174951 non-null  object        \n",
      " 15  bike_share_for_all_trip  183214 non-null  object        \n",
      " 16  member_age               183214 non-null  int64         \n",
      " 17  duration_time            183214 non-null  object        \n",
      " 18  start_month              183214 non-null  int64         \n",
      " 19  start_hour               183214 non-null  int64         \n",
      " 20  day_time                 183214 non-null  object        \n",
      "dtypes: datetime64[ns](2), float64(4), int64(5), object(10)\n",
      "memory usage: 34.8+ MB\n"
     ]
    }
   ],
   "source": [
    "df_new.info()"
   ]
  },
  {
   "cell_type": "code",
   "execution_count": 49,
   "metadata": {},
   "outputs": [
    {
     "name": "stderr",
     "output_type": "stream",
     "text": [
      "<ipython-input-49-2c9267051aa8>:10: SettingWithCopyWarning: \n",
      "A value is trying to be set on a copy of a slice from a DataFrame.\n",
      "Try using .loc[row_indexer,col_indexer] = value instead\n",
      "\n",
      "See the caveats in the documentation: https://pandas.pydata.org/pandas-docs/stable/user_guide/indexing.html#returning-a-view-versus-a-copy\n",
      "  df_new['end_hour'] = df_new['end_time'].apply(lambda time: time.hour)\n",
      "<ipython-input-49-2c9267051aa8>:11: SettingWithCopyWarning: \n",
      "A value is trying to be set on a copy of a slice from a DataFrame.\n",
      "Try using .loc[row_indexer,col_indexer] = value instead\n",
      "\n",
      "See the caveats in the documentation: https://pandas.pydata.org/pandas-docs/stable/user_guide/indexing.html#returning-a-view-versus-a-copy\n",
      "  df_new['return_time'] = 'morning'\n",
      "C:\\Users\\ilesanmi\\Anaconda3\\lib\\site-packages\\pandas\\core\\indexing.py:1720: SettingWithCopyWarning: \n",
      "A value is trying to be set on a copy of a slice from a DataFrame.\n",
      "Try using .loc[row_indexer,col_indexer] = value instead\n",
      "\n",
      "See the caveats in the documentation: https://pandas.pydata.org/pandas-docs/stable/user_guide/indexing.html#returning-a-view-versus-a-copy\n",
      "  self._setitem_single_column(loc, value, pi)\n",
      "C:\\Users\\ilesanmi\\Anaconda3\\lib\\site-packages\\pandas\\core\\indexing.py:1720: SettingWithCopyWarning: \n",
      "A value is trying to be set on a copy of a slice from a DataFrame.\n",
      "Try using .loc[row_indexer,col_indexer] = value instead\n",
      "\n",
      "See the caveats in the documentation: https://pandas.pydata.org/pandas-docs/stable/user_guide/indexing.html#returning-a-view-versus-a-copy\n",
      "  self._setitem_single_column(loc, value, pi)\n",
      "C:\\Users\\ilesanmi\\Anaconda3\\lib\\site-packages\\pandas\\core\\indexing.py:1720: SettingWithCopyWarning: \n",
      "A value is trying to be set on a copy of a slice from a DataFrame.\n",
      "Try using .loc[row_indexer,col_indexer] = value instead\n",
      "\n",
      "See the caveats in the documentation: https://pandas.pydata.org/pandas-docs/stable/user_guide/indexing.html#returning-a-view-versus-a-copy\n",
      "  self._setitem_single_column(loc, value, pi)\n"
     ]
    }
   ],
   "source": [
    " # b. morning, afternoon, night of a day\n",
    "# df_new['end_hour'] = df_new['end_time'].apply(lambda time: time.hour)\n",
    "# df_new['return_time'] = 'morning'\n",
    "# df_new['return_time'][(df_new['end_hour'] > 12) & (df_new['end_hour'] <= 16)] = 'afternoon'\n",
    "# df_new['return_time'][(df_new['end_hour'] > 16) & (df_new['start_hour'] <= 19)] = 'evening'\n",
    "\n",
    "# df_new['return_time'][(df_new['end_hour'] > 19) & (df_new['end_hour'] <= 23)] = 'night'\n",
    "\n",
    "\n",
    "df_new['end_hour'] = df_new['end_time'].apply(lambda time: time.hour)\n",
    "df_new['return_time'] = 'morning'\n",
    "\n",
    "df_new.loc[(df_new['end_hour'] > 12) & (df_new['end_hour'] <= 16), 'return_time'] = 'afternoon'\n",
    "df_new.loc[(df_new['end_hour'] > 16) & (df_new['end_hour'] <= 16), 'return_time'] = 'evening'\n",
    "\n",
    "df_new.loc[(df_new['end_hour'] > 19) & (df_new['end_hour'] <= 16), 'return_time'] = 'night'\n",
    "\n",
    "#df_new['day_time'].value_counts()\n"
   ]
  },
  {
   "cell_type": "code",
   "execution_count": 50,
   "metadata": {},
   "outputs": [
    {
     "data": {
      "text/plain": [
       "Text(0.5, 1.0, 'return time people bike')"
      ]
     },
     "execution_count": 50,
     "metadata": {},
     "output_type": "execute_result"
    },
    {
     "data": {
      "image/png": "[encoded data removed]",
      "text/plain": [
       "<Figure size 864x576 with 2 Axes>"
      ]
     },
     "metadata": {
      "needs_background": "light"
     },
     "output_type": "display_data"
    }
   ],
   "source": [
    "plt.figure(figsize = (12,8))\n",
    "plt.subplot(1,2,1)\n",
    "df_new['day_time'].value_counts().plot(kind = 'barh');\n",
    "plt.title('day time people bike')\n",
    "\n",
    "plt.subplot(1,2,2)\n",
    "df_new['return_time'].value_counts().plot(kind = 'barh');\n",
    "plt.title('return time people bike')\n",
    "\n"
   ]
  },
  {
   "cell_type": "code",
   "execution_count": 51,
   "metadata": {},
   "outputs": [
    {
     "data": {
      "text/plain": [
       "(morning      79111\n",
       " evening      48532\n",
       " afternoon    39979\n",
       " night        15592\n",
       " Name: day_time, dtype: int64,\n",
       " morning      144586\n",
       " afternoon     38628\n",
       " Name: return_time, dtype: int64)"
      ]
     },
     "execution_count": 51,
     "metadata": {},
     "output_type": "execute_result"
    }
   ],
   "source": [
    "df_new['day_time'].value_counts(), df_new['return_time'].value_counts()"
   ]
  },
  {
   "cell_type": "markdown",
   "metadata": {},
   "source": [
    "#### **Observation:** There are lesser rides at the end station than at the start station. Probably cause the data is only restricted to just san fracisco"
   ]
  },
  {
   "cell_type": "code",
   "execution_count": 52,
   "metadata": {},
   "outputs": [
    {
     "data": {
      "text/plain": [
       "Index(['duration_sec', 'start_time', 'end_time', 'start_station_id',\n",
       "       'start_station_name', 'start_station_latitude',\n",
       "       'start_station_longitude', 'end_station_id', 'end_station_name',\n",
       "       'end_station_latitude', 'end_station_longitude', 'bike_id', 'user_type',\n",
       "       'member_birth_year', 'member_gender', 'bike_share_for_all_trip',\n",
       "       'member_age'],\n",
       "      dtype='object')"
      ]
     },
     "execution_count": 52,
     "metadata": {},
     "output_type": "execute_result"
    }
   ],
   "source": [
    "df.columns"
   ]
  },
  {
   "cell_type": "code",
   "execution_count": null,
   "metadata": {},
   "outputs": [],
   "source": []
  },
  {
   "cell_type": "markdown",
   "metadata": {},
   "source": [
    "### \n",
    "* What user type uses the bike mostly"
   ]
  },
  {
   "cell_type": "code",
   "execution_count": 53,
   "metadata": {},
   "outputs": [
    {
     "data": {
      "image/png": "[encoded data removed]",
      "text/plain": [
       "<Figure size 1008x720 with 1 Axes>"
      ]
     },
     "metadata": {
      "needs_background": "light"
     },
     "output_type": "display_data"
    }
   ],
   "source": [
    "# df_new['user_type'].value_counts().plot(kind = 'bar')\n",
    "# plt.title('Bike user types')\n",
    "# plt.ylabel('Count')\n",
    "# plt.xlabel('User types of the services')\n",
    "\n",
    "myCountPlot(df_new, 'user_type', palette='PuBu')\n"
   ]
  },
  {
   "cell_type": "markdown",
   "metadata": {},
   "source": [
    "#### **observation:** so we have more of subscribers than customers"
   ]
  },
  {
   "cell_type": "code",
   "execution_count": 54,
   "metadata": {},
   "outputs": [
    {
     "data": {
      "text/html": [
       "<div>\n",
       "<style scoped>\n",
       "    .dataframe tbody tr th:only-of-type {\n",
       "        vertical-align: middle;\n",
       "    }\n",
       "\n",
       "    .dataframe tbody tr th {\n",
       "        vertical-align: top;\n",
       "    }\n",
       "\n",
       "    .dataframe thead th {\n",
       "        text-align: right;\n",
       "    }\n",
       "</style>\n",
       "<table border=\"1\" class=\"dataframe\">\n",
       "  <thead>\n",
       "    <tr style=\"text-align: right;\">\n",
       "      <th></th>\n",
       "      <th>duration_sec</th>\n",
       "      <th>start_time</th>\n",
       "      <th>end_time</th>\n",
       "      <th>start_station_id</th>\n",
       "      <th>start_station_name</th>\n",
       "      <th>start_station_latitude</th>\n",
       "      <th>start_station_longitude</th>\n",
       "      <th>end_station_id</th>\n",
       "      <th>end_station_name</th>\n",
       "      <th>end_station_latitude</th>\n",
       "      <th>...</th>\n",
       "      <th>member_birth_year</th>\n",
       "      <th>member_gender</th>\n",
       "      <th>bike_share_for_all_trip</th>\n",
       "      <th>member_age</th>\n",
       "      <th>duration_time</th>\n",
       "      <th>start_month</th>\n",
       "      <th>start_hour</th>\n",
       "      <th>day_time</th>\n",
       "      <th>end_hour</th>\n",
       "      <th>return_time</th>\n",
       "    </tr>\n",
       "  </thead>\n",
       "  <tbody>\n",
       "    <tr>\n",
       "      <th>0</th>\n",
       "      <td>52185</td>\n",
       "      <td>2019-02-28 17:32:10.145</td>\n",
       "      <td>2019-03-01 08:01:55.975</td>\n",
       "      <td>21.0</td>\n",
       "      <td>Montgomery St BART Station (Market St at 2nd St)</td>\n",
       "      <td>37.78963</td>\n",
       "      <td>-122.40081</td>\n",
       "      <td>13.0</td>\n",
       "      <td>Commercial St at Montgomery St</td>\n",
       "      <td>37.79423</td>\n",
       "      <td>...</td>\n",
       "      <td>1984</td>\n",
       "      <td>Male</td>\n",
       "      <td>No</td>\n",
       "      <td>35</td>\n",
       "      <td>14:29:45</td>\n",
       "      <td>2</td>\n",
       "      <td>17</td>\n",
       "      <td>evening</td>\n",
       "      <td>8</td>\n",
       "      <td>morning</td>\n",
       "    </tr>\n",
       "    <tr>\n",
       "      <th>1</th>\n",
       "      <td>42521</td>\n",
       "      <td>2019-02-28 18:53:21.789</td>\n",
       "      <td>2019-03-01 06:42:03.056</td>\n",
       "      <td>23.0</td>\n",
       "      <td>The Embarcadero at Steuart St</td>\n",
       "      <td>37.79146</td>\n",
       "      <td>-122.39103</td>\n",
       "      <td>81.0</td>\n",
       "      <td>Berry St at 4th St</td>\n",
       "      <td>37.77588</td>\n",
       "      <td>...</td>\n",
       "      <td>1985</td>\n",
       "      <td>NaN</td>\n",
       "      <td>No</td>\n",
       "      <td>34</td>\n",
       "      <td>11:48:41</td>\n",
       "      <td>2</td>\n",
       "      <td>18</td>\n",
       "      <td>evening</td>\n",
       "      <td>6</td>\n",
       "      <td>morning</td>\n",
       "    </tr>\n",
       "    <tr>\n",
       "      <th>2</th>\n",
       "      <td>61854</td>\n",
       "      <td>2019-02-28 12:13:13.218</td>\n",
       "      <td>2019-03-01 05:24:08.146</td>\n",
       "      <td>86.0</td>\n",
       "      <td>Market St at Dolores St</td>\n",
       "      <td>37.76931</td>\n",
       "      <td>-122.42683</td>\n",
       "      <td>3.0</td>\n",
       "      <td>Powell St BART Station (Market St at 4th St)</td>\n",
       "      <td>37.78638</td>\n",
       "      <td>...</td>\n",
       "      <td>1972</td>\n",
       "      <td>Male</td>\n",
       "      <td>No</td>\n",
       "      <td>47</td>\n",
       "      <td>17:10:54</td>\n",
       "      <td>2</td>\n",
       "      <td>12</td>\n",
       "      <td>morning</td>\n",
       "      <td>5</td>\n",
       "      <td>morning</td>\n",
       "    </tr>\n",
       "    <tr>\n",
       "      <th>3</th>\n",
       "      <td>36490</td>\n",
       "      <td>2019-02-28 17:54:26.010</td>\n",
       "      <td>2019-03-01 04:02:36.842</td>\n",
       "      <td>375.0</td>\n",
       "      <td>Grove St at Masonic Ave</td>\n",
       "      <td>37.77484</td>\n",
       "      <td>-122.44655</td>\n",
       "      <td>70.0</td>\n",
       "      <td>Central Ave at Fell St</td>\n",
       "      <td>37.77331</td>\n",
       "      <td>...</td>\n",
       "      <td>1989</td>\n",
       "      <td>Other</td>\n",
       "      <td>No</td>\n",
       "      <td>30</td>\n",
       "      <td>10:08:10</td>\n",
       "      <td>2</td>\n",
       "      <td>17</td>\n",
       "      <td>evening</td>\n",
       "      <td>4</td>\n",
       "      <td>morning</td>\n",
       "    </tr>\n",
       "    <tr>\n",
       "      <th>4</th>\n",
       "      <td>1585</td>\n",
       "      <td>2019-02-28 23:54:18.549</td>\n",
       "      <td>2019-03-01 00:20:44.074</td>\n",
       "      <td>7.0</td>\n",
       "      <td>Frank H Ogawa Plaza</td>\n",
       "      <td>37.80456</td>\n",
       "      <td>-122.27174</td>\n",
       "      <td>222.0</td>\n",
       "      <td>10th Ave at E 15th St</td>\n",
       "      <td>37.79271</td>\n",
       "      <td>...</td>\n",
       "      <td>1974</td>\n",
       "      <td>Male</td>\n",
       "      <td>Yes</td>\n",
       "      <td>45</td>\n",
       "      <td>0:26:25</td>\n",
       "      <td>2</td>\n",
       "      <td>23</td>\n",
       "      <td>night</td>\n",
       "      <td>0</td>\n",
       "      <td>morning</td>\n",
       "    </tr>\n",
       "  </tbody>\n",
       "</table>\n",
       "<p>5 rows × 23 columns</p>\n",
       "</div>"
      ],
      "text/plain": [
       "   duration_sec              start_time                end_time  \\\n",
       "0         52185 2019-02-28 17:32:10.145 2019-03-01 08:01:55.975   \n",
       "1         42521 2019-02-28 18:53:21.789 2019-03-01 06:42:03.056   \n",
       "2         61854 2019-02-28 12:13:13.218 2019-03-01 05:24:08.146   \n",
       "3         36490 2019-02-28 17:54:26.010 2019-03-01 04:02:36.842   \n",
       "4          1585 2019-02-28 23:54:18.549 2019-03-01 00:20:44.074   \n",
       "\n",
       "  start_station_id                                start_station_name  \\\n",
       "0             21.0  Montgomery St BART Station (Market St at 2nd St)   \n",
       "1             23.0                     The Embarcadero at Steuart St   \n",
       "2             86.0                           Market St at Dolores St   \n",
       "3            375.0                           Grove St at Masonic Ave   \n",
       "4              7.0                               Frank H Ogawa Plaza   \n",
       "\n",
       "   start_station_latitude  start_station_longitude end_station_id  \\\n",
       "0                37.78963               -122.40081           13.0   \n",
       "1                37.79146               -122.39103           81.0   \n",
       "2                37.76931               -122.42683            3.0   \n",
       "3                37.77484               -122.44655           70.0   \n",
       "4                37.80456               -122.27174          222.0   \n",
       "\n",
       "                               end_station_name  end_station_latitude  ...  \\\n",
       "0                Commercial St at Montgomery St              37.79423  ...   \n",
       "1                            Berry St at 4th St              37.77588  ...   \n",
       "2  Powell St BART Station (Market St at 4th St)              37.78638  ...   \n",
       "3                        Central Ave at Fell St              37.77331  ...   \n",
       "4                         10th Ave at E 15th St              37.79271  ...   \n",
       "\n",
       "   member_birth_year member_gender bike_share_for_all_trip  member_age  \\\n",
       "0               1984          Male                      No          35   \n",
       "1               1985           NaN                      No          34   \n",
       "2               1972          Male                      No          47   \n",
       "3               1989         Other                      No          30   \n",
       "4               1974          Male                     Yes          45   \n",
       "\n",
       "  duration_time start_month  start_hour day_time  end_hour  return_time  \n",
       "0      14:29:45           2          17  evening         8      morning  \n",
       "1      11:48:41           2          18  evening         6      morning  \n",
       "2      17:10:54           2          12  morning         5      morning  \n",
       "3      10:08:10           2          17  evening         4      morning  \n",
       "4       0:26:25           2          23    night         0      morning  \n",
       "\n",
       "[5 rows x 23 columns]"
      ]
     },
     "execution_count": 54,
     "metadata": {},
     "output_type": "execute_result"
    }
   ],
   "source": [
    "df_new.head()"
   ]
  },
  {
   "cell_type": "code",
   "execution_count": null,
   "metadata": {},
   "outputs": [],
   "source": []
  },
  {
   "cell_type": "markdown",
   "metadata": {},
   "source": [
    "* Top ten start_station"
   ]
  },
  {
   "cell_type": "code",
   "execution_count": 55,
   "metadata": {},
   "outputs": [
    {
     "data": {
      "image/png": "[encoded data removed]",
      "text/plain": [
       "<Figure size 432x288 with 1 Axes>"
      ]
     },
     "metadata": {
      "needs_background": "light"
     },
     "output_type": "display_data"
    }
   ],
   "source": [
    "top10 = ['Market St at 10th St','San Francisco Caltrain Station 2  (Townsend St at 4th St)','Berry St at 4th St','Montgomery St BART Station (Market St at 2nd St)','Powell St BART Station (Market St at 4th St)'\n",
    ",'San Francisco Ferry Building (Harry Bridges Plaza)','San Francisco Caltrain (Townsend St at 4th St)', 'Powell St BART Station (Market St at 5th St)','Howard St at Beale St','Steuart St at Market St']\n",
    "\n",
    "df_top_ten = df_new.loc[df_new['start_station_name'].isin(top10)]\n",
    "\n",
    "#df_top_ten\n",
    "st_stat_order = df_top_ten['start_station_name'].value_counts().index\n",
    "\n",
    "base_color = sns.color_palette()[0]\n",
    "sns.countplot(data=df_top_ten, y='start_station_name', color=base_color, order=st_stat_order)\n",
    "plt.xlabel('Count')\n",
    "plt.ylabel('Start Station Name')\n",
    "plt.title('Top 8 Stations with the most trips in SF');\n"
   ]
  },
  {
   "cell_type": "code",
   "execution_count": 56,
   "metadata": {},
   "outputs": [
    {
     "data": {
      "text/plain": [
       "Market St at 10th St                                         3904\n",
       "San Francisco Caltrain Station 2  (Townsend St at 4th St)    3544\n",
       "Berry St at 4th St                                           3052\n",
       "Montgomery St BART Station (Market St at 2nd St)             2895\n",
       "Powell St BART Station (Market St at 4th St)                 2760\n",
       "San Francisco Ferry Building (Harry Bridges Plaza)           2709\n",
       "San Francisco Caltrain (Townsend St at 4th St)               2703\n",
       "Powell St BART Station (Market St at 5th St)                 2327\n",
       "Howard St at Beale St                                        2293\n",
       "Steuart St at Market St                                      2283\n",
       "Name: start_station_name, dtype: int64"
      ]
     },
     "execution_count": 56,
     "metadata": {},
     "output_type": "execute_result"
    }
   ],
   "source": [
    "df_new['start_station_name'].value_counts().nlargest(10)"
   ]
  },
  {
   "cell_type": "code",
   "execution_count": null,
   "metadata": {},
   "outputs": [],
   "source": []
  },
  {
   "cell_type": "markdown",
   "metadata": {},
   "source": [
    "* Top ten end station"
   ]
  },
  {
   "cell_type": "code",
   "execution_count": 57,
   "metadata": {},
   "outputs": [
    {
     "data": {
      "text/plain": [
       "San Francisco Caltrain Station 2  (Townsend St at 4th St)    4857\n",
       "Market St at 10th St                                         3973\n",
       "Montgomery St BART Station (Market St at 2nd St)             3647\n",
       "San Francisco Ferry Building (Harry Bridges Plaza)           3368\n",
       "Powell St BART Station (Market St at 4th St)                 2997\n",
       "San Francisco Caltrain (Townsend St at 4th St)               2947\n",
       "Berry St at 4th St                                           2872\n",
       "The Embarcadero at Sansome St                                2512\n",
       "Powell St BART Station (Market St at 5th St)                 2353\n",
       "Steuart St at Market St                                      2338\n",
       "Name: end_station_name, dtype: int64"
      ]
     },
     "execution_count": 57,
     "metadata": {},
     "output_type": "execute_result"
    }
   ],
   "source": [
    "df_new['end_station_name'].value_counts().nlargest(10)"
   ]
  },
  {
   "cell_type": "code",
   "execution_count": 58,
   "metadata": {},
   "outputs": [
    {
     "data": {
      "image/png": "[encoded data removed]",
      "text/plain": [
       "<Figure size 432x288 with 1 Axes>"
      ]
     },
     "metadata": {
      "needs_background": "light"
     },
     "output_type": "display_data"
    }
   ],
   "source": [
    "top10 = ['San Francisco Caltrain Station 2  (Townsend St at 4th St)','Market St at 10th St','Montgomery St BART Station (Market St at 2nd St)','San Francisco Ferry Building (Harry Bridges Plaza)','Powell St BART Station (Market St at 4th St)',\n",
    "'San Francisco Caltrain (Townsend St at 4th St)','Berry St at 4th St','The Embarcadero at Sansome St','Powell St BART Station (Market St at 5th St)','Steuart St at Market St']\n",
    "\n",
    "df_top_ten_2 = df_new.loc[df_new['end_station_name'].isin(top10)]\n",
    "\n",
    "#df_top_ten\n",
    "st_stat_order = df_top_ten_2['end_station_name'].value_counts().index\n",
    "\n",
    "base_color = sns.color_palette()[0]\n",
    "sns.countplot(data=df_top_ten_2, y='end_station_name', color=base_color, order=st_stat_order)\n",
    "plt.xlabel('Count')\n",
    "plt.ylabel('End Station Name')\n",
    "plt.title('Top 8 Stations with the most trips in SF');\n"
   ]
  },
  {
   "cell_type": "markdown",
   "metadata": {},
   "source": [
    "#### **Observation:** San Francisco Caltrain Station 2  (Townsend St at 4th St) seems to be a veery busy place. It tops the return location and seconds the start_ride_location. But still the top 10 start station and end station are about the same stations"
   ]
  },
  {
   "cell_type": "markdown",
   "metadata": {},
   "source": [
    "## *Statistics of the ride duration*"
   ]
  },
  {
   "cell_type": "code",
   "execution_count": 59,
   "metadata": {},
   "outputs": [
    {
     "data": {
      "text/plain": [
       "count    183214.000000\n",
       "mean        725.897934\n",
       "std        1795.082702\n",
       "min          61.000000\n",
       "25%         325.000000\n",
       "50%         514.000000\n",
       "75%         796.000000\n",
       "max       85444.000000\n",
       "Name: duration_sec, dtype: float64"
      ]
     },
     "execution_count": 59,
     "metadata": {},
     "output_type": "execute_result"
    }
   ],
   "source": [
    "df_new['duration_sec'].describe()"
   ]
  },
  {
   "cell_type": "code",
   "execution_count": null,
   "metadata": {},
   "outputs": [],
   "source": []
  },
  {
   "cell_type": "code",
   "execution_count": null,
   "metadata": {},
   "outputs": [],
   "source": []
  },
  {
   "cell_type": "markdown",
   "metadata": {},
   "source": [
    "### Statistics of the member age"
   ]
  },
  {
   "cell_type": "code",
   "execution_count": 60,
   "metadata": {},
   "outputs": [
    {
     "data": {
      "text/plain": [
       "count    183214.000000\n",
       "mean         34.187404\n",
       "std           9.884882\n",
       "min          18.000000\n",
       "25%          27.000000\n",
       "50%          32.000000\n",
       "75%          38.000000\n",
       "max         119.000000\n",
       "Name: member_age, dtype: float64"
      ]
     },
     "execution_count": 60,
     "metadata": {},
     "output_type": "execute_result"
    }
   ],
   "source": [
    "df_new['member_age'].describe()"
   ]
  },
  {
   "cell_type": "code",
   "execution_count": null,
   "metadata": {},
   "outputs": [],
   "source": []
  },
  {
   "cell_type": "code",
   "execution_count": 61,
   "metadata": {},
   "outputs": [
    {
     "data": {
      "text/html": [
       "<div>\n",
       "<style scoped>\n",
       "    .dataframe tbody tr th:only-of-type {\n",
       "        vertical-align: middle;\n",
       "    }\n",
       "\n",
       "    .dataframe tbody tr th {\n",
       "        vertical-align: top;\n",
       "    }\n",
       "\n",
       "    .dataframe thead th {\n",
       "        text-align: right;\n",
       "    }\n",
       "</style>\n",
       "<table border=\"1\" class=\"dataframe\">\n",
       "  <thead>\n",
       "    <tr style=\"text-align: right;\">\n",
       "      <th></th>\n",
       "      <th>duration_sec</th>\n",
       "      <th>start_time</th>\n",
       "      <th>end_time</th>\n",
       "      <th>start_station_id</th>\n",
       "      <th>start_station_name</th>\n",
       "      <th>start_station_latitude</th>\n",
       "      <th>start_station_longitude</th>\n",
       "      <th>end_station_id</th>\n",
       "      <th>end_station_name</th>\n",
       "      <th>end_station_latitude</th>\n",
       "      <th>...</th>\n",
       "      <th>member_birth_year</th>\n",
       "      <th>member_gender</th>\n",
       "      <th>bike_share_for_all_trip</th>\n",
       "      <th>member_age</th>\n",
       "      <th>duration_time</th>\n",
       "      <th>start_month</th>\n",
       "      <th>start_hour</th>\n",
       "      <th>day_time</th>\n",
       "      <th>end_hour</th>\n",
       "      <th>return_time</th>\n",
       "    </tr>\n",
       "  </thead>\n",
       "  <tbody>\n",
       "    <tr>\n",
       "      <th>147632</th>\n",
       "      <td>552</td>\n",
       "      <td>2019-02-07 07:31:39.989</td>\n",
       "      <td>2019-02-07 07:40:52.283</td>\n",
       "      <td>169.0</td>\n",
       "      <td>Bushrod Park</td>\n",
       "      <td>37.84652</td>\n",
       "      <td>-122.2653</td>\n",
       "      <td>252.0</td>\n",
       "      <td>Channing Way at Shattuck Ave</td>\n",
       "      <td>37.86585</td>\n",
       "      <td>...</td>\n",
       "      <td>1985</td>\n",
       "      <td>Male</td>\n",
       "      <td>No</td>\n",
       "      <td>34</td>\n",
       "      <td>0:09:12</td>\n",
       "      <td>2</td>\n",
       "      <td>7</td>\n",
       "      <td>morning</td>\n",
       "      <td>7</td>\n",
       "      <td>morning</td>\n",
       "    </tr>\n",
       "  </tbody>\n",
       "</table>\n",
       "<p>1 rows × 23 columns</p>\n",
       "</div>"
      ],
      "text/plain": [
       "        duration_sec              start_time                end_time  \\\n",
       "147632           552 2019-02-07 07:31:39.989 2019-02-07 07:40:52.283   \n",
       "\n",
       "       start_station_id start_station_name  start_station_latitude  \\\n",
       "147632            169.0       Bushrod Park                37.84652   \n",
       "\n",
       "        start_station_longitude end_station_id              end_station_name  \\\n",
       "147632                -122.2653          252.0  Channing Way at Shattuck Ave   \n",
       "\n",
       "        end_station_latitude  ...  member_birth_year member_gender  \\\n",
       "147632              37.86585  ...               1985          Male   \n",
       "\n",
       "       bike_share_for_all_trip  member_age duration_time start_month  \\\n",
       "147632                      No          34       0:09:12           2   \n",
       "\n",
       "        start_hour day_time  end_hour  return_time  \n",
       "147632           7  morning         7      morning  \n",
       "\n",
       "[1 rows x 23 columns]"
      ]
     },
     "execution_count": 61,
     "metadata": {},
     "output_type": "execute_result"
    }
   ],
   "source": [
    "df_new.sample()"
   ]
  },
  {
   "cell_type": "markdown",
   "metadata": {},
   "source": [
    "# Bivariate Exploration\n",
    "<a id=\"cell132\"></a>"
   ]
  },
  {
   "cell_type": "code",
   "execution_count": null,
   "metadata": {},
   "outputs": [],
   "source": [
    "\n"
   ]
  },
  {
   "cell_type": "markdown",
   "metadata": {},
   "source": [
    "### **What is the Relationship between ride duration and member_age?**"
   ]
  },
  {
   "cell_type": "code",
   "execution_count": 62,
   "metadata": {},
   "outputs": [
    {
     "data": {
      "text/plain": [
       "Text(0.5, 0, 'age')"
      ]
     },
     "execution_count": 62,
     "metadata": {},
     "output_type": "execute_result"
    },
    {
     "data": {
      "image/png": "[encoded data removed]",
      "text/plain": [
       "<Figure size 432x288 with 1 Axes>"
      ]
     },
     "metadata": {
      "needs_background": "light"
     },
     "output_type": "display_data"
    }
   ],
   "source": [
    "plt.scatter(df_new.member_age,df_new.duration_sec, alpha = 0.4)\n",
    "plt.title('relationship between duration_sec and age')\n",
    "plt.ylabel('duration in sec')\n",
    "plt.xlabel('age')"
   ]
  },
  {
   "cell_type": "markdown",
   "metadata": {},
   "source": [
    "#### A quick check on Which gender rides most"
   ]
  },
  {
   "cell_type": "code",
   "execution_count": 63,
   "metadata": {},
   "outputs": [
    {
     "data": {
      "text/plain": [
       "Male      130500\n",
       "Female     40804\n",
       "Other       3647\n",
       "Name: member_gender, dtype: int64"
      ]
     },
     "execution_count": 63,
     "metadata": {},
     "output_type": "execute_result"
    }
   ],
   "source": [
    "df_new.member_gender.value_counts()"
   ]
  },
  {
   "cell_type": "code",
   "execution_count": 64,
   "metadata": {},
   "outputs": [
    {
     "data": {
      "text/plain": [
       "Text(0.5, 0, 'age')"
      ]
     },
     "execution_count": 64,
     "metadata": {},
     "output_type": "execute_result"
    },
    {
     "data": {
      "image/png": "[encoded data removed]",
      "text/plain": [
       "<Figure size 432x288 with 1 Axes>"
      ]
     },
     "metadata": {
      "needs_background": "light"
     },
     "output_type": "display_data"
    }
   ],
   "source": [
    "markers = [['Male', 'o'],\n",
    "               ['Female', 's'], ['Other', '^']]\n",
    "\n",
    "for c, marker in markers: #a loop created\n",
    "    df_c = df_new[df_new['member_gender'] == c]\n",
    "    plt.scatter(data = df_c, x = 'member_age', y = 'duration_sec', marker = marker)\n",
    "plt.legend(['male','female','others'])\n",
    "plt.title('relationship between duration_sec and age for each gender')\n",
    "plt.ylabel('duration in sec')\n",
    "plt.xlabel('age')"
   ]
  },
  {
   "cell_type": "code",
   "execution_count": 65,
   "metadata": {},
   "outputs": [
    {
     "data": {
      "text/plain": [
       "count    183214.000000\n",
       "mean         34.187404\n",
       "std           9.884882\n",
       "min          18.000000\n",
       "25%          27.000000\n",
       "50%          32.000000\n",
       "75%          38.000000\n",
       "max         119.000000\n",
       "Name: member_age, dtype: float64"
      ]
     },
     "execution_count": 65,
     "metadata": {},
     "output_type": "execute_result"
    }
   ],
   "source": [
    "df_new.member_age.describe()"
   ]
  },
  {
   "cell_type": "code",
   "execution_count": 66,
   "metadata": {},
   "outputs": [
    {
     "data": {
      "text/html": [
       "<div>\n",
       "<style scoped>\n",
       "    .dataframe tbody tr th:only-of-type {\n",
       "        vertical-align: middle;\n",
       "    }\n",
       "\n",
       "    .dataframe tbody tr th {\n",
       "        vertical-align: top;\n",
       "    }\n",
       "\n",
       "    .dataframe thead th {\n",
       "        text-align: right;\n",
       "    }\n",
       "</style>\n",
       "<table border=\"1\" class=\"dataframe\">\n",
       "  <thead>\n",
       "    <tr style=\"text-align: right;\">\n",
       "      <th></th>\n",
       "      <th>duration_sec</th>\n",
       "      <th>start_time</th>\n",
       "      <th>end_time</th>\n",
       "      <th>start_station_id</th>\n",
       "      <th>start_station_name</th>\n",
       "      <th>start_station_latitude</th>\n",
       "      <th>start_station_longitude</th>\n",
       "      <th>end_station_id</th>\n",
       "      <th>end_station_name</th>\n",
       "      <th>end_station_latitude</th>\n",
       "      <th>...</th>\n",
       "      <th>member_birth_year</th>\n",
       "      <th>member_gender</th>\n",
       "      <th>bike_share_for_all_trip</th>\n",
       "      <th>member_age</th>\n",
       "      <th>duration_time</th>\n",
       "      <th>start_month</th>\n",
       "      <th>start_hour</th>\n",
       "      <th>day_time</th>\n",
       "      <th>end_hour</th>\n",
       "      <th>return_time</th>\n",
       "    </tr>\n",
       "  </thead>\n",
       "  <tbody>\n",
       "    <tr>\n",
       "      <th>1285</th>\n",
       "      <td>148</td>\n",
       "      <td>2019-02-28 19:29:17.627</td>\n",
       "      <td>2019-02-28 19:31:45.967</td>\n",
       "      <td>158.0</td>\n",
       "      <td>Shattuck Ave at Telegraph Ave</td>\n",
       "      <td>37.83328</td>\n",
       "      <td>-122.26349</td>\n",
       "      <td>173.0</td>\n",
       "      <td>Shattuck Ave at 55th St</td>\n",
       "      <td>37.84036</td>\n",
       "      <td>...</td>\n",
       "      <td>1900</td>\n",
       "      <td>Male</td>\n",
       "      <td>Yes</td>\n",
       "      <td>119</td>\n",
       "      <td>0:02:28</td>\n",
       "      <td>2</td>\n",
       "      <td>19</td>\n",
       "      <td>evening</td>\n",
       "      <td>19</td>\n",
       "      <td>morning</td>\n",
       "    </tr>\n",
       "    <tr>\n",
       "      <th>10827</th>\n",
       "      <td>1315</td>\n",
       "      <td>2019-02-27 19:21:34.436</td>\n",
       "      <td>2019-02-27 19:43:30.008</td>\n",
       "      <td>343.0</td>\n",
       "      <td>Bryant St at 2nd St</td>\n",
       "      <td>37.78317</td>\n",
       "      <td>-122.39357</td>\n",
       "      <td>375.0</td>\n",
       "      <td>Grove St at Masonic Ave</td>\n",
       "      <td>37.77484</td>\n",
       "      <td>...</td>\n",
       "      <td>1900</td>\n",
       "      <td>Male</td>\n",
       "      <td>No</td>\n",
       "      <td>119</td>\n",
       "      <td>0:21:55</td>\n",
       "      <td>2</td>\n",
       "      <td>19</td>\n",
       "      <td>evening</td>\n",
       "      <td>19</td>\n",
       "      <td>morning</td>\n",
       "    </tr>\n",
       "    <tr>\n",
       "      <th>16087</th>\n",
       "      <td>1131</td>\n",
       "      <td>2019-02-27 08:37:36.864</td>\n",
       "      <td>2019-02-27 08:56:28.022</td>\n",
       "      <td>375.0</td>\n",
       "      <td>Grove St at Masonic Ave</td>\n",
       "      <td>37.77484</td>\n",
       "      <td>-122.44655</td>\n",
       "      <td>36.0</td>\n",
       "      <td>Folsom St at 3rd St</td>\n",
       "      <td>37.78383</td>\n",
       "      <td>...</td>\n",
       "      <td>1900</td>\n",
       "      <td>Male</td>\n",
       "      <td>No</td>\n",
       "      <td>119</td>\n",
       "      <td>0:18:51</td>\n",
       "      <td>2</td>\n",
       "      <td>8</td>\n",
       "      <td>morning</td>\n",
       "      <td>8</td>\n",
       "      <td>morning</td>\n",
       "    </tr>\n",
       "    <tr>\n",
       "      <th>19375</th>\n",
       "      <td>641</td>\n",
       "      <td>2019-02-26 17:03:19.855</td>\n",
       "      <td>2019-02-26 17:14:01.619</td>\n",
       "      <td>9.0</td>\n",
       "      <td>Broadway at Battery St</td>\n",
       "      <td>37.79857</td>\n",
       "      <td>-122.40087</td>\n",
       "      <td>30.0</td>\n",
       "      <td>San Francisco Caltrain (Townsend St at 4th St)</td>\n",
       "      <td>37.77660</td>\n",
       "      <td>...</td>\n",
       "      <td>1900</td>\n",
       "      <td>Male</td>\n",
       "      <td>No</td>\n",
       "      <td>119</td>\n",
       "      <td>0:10:41</td>\n",
       "      <td>2</td>\n",
       "      <td>17</td>\n",
       "      <td>evening</td>\n",
       "      <td>17</td>\n",
       "      <td>morning</td>\n",
       "    </tr>\n",
       "    <tr>\n",
       "      <th>21424</th>\n",
       "      <td>1424</td>\n",
       "      <td>2019-02-26 08:58:02.904</td>\n",
       "      <td>2019-02-26 09:21:47.749</td>\n",
       "      <td>375.0</td>\n",
       "      <td>Grove St at Masonic Ave</td>\n",
       "      <td>37.77484</td>\n",
       "      <td>-122.44655</td>\n",
       "      <td>343.0</td>\n",
       "      <td>Bryant St at 2nd St</td>\n",
       "      <td>37.78317</td>\n",
       "      <td>...</td>\n",
       "      <td>1900</td>\n",
       "      <td>Male</td>\n",
       "      <td>No</td>\n",
       "      <td>119</td>\n",
       "      <td>0:23:44</td>\n",
       "      <td>2</td>\n",
       "      <td>8</td>\n",
       "      <td>morning</td>\n",
       "      <td>9</td>\n",
       "      <td>morning</td>\n",
       "    </tr>\n",
       "  </tbody>\n",
       "</table>\n",
       "<p>5 rows × 23 columns</p>\n",
       "</div>"
      ],
      "text/plain": [
       "       duration_sec              start_time                end_time  \\\n",
       "1285            148 2019-02-28 19:29:17.627 2019-02-28 19:31:45.967   \n",
       "10827          1315 2019-02-27 19:21:34.436 2019-02-27 19:43:30.008   \n",
       "16087          1131 2019-02-27 08:37:36.864 2019-02-27 08:56:28.022   \n",
       "19375           641 2019-02-26 17:03:19.855 2019-02-26 17:14:01.619   \n",
       "21424          1424 2019-02-26 08:58:02.904 2019-02-26 09:21:47.749   \n",
       "\n",
       "      start_station_id             start_station_name  start_station_latitude  \\\n",
       "1285             158.0  Shattuck Ave at Telegraph Ave                37.83328   \n",
       "10827            343.0            Bryant St at 2nd St                37.78317   \n",
       "16087            375.0        Grove St at Masonic Ave                37.77484   \n",
       "19375              9.0         Broadway at Battery St                37.79857   \n",
       "21424            375.0        Grove St at Masonic Ave                37.77484   \n",
       "\n",
       "       start_station_longitude end_station_id  \\\n",
       "1285                -122.26349          173.0   \n",
       "10827               -122.39357          375.0   \n",
       "16087               -122.44655           36.0   \n",
       "19375               -122.40087           30.0   \n",
       "21424               -122.44655          343.0   \n",
       "\n",
       "                                     end_station_name  end_station_latitude  \\\n",
       "1285                          Shattuck Ave at 55th St              37.84036   \n",
       "10827                         Grove St at Masonic Ave              37.77484   \n",
       "16087                             Folsom St at 3rd St              37.78383   \n",
       "19375  San Francisco Caltrain (Townsend St at 4th St)              37.77660   \n",
       "21424                             Bryant St at 2nd St              37.78317   \n",
       "\n",
       "       ...  member_birth_year member_gender bike_share_for_all_trip  \\\n",
       "1285   ...               1900          Male                     Yes   \n",
       "10827  ...               1900          Male                      No   \n",
       "16087  ...               1900          Male                      No   \n",
       "19375  ...               1900          Male                      No   \n",
       "21424  ...               1900          Male                      No   \n",
       "\n",
       "       member_age duration_time start_month  start_hour day_time  end_hour  \\\n",
       "1285          119       0:02:28           2          19  evening        19   \n",
       "10827         119       0:21:55           2          19  evening        19   \n",
       "16087         119       0:18:51           2           8  morning         8   \n",
       "19375         119       0:10:41           2          17  evening        17   \n",
       "21424         119       0:23:44           2           8  morning         9   \n",
       "\n",
       "       return_time  \n",
       "1285       morning  \n",
       "10827      morning  \n",
       "16087      morning  \n",
       "19375      morning  \n",
       "21424      morning  \n",
       "\n",
       "[5 rows x 23 columns]"
      ]
     },
     "execution_count": 66,
     "metadata": {},
     "output_type": "execute_result"
    }
   ],
   "source": [
    "df_new[df_new['member_age'] == 119].head()"
   ]
  },
  {
   "cell_type": "markdown",
   "metadata": {},
   "source": [
    "#### Further look"
   ]
  },
  {
   "cell_type": "code",
   "execution_count": 67,
   "metadata": {},
   "outputs": [
    {
     "name": "stderr",
     "output_type": "stream",
     "text": [
      "C:\\Users\\ilesanmi\\Anaconda3\\lib\\site-packages\\seaborn\\distributions.py:2557: FutureWarning: `distplot` is a deprecated function and will be removed in a future version. Please adapt your code to use either `displot` (a figure-level function with similar flexibility) or `histplot` (an axes-level function for histograms).\n",
      "  warnings.warn(msg, FutureWarning)\n"
     ]
    },
    {
     "data": {
      "image/png": "[encoded data removed]",
      "text/plain": [
       "<Figure size 864x360 with 2 Axes>"
      ]
     },
     "metadata": {
      "needs_background": "light"
     },
     "output_type": "display_data"
    }
   ],
   "source": [
    "plt.figure(figsize = (12,5))\n",
    "plt.subplot(1,2,1)\n",
    "sns.distplot(df_new['member_age']);\n",
    "plt.title('member age')\n",
    "plt.xlabel('age')\n",
    "\n",
    "plt.subplot(1,2,2)\n",
    "bb = np.arange(15, df_new['member_age'].mean()+20, 5)\n",
    "plt.hist(df_new['member_age'], bins = bb);\n",
    "plt.title('member age')\n",
    "plt.xlabel('age')\n",
    "plt.show()"
   ]
  },
  {
   "cell_type": "markdown",
   "metadata": {},
   "source": [
    "#### good number of the memmber_ages are between 20 and 50"
   ]
  },
  {
   "cell_type": "code",
   "execution_count": 68,
   "metadata": {},
   "outputs": [
    {
     "data": {
      "text/plain": [
       "Text(0.5, 0, 'age bewteen 20 and 50')"
      ]
     },
     "execution_count": 68,
     "metadata": {},
     "output_type": "execute_result"
    },
    {
     "data": {
      "image/png": "[encoded data removed]",
      "text/plain": [
       "<Figure size 432x288 with 1 Axes>"
      ]
     },
     "metadata": {
      "needs_background": "light"
     },
     "output_type": "display_data"
    }
   ],
   "source": [
    "#plt.figure(figsize = (16,12))\n",
    "active_ages = df_new.query('member_age > 20 & member_age<50')\n",
    "#active_ages\n",
    "\n",
    "plt.scatter(active_ages['member_age'], active_ages['duration_sec'])\n",
    "plt.title('relationship between duration_sec and age between 20 adn 50')\n",
    "plt.ylabel('duration in sec')\n",
    "plt.xlabel('age bewteen 20 and 50')"
   ]
  },
  {
   "cell_type": "markdown",
   "metadata": {},
   "source": [
    "#### **observation:** More duration time on the left side of age 35"
   ]
  },
  {
   "cell_type": "code",
   "execution_count": 69,
   "metadata": {},
   "outputs": [],
   "source": [
    "age_below_100 = df_new[df_new['member_age']<= 100]"
   ]
  },
  {
   "cell_type": "code",
   "execution_count": 70,
   "metadata": {},
   "outputs": [
    {
     "data": {
      "text/plain": [
       "Text(0.5, 0, 'age less than 100')"
      ]
     },
     "execution_count": 70,
     "metadata": {},
     "output_type": "execute_result"
    },
    {
     "data": {
      "image/png": "[encoded data removed]",
      "text/plain": [
       "<Figure size 432x288 with 1 Axes>"
      ]
     },
     "metadata": {
      "needs_background": "light"
     },
     "output_type": "display_data"
    }
   ],
   "source": [
    "plt.scatter(age_below_100['member_age'],age_below_100['duration_sec'])\n",
    "plt.title('relationship between duration_sec and age lesser than 100')\n",
    "plt.ylabel('duration in sec')\n",
    "plt.xlabel('age less than 100')"
   ]
  },
  {
   "cell_type": "markdown",
   "metadata": {},
   "source": [
    "#### **Final Observation:** There's a slight negative correlation between duration and member_age. \n",
    "* And this is normal because the duration really has nothing to do with age though (as seen too), younger people tend to ride longer"
   ]
  },
  {
   "cell_type": "code",
   "execution_count": null,
   "metadata": {},
   "outputs": [],
   "source": []
  },
  {
   "cell_type": "markdown",
   "metadata": {},
   "source": [
    "## Average age for genders"
   ]
  },
  {
   "cell_type": "code",
   "execution_count": 71,
   "metadata": {},
   "outputs": [
    {
     "data": {
      "text/plain": [
       "Text(0.5, 0, 'Gender')"
      ]
     },
     "execution_count": 71,
     "metadata": {},
     "output_type": "execute_result"
    },
    {
     "data": {
      "image/png": "[encoded data removed]",
      "text/plain": [
       "<Figure size 432x288 with 1 Axes>"
      ]
     },
     "metadata": {
      "needs_background": "light"
     },
     "output_type": "display_data"
    }
   ],
   "source": [
    "df_new.groupby('member_gender')['member_age'].mean().plot(kind = 'bar')\n",
    "plt.title('average age for the gender')\n",
    "plt.ylabel('count')\n",
    "plt.xlabel('Gender')"
   ]
  },
  {
   "cell_type": "code",
   "execution_count": 72,
   "metadata": {},
   "outputs": [
    {
     "data": {
      "text/html": [
       "<div>\n",
       "<style scoped>\n",
       "    .dataframe tbody tr th:only-of-type {\n",
       "        vertical-align: middle;\n",
       "    }\n",
       "\n",
       "    .dataframe tbody tr th {\n",
       "        vertical-align: top;\n",
       "    }\n",
       "\n",
       "    .dataframe thead th {\n",
       "        text-align: right;\n",
       "    }\n",
       "</style>\n",
       "<table border=\"1\" class=\"dataframe\">\n",
       "  <thead>\n",
       "    <tr style=\"text-align: right;\">\n",
       "      <th></th>\n",
       "      <th>count</th>\n",
       "      <th>mean</th>\n",
       "      <th>std</th>\n",
       "      <th>min</th>\n",
       "      <th>25%</th>\n",
       "      <th>50%</th>\n",
       "      <th>75%</th>\n",
       "      <th>max</th>\n",
       "    </tr>\n",
       "    <tr>\n",
       "      <th>member_gender</th>\n",
       "      <th></th>\n",
       "      <th></th>\n",
       "      <th></th>\n",
       "      <th></th>\n",
       "      <th></th>\n",
       "      <th></th>\n",
       "      <th></th>\n",
       "      <th></th>\n",
       "    </tr>\n",
       "  </thead>\n",
       "  <tbody>\n",
       "    <tr>\n",
       "      <th>Female</th>\n",
       "      <td>40804.0</td>\n",
       "      <td>33.221057</td>\n",
       "      <td>9.268773</td>\n",
       "      <td>18.0</td>\n",
       "      <td>27.0</td>\n",
       "      <td>31.0</td>\n",
       "      <td>37.0</td>\n",
       "      <td>119.0</td>\n",
       "    </tr>\n",
       "    <tr>\n",
       "      <th>Male</th>\n",
       "      <td>130500.0</td>\n",
       "      <td>34.453617</td>\n",
       "      <td>10.345189</td>\n",
       "      <td>18.0</td>\n",
       "      <td>27.0</td>\n",
       "      <td>32.0</td>\n",
       "      <td>39.0</td>\n",
       "      <td>119.0</td>\n",
       "    </tr>\n",
       "    <tr>\n",
       "      <th>Other</th>\n",
       "      <td>3647.0</td>\n",
       "      <td>35.897998</td>\n",
       "      <td>10.098447</td>\n",
       "      <td>19.0</td>\n",
       "      <td>29.0</td>\n",
       "      <td>34.0</td>\n",
       "      <td>40.0</td>\n",
       "      <td>109.0</td>\n",
       "    </tr>\n",
       "  </tbody>\n",
       "</table>\n",
       "</div>"
      ],
      "text/plain": [
       "                  count       mean        std   min   25%   50%   75%    max\n",
       "member_gender                                                               \n",
       "Female          40804.0  33.221057   9.268773  18.0  27.0  31.0  37.0  119.0\n",
       "Male           130500.0  34.453617  10.345189  18.0  27.0  32.0  39.0  119.0\n",
       "Other            3647.0  35.897998  10.098447  19.0  29.0  34.0  40.0  109.0"
      ]
     },
     "execution_count": 72,
     "metadata": {},
     "output_type": "execute_result"
    }
   ],
   "source": [
    "df_new.groupby('member_gender')['member_age'].describe()"
   ]
  },
  {
   "cell_type": "markdown",
   "metadata": {},
   "source": [
    "#### **observation:** they are about the same mean age even with more of male than others and spanning ranges"
   ]
  },
  {
   "cell_type": "code",
   "execution_count": 73,
   "metadata": {},
   "outputs": [
    {
     "data": {
      "text/plain": [
       "Index(['duration_sec', 'start_time', 'end_time', 'start_station_id',\n",
       "       'start_station_name', 'start_station_latitude',\n",
       "       'start_station_longitude', 'end_station_id', 'end_station_name',\n",
       "       'end_station_latitude', 'end_station_longitude', 'bike_id', 'user_type',\n",
       "       'member_birth_year', 'member_gender', 'bike_share_for_all_trip',\n",
       "       'member_age', 'duration_time', 'start_month', 'start_hour', 'day_time',\n",
       "       'end_hour', 'return_time'],\n",
       "      dtype='object')"
      ]
     },
     "execution_count": 73,
     "metadata": {},
     "output_type": "execute_result"
    }
   ],
   "source": [
    "df_new.columns"
   ]
  },
  {
   "cell_type": "code",
   "execution_count": null,
   "metadata": {},
   "outputs": [],
   "source": []
  },
  {
   "cell_type": "markdown",
   "metadata": {},
   "source": [
    "## **For the top 10 stations, how are the rides for each time of the day**"
   ]
  },
  {
   "cell_type": "markdown",
   "metadata": {},
   "source": [
    "#### Number of trips for each day time -- morning, afternoon, evening and night"
   ]
  },
  {
   "cell_type": "code",
   "execution_count": 74,
   "metadata": {},
   "outputs": [],
   "source": [
    "##Ordering the days\n",
    "\n",
    "# # days\n",
    "# day_ = ['Morning', 'Afternoon', 'Evening', 'Night']\n",
    "\n",
    "\n",
    "# day_t = pd.api.types.CategoricalDtype(ordered=True, categories=day_)\n",
    "# return_t = pd.api.types.CategoricalDtype(ordered=True, categories=day_)\n",
    "\n",
    "# # Use pandas.astype() to convert the \"days\" column from a plain object type into an ordered categorical type \n",
    "# df_top_ten['return_time'] = df_top_ten['return_time'].astype(return_t);\n",
    "# df_top_ten['day_time'] = df_top_ten['day_time'].astype(day_t);"
   ]
  },
  {
   "cell_type": "code",
   "execution_count": 75,
   "metadata": {},
   "outputs": [
    {
     "data": {
      "image/png": "[encoded data removed]",
      "text/plain": [
       "<Figure size 1008x720 with 1 Axes>"
      ]
     },
     "metadata": {
      "needs_background": "light"
     },
     "output_type": "display_data"
    }
   ],
   "source": [
    "\n",
    "def myCountPlotH(df, xVar, hueVar, order = None, hueOrder = None, palette = None, figsize=[14,10]):\n",
    "    plt.figure(figsize=figsize)\n",
    "\n",
    "    c=sns.countplot(data=df, y = xVar, hue = hueVar, edgecolor = 'black', order = order, hue_order = hueOrder, palette=palette)\n",
    "    xVar = xVar.replace('_', ' ')\n",
    "    hueVar = hueVar.replace('_', ' ')\n",
    "    plt.title(f'''Distribution of {xVar} by {hueVar}'''.title(), fontsize = 14, weight = 'bold')\n",
    "    plt.ylabel(xVar.title(), fontsize=10, weight ='bold')\n",
    "    plt.xlabel('Frequency'.title(), fontsize = 10, weight = 'bold')\n",
    "\n",
    "day_time_order = ['morning', 'afternoon', 'evening', 'night']\n",
    "\n",
    "myCountPlotH(df_top_ten, 'start_station_name', 'day_time', hueOrder=day_time_order, palette = 'PuBu')\n",
    "\n",
    "# fig = plt.figure(figsize=(8,10))\n",
    "# #plt.subplots_adjust(top=0.95)\n",
    "# fig.suptitle('Count of trips for each day time', fontsize=14)\n",
    "\n",
    "\n",
    "# sns.countplot(data=df_top_ten, y='start_station_name', hue='day_time')\n",
    "# plt.legend(loc='center left', bbox_to_anchor=(1,0.5))\n",
    "# plt.ylabel('Start Station Name')\n",
    "# plt.xlabel('Count');"
   ]
  },
  {
   "cell_type": "markdown",
   "metadata": {},
   "source": [
    "#### checking the return time "
   ]
  },
  {
   "cell_type": "code",
   "execution_count": 76,
   "metadata": {},
   "outputs": [
    {
     "data": {
      "image/png": "[encoded data removed]",
      "text/plain": [
       "<Figure size 1008x720 with 1 Axes>"
      ]
     },
     "metadata": {
      "needs_background": "light"
     },
     "output_type": "display_data"
    }
   ],
   "source": [
    "\n",
    "day_time_order = ['morning', 'afternoon', 'evening', 'night']\n",
    "\n",
    "myCountPlotH(df_top_ten_2, 'end_station_name', 'return_time', hueOrder=day_time_order, palette = 'PuBu')\n"
   ]
  },
  {
   "cell_type": "markdown",
   "metadata": {},
   "source": [
    "#### **Observation:** So, aside morning, most of the rides are between 5pm and 7pm --- evening and also, sanfrancisco seems to be a very busy industrious area"
   ]
  },
  {
   "cell_type": "code",
   "execution_count": null,
   "metadata": {},
   "outputs": [],
   "source": []
  },
  {
   "cell_type": "markdown",
   "metadata": {},
   "source": [
    "### Number of Usertypes for the top10 stations"
   ]
  },
  {
   "cell_type": "code",
   "execution_count": 77,
   "metadata": {},
   "outputs": [
    {
     "data": {
      "image/png": "[encoded data removed]",
      "text/plain": [
       "<Figure size 1008x720 with 1 Axes>"
      ]
     },
     "metadata": {
      "needs_background": "light"
     },
     "output_type": "display_data"
    }
   ],
   "source": [
    "user_t = ['Subscriber', 'Customer']\n",
    "\n",
    "myCountPlotH(df_top_ten, 'start_station_name', 'user_type', hueOrder=user_t, palette = 'PuBu')\n",
    "\n",
    "# fig = plt.figure(figsize=(10,10))\n",
    "# fig.suptitle('count of user type per station' , fontsize=14)\n",
    "\n",
    "\n",
    "# sns.countplot(data=df_top_ten, y='start_station_name', hue='user_type')\n",
    "# plt.legend(loc='center left', bbox_to_anchor=(1,0.5))\n",
    "# plt.ylabel('Top 10 start Station Name')\n",
    "# plt.xlabel('Count');"
   ]
  },
  {
   "cell_type": "code",
   "execution_count": 78,
   "metadata": {},
   "outputs": [],
   "source": [
    "#### End station check"
   ]
  },
  {
   "cell_type": "code",
   "execution_count": 79,
   "metadata": {},
   "outputs": [
    {
     "data": {
      "image/png": "[encoded data removed]",
      "text/plain": [
       "<Figure size 1008x720 with 1 Axes>"
      ]
     },
     "metadata": {
      "needs_background": "light"
     },
     "output_type": "display_data"
    }
   ],
   "source": [
    "myCountPlotH(df_top_ten_2, 'end_station_name', 'user_type', hueOrder=user_t, palette = 'PuBu')\n",
    "\n",
    "\n",
    "# fig = plt.figure(figsize=(10,10))\n",
    "# fig.suptitle('count of user type per station' , fontsize=14)\n",
    "\n",
    "\n",
    "# sns.countplot(data=df_top_ten_2, y='end_station_name', hue='user_type')\n",
    "# plt.legend(loc='center left', bbox_to_anchor=(1,0.5))\n",
    "# plt.ylabel('Top 10 start Station Name')\n",
    "# plt.xlabel('Count');"
   ]
  },
  {
   "cell_type": "markdown",
   "metadata": {},
   "source": [
    "#### **Observation:** There are places with good high number of customers like San francisco Ferry building and the The Embarcadero at Sansome St "
   ]
  },
  {
   "cell_type": "markdown",
   "metadata": {},
   "source": [
    "##### \n",
    "*Generally, we know we have more subscribers than customers... but san fransisco seems to have a goog number of Customers compared to other stations. \n",
    "There could be reasons why"
   ]
  },
  {
   "cell_type": "code",
   "execution_count": null,
   "metadata": {},
   "outputs": [],
   "source": []
  },
  {
   "cell_type": "code",
   "execution_count": 80,
   "metadata": {},
   "outputs": [
    {
     "data": {
      "text/html": [
       "<div>\n",
       "<style scoped>\n",
       "    .dataframe tbody tr th:only-of-type {\n",
       "        vertical-align: middle;\n",
       "    }\n",
       "\n",
       "    .dataframe tbody tr th {\n",
       "        vertical-align: top;\n",
       "    }\n",
       "\n",
       "    .dataframe thead th {\n",
       "        text-align: right;\n",
       "    }\n",
       "</style>\n",
       "<table border=\"1\" class=\"dataframe\">\n",
       "  <thead>\n",
       "    <tr style=\"text-align: right;\">\n",
       "      <th></th>\n",
       "      <th>duration_sec</th>\n",
       "      <th>start_time</th>\n",
       "      <th>end_time</th>\n",
       "      <th>start_station_id</th>\n",
       "      <th>start_station_name</th>\n",
       "      <th>start_station_latitude</th>\n",
       "      <th>start_station_longitude</th>\n",
       "      <th>end_station_id</th>\n",
       "      <th>end_station_name</th>\n",
       "      <th>end_station_latitude</th>\n",
       "      <th>...</th>\n",
       "      <th>member_birth_year</th>\n",
       "      <th>member_gender</th>\n",
       "      <th>bike_share_for_all_trip</th>\n",
       "      <th>member_age</th>\n",
       "      <th>duration_time</th>\n",
       "      <th>start_month</th>\n",
       "      <th>start_hour</th>\n",
       "      <th>day_time</th>\n",
       "      <th>end_hour</th>\n",
       "      <th>return_time</th>\n",
       "    </tr>\n",
       "  </thead>\n",
       "  <tbody>\n",
       "    <tr>\n",
       "      <th>115748</th>\n",
       "      <td>695</td>\n",
       "      <td>2019-02-12 08:23:11.255</td>\n",
       "      <td>2019-02-12 08:34:46.544</td>\n",
       "      <td>109.0</td>\n",
       "      <td>17th St at Valencia St</td>\n",
       "      <td>37.76332</td>\n",
       "      <td>-122.42190</td>\n",
       "      <td>90.0</td>\n",
       "      <td>Townsend St at 7th St</td>\n",
       "      <td>37.77106</td>\n",
       "      <td>...</td>\n",
       "      <td>1989</td>\n",
       "      <td>Female</td>\n",
       "      <td>No</td>\n",
       "      <td>30</td>\n",
       "      <td>0:11:35</td>\n",
       "      <td>2</td>\n",
       "      <td>8</td>\n",
       "      <td>morning</td>\n",
       "      <td>8</td>\n",
       "      <td>morning</td>\n",
       "    </tr>\n",
       "    <tr>\n",
       "      <th>154149</th>\n",
       "      <td>721</td>\n",
       "      <td>2019-02-06 10:18:23.024</td>\n",
       "      <td>2019-02-06 10:30:24.873</td>\n",
       "      <td>22.0</td>\n",
       "      <td>Howard St at Beale St</td>\n",
       "      <td>37.78976</td>\n",
       "      <td>-122.39464</td>\n",
       "      <td>101.0</td>\n",
       "      <td>15th St at Potrero Ave</td>\n",
       "      <td>37.76708</td>\n",
       "      <td>...</td>\n",
       "      <td>1987</td>\n",
       "      <td>Male</td>\n",
       "      <td>No</td>\n",
       "      <td>32</td>\n",
       "      <td>0:12:01</td>\n",
       "      <td>2</td>\n",
       "      <td>10</td>\n",
       "      <td>morning</td>\n",
       "      <td>10</td>\n",
       "      <td>morning</td>\n",
       "    </tr>\n",
       "    <tr>\n",
       "      <th>14546</th>\n",
       "      <td>601</td>\n",
       "      <td>2019-02-27 11:58:42.986</td>\n",
       "      <td>2019-02-27 12:08:44.761</td>\n",
       "      <td>126.0</td>\n",
       "      <td>Esprit Park</td>\n",
       "      <td>37.76163</td>\n",
       "      <td>-122.39065</td>\n",
       "      <td>284.0</td>\n",
       "      <td>Yerba Buena Center for the Arts (Howard St at ...</td>\n",
       "      <td>37.78487</td>\n",
       "      <td>...</td>\n",
       "      <td>1989</td>\n",
       "      <td>Male</td>\n",
       "      <td>No</td>\n",
       "      <td>30</td>\n",
       "      <td>0:10:01</td>\n",
       "      <td>2</td>\n",
       "      <td>11</td>\n",
       "      <td>morning</td>\n",
       "      <td>12</td>\n",
       "      <td>morning</td>\n",
       "    </tr>\n",
       "  </tbody>\n",
       "</table>\n",
       "<p>3 rows × 23 columns</p>\n",
       "</div>"
      ],
      "text/plain": [
       "        duration_sec              start_time                end_time  \\\n",
       "115748           695 2019-02-12 08:23:11.255 2019-02-12 08:34:46.544   \n",
       "154149           721 2019-02-06 10:18:23.024 2019-02-06 10:30:24.873   \n",
       "14546            601 2019-02-27 11:58:42.986 2019-02-27 12:08:44.761   \n",
       "\n",
       "       start_station_id      start_station_name  start_station_latitude  \\\n",
       "115748            109.0  17th St at Valencia St                37.76332   \n",
       "154149             22.0   Howard St at Beale St                37.78976   \n",
       "14546             126.0             Esprit Park                37.76163   \n",
       "\n",
       "        start_station_longitude end_station_id  \\\n",
       "115748               -122.42190           90.0   \n",
       "154149               -122.39464          101.0   \n",
       "14546                -122.39065          284.0   \n",
       "\n",
       "                                         end_station_name  \\\n",
       "115748                              Townsend St at 7th St   \n",
       "154149                             15th St at Potrero Ave   \n",
       "14546   Yerba Buena Center for the Arts (Howard St at ...   \n",
       "\n",
       "        end_station_latitude  ...  member_birth_year member_gender  \\\n",
       "115748              37.77106  ...               1989        Female   \n",
       "154149              37.76708  ...               1987          Male   \n",
       "14546               37.78487  ...               1989          Male   \n",
       "\n",
       "       bike_share_for_all_trip  member_age duration_time start_month  \\\n",
       "115748                      No          30       0:11:35           2   \n",
       "154149                      No          32       0:12:01           2   \n",
       "14546                       No          30       0:10:01           2   \n",
       "\n",
       "        start_hour day_time  end_hour  return_time  \n",
       "115748           8  morning         8      morning  \n",
       "154149          10  morning        10      morning  \n",
       "14546           11  morning        12      morning  \n",
       "\n",
       "[3 rows x 23 columns]"
      ]
     },
     "execution_count": 80,
     "metadata": {},
     "output_type": "execute_result"
    }
   ],
   "source": [
    "df_new.sample(3)"
   ]
  },
  {
   "cell_type": "code",
   "execution_count": 81,
   "metadata": {},
   "outputs": [
    {
     "data": {
      "text/plain": [
       "Index(['duration_sec', 'start_time', 'end_time', 'start_station_id',\n",
       "       'start_station_name', 'start_station_latitude',\n",
       "       'start_station_longitude', 'end_station_id', 'end_station_name',\n",
       "       'end_station_latitude', 'end_station_longitude', 'bike_id', 'user_type',\n",
       "       'member_birth_year', 'member_gender', 'bike_share_for_all_trip',\n",
       "       'member_age', 'duration_time', 'start_month', 'start_hour', 'day_time',\n",
       "       'end_hour', 'return_time'],\n",
       "      dtype='object')"
      ]
     },
     "execution_count": 81,
     "metadata": {},
     "output_type": "execute_result"
    }
   ],
   "source": [
    "df_new.columns"
   ]
  },
  {
   "cell_type": "code",
   "execution_count": null,
   "metadata": {},
   "outputs": [],
   "source": []
  },
  {
   "cell_type": "code",
   "execution_count": null,
   "metadata": {},
   "outputs": [],
   "source": []
  },
  {
   "cell_type": "code",
   "execution_count": null,
   "metadata": {},
   "outputs": [],
   "source": []
  },
  {
   "cell_type": "markdown",
   "metadata": {},
   "source": [
    "## Multivariate \n",
    "<a id=\"cell175\"></a>\n"
   ]
  },
  {
   "cell_type": "markdown",
   "metadata": {},
   "source": [
    "### Another look into the number of rides per daytime"
   ]
  },
  {
   "cell_type": "code",
   "execution_count": 82,
   "metadata": {},
   "outputs": [
    {
     "data": {
      "text/plain": [
       "<Figure size 2016x720 with 0 Axes>"
      ]
     },
     "metadata": {},
     "output_type": "display_data"
    },
    {
     "data": {
      "image/png": "[encoded data removed]",
      "text/plain": [
       "<Figure size 1728x720 with 4 Axes>"
      ]
     },
     "metadata": {
      "needs_background": "light"
     },
     "output_type": "display_data"
    }
   ],
   "source": [
    "# g = sns.FacetGrid(data = df_top_ten, col = 'day_time', size = 7 );\n",
    "# g.map(sns.countplot, 'start_station_name');\n",
    "# g.set_xticklabels(rotation = 90, fontsize = 15)\n",
    "# plt.show()\n",
    "\n",
    "\n",
    "plt.figure(figsize=(28,10))\n",
    "g = sns.FacetGrid(data = df_top_ten, col = 'day_time', col_wrap=2);\n",
    "g.map(sns.countplot,'start_station_name', order = None);\n",
    "g.set_xticklabels(rotation = 90, fontsize = 15)\n",
    "g.fig.set_size_inches(24,10);\n",
    "plt.tight_layout();\n",
    "#plt.title('Facet look into the start station name, time and ride')"
   ]
  },
  {
   "cell_type": "markdown",
   "metadata": {},
   "source": [
    "####\n",
    "* more evident of how there are more rides in the morning and evening\n",
    "\n",
    "#### \n",
    "* So, the order is morning > evening > afternoon > night"
   ]
  },
  {
   "cell_type": "markdown",
   "metadata": {},
   "source": [
    "### checking for return_ride"
   ]
  },
  {
   "cell_type": "code",
   "execution_count": null,
   "metadata": {},
   "outputs": [],
   "source": []
  },
  {
   "cell_type": "code",
   "execution_count": 86,
   "metadata": {},
   "outputs": [
    {
     "name": "stderr",
     "output_type": "stream",
     "text": [
      "C:\\Users\\ilesanmi\\Anaconda3\\lib\\site-packages\\seaborn\\axisgrid.py:64: UserWarning: Tight layout not applied. tight_layout cannot make axes width small enough to accommodate all axes decorations\n",
      "  self.fig.tight_layout(*args, **kwargs)\n"
     ]
    },
    {
     "data": {
      "text/plain": [
       "<Figure size 2016x720 with 0 Axes>"
      ]
     },
     "metadata": {},
     "output_type": "display_data"
    },
    {
     "data": {
      "image/png": "[encoded data removed]",
      "text/plain": [
       "<Figure size 1728x720 with 4 Axes>"
      ]
     },
     "metadata": {
      "needs_background": "light"
     },
     "output_type": "display_data"
    }
   ],
   "source": [
    "\n",
    "plt.figure(figsize=(28,10))\n",
    "g = sns.FacetGrid(data = df_top_ten_2, col = 'day_time', col_wrap=2);\n",
    "g.map(sns.countplot,'end_station_name', order = None);\n",
    "g.set_xticklabels(rotation = 90, fontsize = 15)\n",
    "g.fig.set_size_inches(24,10);\n",
    "plt.tight_layout();"
   ]
  },
  {
   "cell_type": "markdown",
   "metadata": {},
   "source": [
    "#### **Observation:** \n",
    "* We see a great increase in the evening compared to morning\n",
    "* So the order is evening > morning > afternoon > night"
   ]
  },
  {
   "cell_type": "code",
   "execution_count": null,
   "metadata": {},
   "outputs": [],
   "source": []
  },
  {
   "cell_type": "code",
   "execution_count": null,
   "metadata": {},
   "outputs": [],
   "source": []
  },
  {
   "cell_type": "code",
   "execution_count": 84,
   "metadata": {},
   "outputs": [],
   "source": [
    "# Having done all of the necessary exploration"
   ]
  },
  {
   "cell_type": "markdown",
   "metadata": {},
   "source": [
    "# *Saving the dataframe for explanation*"
   ]
  },
  {
   "cell_type": "code",
   "execution_count": 85,
   "metadata": {},
   "outputs": [],
   "source": [
    "df_new.to_csv('cleaned_data.csv', index = False)"
   ]
  },
  {
   "cell_type": "code",
   "execution_count": null,
   "metadata": {},
   "outputs": [],
   "source": []
  }
 ],
 "metadata": {
  "hide_input": false,
  "kernelspec": {
   "display_name": "Python 3",
   "language": "python",
   "name": "python3"
  },
  "language_info": {
   "codemirror_mode": {
    "name": "ipython",
    "version": 3
   },
   "file_extension": ".py",
   "mimetype": "text/x-python",
   "name": "python",
   "nbconvert_exporter": "python",
   "pygments_lexer": "ipython3",
   "version": "3.8.8"
  },
  "vscode": {
   "interpreter": {
    "hash": "f1b1584471b4390c269948253bc0abe58a202cc753e11f035e3dc25ef1e1ef6e"
   }
  }
 },
 "nbformat": 4,
 "nbformat_minor": 2
}
